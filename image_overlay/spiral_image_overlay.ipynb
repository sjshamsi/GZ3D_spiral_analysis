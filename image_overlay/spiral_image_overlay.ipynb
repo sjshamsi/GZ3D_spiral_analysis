{
 "cells": [
  {
   "cell_type": "code",
   "execution_count": 1,
   "metadata": {},
   "outputs": [
    {
     "name": "stderr",
     "output_type": "stream",
     "text": [
      "/home/sshamsi/miniconda3/envs/marvin/lib/python3.7/site-packages/marvin/core/exceptions.py:51: UserWarning: cannot initiate Sentry error reporting: [Errno 25] Inappropriate ioctl for device.\n",
      "  UserWarning)\n"
     ]
    },
    {
     "name": "stdout",
     "output_type": "stream",
     "text": [
      "INFO: No release version set. Setting default to MPL-9\n"
     ]
    },
    {
     "name": "stderr",
     "output_type": "stream",
     "text": [
      "\n",
      "Bad key \"text.kerning_factor\" on line 4 in\n",
      "/home/sshamsi/miniconda3/envs/marvin/lib/python3.7/site-packages/matplotlib/mpl-data/stylelib/_classic_test_patch.mplstyle.\n",
      "You probably need to get an updated matplotlibrc file from\n",
      "https://github.com/matplotlib/matplotlib/blob/v3.1.3/matplotlibrc.template\n",
      "or from the matplotlib source distribution\n",
      "/home/sshamsi/miniconda3/envs/marvin/lib/python3.7/importlib/_bootstrap.py:219: RuntimeWarning: numpy.ufunc size changed, may indicate binary incompatibility. Expected 192 from C header, got 216 from PyObject\n",
      "  return f(*args, **kwds)\n",
      "/home/sshamsi/miniconda3/envs/marvin/lib/python3.7/importlib/_bootstrap.py:219: RuntimeWarning: numpy.ufunc size changed, may indicate binary incompatibility. Expected 192 from C header, got 216 from PyObject\n",
      "  return f(*args, **kwds)\n"
     ]
    }
   ],
   "source": [
    "from newer_Galaxy import SpiralGalaxy\n",
    "\n",
    "import matplotlib.pyplot as plt\n",
    "import numpy as np\n",
    "import pandas as pd"
   ]
  },
  {
   "cell_type": "code",
   "execution_count": 2,
   "metadata": {},
   "outputs": [
    {
     "name": "stderr",
     "output_type": "stream",
     "text": [
      "/home/sshamsi/miniconda3/envs/marvin/lib/python3.7/importlib/_bootstrap.py:219: RuntimeWarning: numpy.ufunc size changed, may indicate binary incompatibility. Expected 192 from C header, got 216 from PyObject\n",
      "  return f(*args, **kwds)\n",
      "/home/sshamsi/miniconda3/envs/marvin/lib/python3.7/site-packages/marvin/utils/general/general.py:1086: DeprecationWarning: np.asscalar(a) is deprecated since NumPy v1.16, use a.item() instead\n",
      "  value = np.asscalar(value)\n"
     ]
    }
   ],
   "source": [
    "path = '/home/sshamsi/sas/mangawork/manga/sandbox/galaxyzoo3d/v1_0_0/1-167242_127_5679242.fits.gz'\n",
    "gal = SpiralGalaxy(path)"
   ]
  },
  {
   "cell_type": "code",
   "execution_count": 3,
   "metadata": {},
   "outputs": [],
   "source": [
    "centre_mask = gal.data.center_mask\n",
    "star_mask = gal.data.star_mask\n",
    "spiral_mask = gal.data.spiral_mask\n",
    "bar_mask = gal.data.bar_mask"
   ]
  },
  {
   "cell_type": "code",
   "execution_count": 5,
   "metadata": {},
   "outputs": [
    {
     "data": {
      "text/plain": [
       "True"
      ]
     },
     "execution_count": 5,
     "metadata": {},
     "output_type": "execute_result"
    }
   ],
   "source": [
    "cv2.imwrite('gal_image.jpeg', gal.data.image, [cv2.IMWRITE_JPEG_QUALITY, 100])"
   ]
  },
  {
   "cell_type": "code",
   "execution_count": 6,
   "metadata": {},
   "outputs": [
    {
     "data": {
      "text/plain": [
       "True"
      ]
     },
     "execution_count": 6,
     "metadata": {},
     "output_type": "execute_result"
    }
   ],
   "source": [
    "image = cv2.imread('gal_image.jpeg')\n",
    "gray_image = cv2.cvtColor(image, cv2.COLOR_BGR2GRAY)\n",
    "\n",
    "cv2.imwrite('gal_image_grey.png', gray_image)"
   ]
  },
  {
   "cell_type": "code",
   "execution_count": 7,
   "metadata": {},
   "outputs": [
    {
     "data": {
      "text/plain": [
       "True"
      ]
     },
     "execution_count": 7,
     "metadata": {},
     "output_type": "execute_result"
    }
   ],
   "source": [
    "img_not = cv2.bitwise_not(gray_image)\n",
    "cv2.imwrite('gal_image_greY_inv.png', img_not)"
   ]
  },
  {
   "cell_type": "code",
   "execution_count": 20,
   "metadata": {},
   "outputs": [
    {
     "ename": "TypeError",
     "evalue": "Expected Ptr<cv::UMat> for argument 'img'",
     "output_type": "error",
     "traceback": [
      "\u001b[0;31m---------------------------------------------------------------------------\u001b[0m",
      "\u001b[0;31mTypeError\u001b[0m                                 Traceback (most recent call last)",
      "\u001b[0;32m<ipython-input-20-e83e06d03686>\u001b[0m in \u001b[0;36m<module>\u001b[0;34m\u001b[0m\n\u001b[0;32m----> 1\u001b[0;31m \u001b[0mcv2\u001b[0m\u001b[0;34m.\u001b[0m\u001b[0mimwrite\u001b[0m\u001b[0;34m(\u001b[0m\u001b[0;34m'mask.jpg'\u001b[0m\u001b[0;34m,\u001b[0m \u001b[0mspiral_mask\u001b[0m \u001b[0;34m>\u001b[0m \u001b[0;36m3\u001b[0m\u001b[0;34m)\u001b[0m\u001b[0;34m\u001b[0m\u001b[0;34m\u001b[0m\u001b[0m\n\u001b[0m",
      "\u001b[0;31mTypeError\u001b[0m: Expected Ptr<cv::UMat> for argument 'img'"
     ]
    }
   ],
   "source": [
    "cv2.imwrite('mask.jpg', spiral_mask > 3)"
   ]
  },
  {
   "cell_type": "code",
   "execution_count": 23,
   "metadata": {},
   "outputs": [],
   "source": [
    "mask_bounds = spiral_mask == 3"
   ]
  },
  {
   "cell_type": "code",
   "execution_count": 28,
   "metadata": {},
   "outputs": [],
   "source": [
    "grey_baby = np.zeros((525, 525))\n",
    "\n",
    "for i in range(525):\n",
    "    for j in range(525):\n",
    "        if mask_bounds[i, j]:\n",
    "            grey_baby[i, j] = 0\n",
    "        else:\n",
    "            grey_baby[i, j] = gray_image[i, j]"
   ]
  },
  {
   "cell_type": "code",
   "execution_count": 30,
   "metadata": {},
   "outputs": [
    {
     "data": {
      "text/plain": [
       "True"
      ]
     },
     "execution_count": 30,
     "metadata": {},
     "output_type": "execute_result"
    }
   ],
   "source": [
    "cv2.imwrite(\"test.png\", grey_baby)"
   ]
  },
  {
   "cell_type": "code",
   "execution_count": 31,
   "metadata": {},
   "outputs": [],
   "source": [
    "grey_baby = np.zeros((525, 525))\n",
    "\n",
    "for i in range(525):\n",
    "    for j in range(525):\n",
    "        if mask_bounds[i, j]:\n",
    "            grey_baby[i, j] = 0\n",
    "        else:\n",
    "            grey_baby[i, j] = gray_image[i, j]"
   ]
  },
  {
   "cell_type": "code",
   "execution_count": 24,
   "metadata": {
    "scrolled": true
   },
   "outputs": [
    {
     "name": "stdout",
     "output_type": "stream",
     "text": [
      "524 524 99\n",
      "524 524 98\n",
      "524 524 97\n",
      "524 524 96\n",
      "524 524 95\n",
      "524 524 94\n",
      "524 524 93\n",
      "524 524 92\n",
      "524 524 91\n",
      "524 524 90\n",
      "524 524 89\n",
      "524 524 88\n",
      "524 524 87\n",
      "524 524 86\n",
      "524 524 85\n",
      "524 524 84\n",
      "524 524 83\n",
      "524 524 82\n",
      "524 524 81\n",
      "524 524 80\n",
      "524 524 79\n",
      "524 524 78\n",
      "524 524 77\n",
      "524 524 76\n",
      "524 524 75\n",
      "524 524 74\n",
      "524 524 73\n",
      "524 524 72\n",
      "524 524 71\n",
      "524 524 70\n",
      "524 524 69\n",
      "524 524 68\n",
      "524 524 67\n",
      "524 524 66\n",
      "524 524 65\n",
      "524 524 64\n",
      "524 524 63\n",
      "524 524 62\n",
      "524 524 61\n",
      "524 524 60\n",
      "524 524 59\n",
      "524 524 58\n",
      "524 524 57\n",
      "524 524 56\n",
      "524 524 55\n",
      "524 524 54\n",
      "524 524 53\n",
      "524 524 52\n",
      "524 524 51\n",
      "524 524 50\n",
      "524 524 49\n",
      "524 524 48\n",
      "524 524 47\n",
      "524 524 46\n",
      "524 524 45\n",
      "524 524 44\n",
      "524 524 43\n",
      "524 524 42\n",
      "524 524 41\n",
      "524 524 40\n",
      "524 524 39\n",
      "524 524 38\n",
      "524 524 37\n",
      "524 524 36\n",
      "524 524 35\n",
      "524 524 34\n",
      "524 524 33\n",
      "524 524 32\n",
      "524 524 31\n",
      "524 524 30\n",
      "524 524 29\n",
      "524 524 28\n",
      "524 524 27\n",
      "524 524 26\n",
      "524 524 25\n",
      "524 524 24\n",
      "524 524 23\n",
      "524 524 22\n",
      "524 524 21\n",
      "524 524 20\n",
      "524 524 19\n",
      "524 524 18\n",
      "524 524 17\n",
      "524 524 16\n",
      "524 524 15\n",
      "524 524 14\n",
      "524 524 13\n",
      "524 524 12\n",
      "524 524 11\n",
      "524 524 10\n",
      "524 524 9\n",
      "524 524 8\n",
      "524 524 7\n",
      "524 524 6\n",
      "524 524 5\n",
      "524 524 4\n",
      "524 524 3\n",
      "524 524 2\n",
      "524 524 1\n",
      "524 524 0\n"
     ]
    }
   ],
   "source": [
    "img_arrays = []\n",
    "\n",
    "k = 100\n",
    "\n",
    "while (k > 0):\n",
    "    grey_baby = np.zeros((525, 525))\n",
    "    \n",
    "    for i in range(525):\n",
    "        for j in range(525):\n",
    "            if mask_bounds[i, j]:\n",
    "                grey_baby[i, j] = img_not[i, j] - ((k/100) * img_not[i, j])\n",
    "            else:\n",
    "                grey_baby[i, j] = img_not[i, j]\n",
    "    \n",
    "    img_arrays.append(grey_baby)\n",
    "    k = k - 1\n",
    "    print(i, j, k)"
   ]
  },
  {
   "cell_type": "code",
   "execution_count": 25,
   "metadata": {},
   "outputs": [],
   "source": [
    "img_arrays = np.array(img_arrays)"
   ]
  },
  {
   "cell_type": "code",
   "execution_count": 26,
   "metadata": {},
   "outputs": [
    {
     "data": {
      "text/plain": [
       "(100, 525, 525)"
      ]
     },
     "execution_count": 26,
     "metadata": {},
     "output_type": "execute_result"
    }
   ],
   "source": [
    "img_arrays.shape"
   ]
  },
  {
   "cell_type": "code",
   "execution_count": 27,
   "metadata": {},
   "outputs": [],
   "source": [
    "j = 0\n",
    "\n",
    "for img in img_arrays:\n",
    "    cv2.imwrite('gif_images/' + str(j) + '.png', img)\n",
    "    j += 1"
   ]
  },
  {
   "cell_type": "code",
   "execution_count": 62,
   "metadata": {},
   "outputs": [],
   "source": [
    "import imageio\n",
    "\n",
    "images = []\n",
    "for i in range(100):\n",
    "    images.append(imageio.imread('gif_images/' + str(i) + '.png'))\n",
    "    \n",
    "rev_imgs = images[1:][::-1]\n",
    "images = images + rev_imgs\n",
    "\n",
    "imageio.mimsave('movie.gif', images, duration=0.04)"
   ]
  },
  {
   "cell_type": "code",
   "execution_count": 52,
   "metadata": {},
   "outputs": [],
   "source": [
    "frames[0].save('moving_ball.gif', format='GIF', append_images=frames[1:], save_all=True, fps=1)"
   ]
  },
  {
   "cell_type": "code",
   "execution_count": 50,
   "metadata": {},
   "outputs": [
    {
     "data": {
      "text/plain": [
       "100"
      ]
     },
     "execution_count": 50,
     "metadata": {},
     "output_type": "execute_result"
    }
   ],
   "source": [
    "len(frames)"
   ]
  },
  {
   "cell_type": "code",
   "execution_count": 59,
   "metadata": {},
   "outputs": [
    {
     "data": {
      "text/plain": [
       "[5, 3, 2, 1]"
      ]
     },
     "execution_count": 59,
     "metadata": {},
     "output_type": "execute_result"
    }
   ],
   "source": [
    "lst = [1,2,3,5]\n",
    "\n",
    "lst[::-1]"
   ]
  },
  {
   "cell_type": "code",
   "execution_count": 20,
   "metadata": {},
   "outputs": [],
   "source": [
    "l1 = np.array([[True, True, False, False],\n",
    "               [False, False, True, True]])\n",
    "\n",
    "l2 = np.array([[True, False, True, False],\n",
    "               [False, True, False, True]])"
   ]
  },
  {
   "cell_type": "code",
   "execution_count": 21,
   "metadata": {},
   "outputs": [
    {
     "data": {
      "text/plain": [
       "array([[ True,  True, False, False],\n",
       "       [False, False,  True,  True]])"
      ]
     },
     "execution_count": 21,
     "metadata": {},
     "output_type": "execute_result"
    }
   ],
   "source": [
    "l1"
   ]
  },
  {
   "cell_type": "code",
   "execution_count": 22,
   "metadata": {},
   "outputs": [
    {
     "data": {
      "text/plain": [
       "array([[ True, False,  True, False],\n",
       "       [False,  True, False,  True]])"
      ]
     },
     "execution_count": 22,
     "metadata": {},
     "output_type": "execute_result"
    }
   ],
   "source": [
    "l2"
   ]
  },
  {
   "cell_type": "code",
   "execution_count": 23,
   "metadata": {},
   "outputs": [
    {
     "data": {
      "text/plain": [
       "array([[ True, False, False, False],\n",
       "       [False, False, False,  True]])"
      ]
     },
     "execution_count": 23,
     "metadata": {},
     "output_type": "execute_result"
    }
   ],
   "source": [
    "l1 & l2"
   ]
  },
  {
   "cell_type": "code",
   "execution_count": 28,
   "metadata": {},
   "outputs": [],
   "source": [
    "l3 = np.array([[3.44, 756, 8.98546, 75],\n",
    "               [54.76, 74, 954.09, 75]])"
   ]
  },
  {
   "cell_type": "code",
   "execution_count": 29,
   "metadata": {},
   "outputs": [
    {
     "data": {
      "text/plain": [
       "array([[  3.44, 756.  ,   0.  ,   0.  ],\n",
       "       [  0.  ,   0.  , 954.09,  75.  ]])"
      ]
     },
     "execution_count": 29,
     "metadata": {},
     "output_type": "execute_result"
    }
   ],
   "source": [
    "l3 * l1"
   ]
  },
  {
   "cell_type": "code",
   "execution_count": null,
   "metadata": {},
   "outputs": [],
   "source": []
  }
 ],
 "metadata": {
  "kernelspec": {
   "display_name": "Python 3",
   "language": "python",
   "name": "python3"
  },
  "language_info": {
   "codemirror_mode": {
    "name": "ipython",
    "version": 3
   },
   "file_extension": ".py",
   "mimetype": "text/x-python",
   "name": "python",
   "nbconvert_exporter": "python",
   "pygments_lexer": "ipython3",
   "version": "3.8.5"
  }
 },
 "nbformat": 4,
 "nbformat_minor": 2
}
