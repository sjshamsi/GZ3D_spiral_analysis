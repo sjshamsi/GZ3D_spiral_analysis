{
 "cells": [
  {
   "cell_type": "markdown",
   "metadata": {},
   "source": [
    "# We're going to compare the two binning methods for all of our galaxies."
   ]
  },
  {
   "cell_type": "markdown",
   "metadata": {},
   "source": [
    "Let's import all the necessary modules and then make a list of usable FITS file paths "
   ]
  },
  {
   "cell_type": "code",
   "execution_count": 46,
   "metadata": {},
   "outputs": [],
   "source": [
    "from new_Galaxy import SpiralGalaxy as SG1\n",
    "from newer_Galaxy import SpiralGalaxy as SG2"
   ]
  },
  {
   "cell_type": "code",
   "execution_count": 47,
   "metadata": {},
   "outputs": [],
   "source": [
    "import os\n",
    "import matplotlib.pyplot as plt\n",
    "import pandas as pd\n",
    "import numpy as np"
   ]
  },
  {
   "cell_type": "code",
   "execution_count": 48,
   "metadata": {},
   "outputs": [],
   "source": [
    "plt.style.use('seaborn')\n",
    "plt.style.use('seaborn-colorblind')"
   ]
  },
  {
   "cell_type": "code",
   "execution_count": 49,
   "metadata": {},
   "outputs": [],
   "source": [
    "usable_paths = np.load('usable_path_list.npy')[::4]"
   ]
  },
  {
   "cell_type": "code",
   "execution_count": 50,
   "metadata": {},
   "outputs": [
    {
     "data": {
      "text/plain": [
       "39"
      ]
     },
     "execution_count": 50,
     "metadata": {},
     "output_type": "execute_result"
    }
   ],
   "source": [
    "len(usable_paths)"
   ]
  },
  {
   "cell_type": "markdown",
   "metadata": {},
   "source": [
    "Let us now compare both the binning methods."
   ]
  },
  {
   "cell_type": "code",
   "execution_count": 51,
   "metadata": {},
   "outputs": [
    {
     "name": "stderr",
     "output_type": "stream",
     "text": [
      "/homes/sshamsi/.local/lib/python3.5/site-packages/marvin/tools/maps.py:272: MarvinUserWarning: mismatch between file version=DR15 and object release=MPL-7. Setting object release to DR15\n",
      "  marvin.core.exceptions.MarvinUserWarning)\n"
     ]
    }
   ],
   "source": [
    "gal_list1 = []\n",
    "\n",
    "for path in usable_paths:\n",
    "    gal_list1.append(SG1(path))\n",
    "    \n",
    "    \n",
    "gal_list2 = []\n",
    "\n",
    "for path in usable_paths:\n",
    "    gal_list2.append(SG2(path))"
   ]
  },
  {
   "cell_type": "code",
   "execution_count": 52,
   "metadata": {},
   "outputs": [
    {
     "name": "stderr",
     "output_type": "stream",
     "text": [
      "/raid5/homes/sshamsi/galaxy_zoo/GZ3D_spiral_analysis/new_Galaxy.py:134: RuntimeWarning: invalid value encountered in double_scalars\n",
      "  x['SFR'] = (self.delta * (ha_flux**3.36) * (hb_flux**-2.36)) / self.spax_area\n"
     ]
    }
   ],
   "source": [
    "for gal in gal_list1:\n",
    "    gal.form_global_df()\n",
    "    \n",
    "for gal in gal_list2:\n",
    "    gal.form_global_df()"
   ]
  },
  {
   "cell_type": "code",
   "execution_count": 53,
   "metadata": {},
   "outputs": [],
   "source": [
    "for gal in gal_list1:\n",
    "    map_ha = gal.maps.getMap('emline_gflux', channel='ha_6564')\n",
    "    map_hb = gal.maps.getMap('emline_gflux', channel='hb_4862')\n",
    "\n",
    "    ha_snr = map_ha.snr.flatten()\n",
    "    hb_snr = map_hb.snr.flatten()\n",
    "\n",
    "    gal.df['S/N $H_{\\\\alpha}$'] = ha_snr\n",
    "    gal.df['S/N $H_{\\\\beta}$'] = hb_snr"
   ]
  },
  {
   "cell_type": "code",
   "execution_count": 54,
   "metadata": {},
   "outputs": [],
   "source": [
    "for gal in gal_list2:\n",
    "    map_ha = gal.maps.getMap('emline_gflux', channel='ha_6564')\n",
    "    map_hb = gal.maps.getMap('emline_gflux', channel='hb_4862')\n",
    "\n",
    "    ha_snr = map_ha.snr.flatten()\n",
    "    hb_snr = map_hb.snr.flatten()\n",
    "\n",
    "    gal.df['S/N $H_{\\\\alpha}$'] = ha_snr\n",
    "    gal.df['S/N $H_{\\\\beta}$'] = hb_snr"
   ]
  },
  {
   "cell_type": "code",
   "execution_count": 55,
   "metadata": {},
   "outputs": [],
   "source": [
    "avg_sfr1 = []\n",
    "avg_sfr_stdv1 = []\n",
    "\n",
    "avg_sfr_spiral1 = []\n",
    "avg_sfr_stdv_spiral1 = []\n",
    "\n",
    "avg_sfr_nspiral1 = []\n",
    "avg_sfr_stdv_nspiral1 = []\n",
    "\n",
    "for gal in gal_list1:\n",
    "    df = gal.df\n",
    "    \n",
    "    df = df.dropna()\n",
    "    df = df[(df['$r/r_e$'] <= 1) & (df['$r/r_e$'] >= 0.1)]\n",
    "    df = df[(df.Comp == 0) & (df.AGN == 0) & (df.Seyfert == 0) & (df.Liner == 0)]\n",
    "    df = df[(df['S/N $H_{\\\\alpha}$'] >= 3) & (df['S/N $H_{\\\\beta}$'] >= 3)]\n",
    "    \n",
    "    df_spiral = df[df['Spiral Arm'] == 1]\n",
    "    df_nspiral = df[df['Spiral Arm'] == 0]\n",
    "    \n",
    "    sfr = df.SFR.mean()\n",
    "    sfr_stdv = np.sqrt(gal.get_var(df.index, mode='sfr', avg=True))\n",
    "    \n",
    "    sfr_spiral = df_spiral.SFR.mean()\n",
    "    sfr_stdv_spiral = np.sqrt(gal.get_var(df_spiral.index, mode='sfr', avg=True))\n",
    "    \n",
    "    sfr_nspiral = df_nspiral.SFR.mean()\n",
    "    sfr_stdv_nspiral = np.sqrt(gal.get_var(df_nspiral.index, mode='sfr', avg=True))\n",
    "    \n",
    "    avg_sfr1.append(sfr)\n",
    "    avg_sfr_stdv1.append(sfr_stdv)\n",
    "    \n",
    "    avg_sfr_spiral1.append(sfr_spiral)\n",
    "    avg_sfr_stdv_spiral1.append(sfr_stdv_spiral)\n",
    "\n",
    "    avg_sfr_nspiral1.append(sfr_nspiral)\n",
    "    avg_sfr_stdv_nspiral1.append(sfr_stdv_nspiral)"
   ]
  },
  {
   "cell_type": "code",
   "execution_count": 56,
   "metadata": {
    "scrolled": true
   },
   "outputs": [
    {
     "name": "stderr",
     "output_type": "stream",
     "text": [
      "/raid5/homes/sshamsi/galaxy_zoo/GZ3D_spiral_analysis/newer_Galaxy.py:246: RuntimeWarning: invalid value encountered in double_scalars\n",
      "  return summ / n, np.sqrt(var / (n**2))\n"
     ]
    }
   ],
   "source": [
    "avg_sfr2 = []\n",
    "avg_sfr_stdv2 = []\n",
    "\n",
    "avg_sfr_spiral2 = []\n",
    "avg_sfr_stdv_spiral2 = []\n",
    "\n",
    "avg_sfr_nspiral2 = []\n",
    "avg_sfr_stdv_nspiral2 = []\n",
    "\n",
    "for gal in gal_list2:\n",
    "    df = gal.df\n",
    "    \n",
    "    df = df.dropna()\n",
    "    df = df[(df['$r/r_e$'] <= 1) & (df['$r/r_e$'] >= 0.1)]\n",
    "    df = df[(df.Comp == 0) & (df.AGN == 0) & (df.Seyfert == 0) & (df.Liner == 0)]\n",
    "    df = df[(df['S/N $H_{\\\\alpha}$'] >= 3) & (df['S/N $H_{\\\\beta}$'] >= 3)]\n",
    "    \n",
    "    df_spiral = df[df['Spiral Arm'] == 1]\n",
    "    df_nspiral = df[df['Spiral Arm'] == 0]\n",
    "    \n",
    "    sfr, sfr_stdv = gal.get_sfr(df.index, avg=True)\n",
    "    sfr_spiral, sfr_stdv_spiral = gal.get_sfr(df_spiral.index, avg=True)\n",
    "    sfr_nspiral, sfr_stdv_nspiral = gal.get_sfr(df_nspiral.index, avg=True)\n",
    "    \n",
    "    avg_sfr2.append(sfr)\n",
    "    avg_sfr_stdv2.append(sfr_stdv)\n",
    "    \n",
    "    avg_sfr_spiral2.append(sfr_spiral)\n",
    "    avg_sfr_stdv_spiral2.append(sfr_stdv_spiral)\n",
    "\n",
    "    avg_sfr_nspiral2.append(sfr_nspiral)\n",
    "    avg_sfr_stdv_nspiral2.append(sfr_stdv_nspiral)"
   ]
  },
  {
   "cell_type": "code",
   "execution_count": 57,
   "metadata": {},
   "outputs": [],
   "source": [
    "x_array = np.arange(len(usable_paths))"
   ]
  },
  {
   "cell_type": "code",
   "execution_count": 58,
   "metadata": {},
   "outputs": [],
   "source": [
    "diff_sfr = np.subtract(avg_sfr1, avg_sfr2)\n",
    "diff_sfr_spiral = np.subtract(avg_sfr_spiral1, avg_sfr_spiral2)\n",
    "diff_sfr_nspiral = np.subtract(avg_sfr_nspiral1, avg_sfr_nspiral2)"
   ]
  },
  {
   "cell_type": "code",
   "execution_count": 59,
   "metadata": {},
   "outputs": [],
   "source": [
    "diff_sfr_stdv = np.subtract(avg_sfr_stdv1, avg_sfr_stdv2)\n",
    "diff_sfr_stdv_spiral = np.subtract(avg_sfr_stdv_spiral1, avg_sfr_stdv_spiral2)\n",
    "diff_sfr_stdv_nspiral = np.subtract(avg_sfr_stdv_nspiral1, avg_sfr_stdv_nspiral2)"
   ]
  },
  {
   "cell_type": "code",
   "execution_count": 60,
   "metadata": {},
   "outputs": [],
   "source": [
    "def err_touples(errs):\n",
    "    loerrs = []\n",
    "    hierrs = []\n",
    "    \n",
    "    for err in errs:\n",
    "        if err < 0:\n",
    "            loerrs.append(abs(err))\n",
    "            hierrs.append(0)\n",
    "        else:\n",
    "            loerrs.append(0)\n",
    "            hierrs.append(abs(err))\n",
    "            \n",
    "    loerrs = tuple(loerrs)\n",
    "    hierrs = tuple(hierrs)\n",
    "    \n",
    "    return [loerrs, hierrs]"
   ]
  },
  {
   "cell_type": "code",
   "execution_count": 61,
   "metadata": {},
   "outputs": [],
   "source": [
    "diff_sfr_stdvt = err_touples(diff_sfr_stdv)\n",
    "diff_sfr_stdv_spiralt = err_touples(diff_sfr_stdv_spiral)\n",
    "diff_sfr_stdv_nspiralt = err_touples(diff_sfr_stdv_nspiral)"
   ]
  },
  {
   "cell_type": "code",
   "execution_count": 62,
   "metadata": {},
   "outputs": [
    {
     "data": {
      "text/plain": [
       "<matplotlib.legend.Legend at 0x7f191df91e10>"
      ]
     },
     "execution_count": 62,
     "metadata": {},
     "output_type": "execute_result"
    },
    {
     "data": {
      "image/png": "[encoded data removed]",
      "text/plain": [
       "<Figure size 864x576 with 1 Axes>"
      ]
     },
     "metadata": {},
     "output_type": "display_data"
    }
   ],
   "source": [
    "plt.figure(figsize=(12,8))\n",
    "\n",
    "plt.scatter(diff_sfr_stdv, diff_sfr, marker='.', label='Total SFR')\n",
    "plt.scatter(diff_sfr_stdv_spiral, diff_sfr_spiral, marker='o', label='Spiral Arm SFR')\n",
    "plt.scatter(diff_sfr_stdv_nspiral, diff_sfr_nspiral, marker='x', label='Outside Spiral SFR')\n",
    "\n",
    "plt.xlabel(r'$\\sigma SFR_1 - \\sigma SFR_2$', size=20)\n",
    "plt.ylabel(r'$SFR_1 - SFR_2$', size=20)\n",
    "\n",
    "plt.xticks(size=15)\n",
    "plt.yticks(size=15)\n",
    "\n",
    "plt.legend(fontsize=15)"
   ]
  },
  {
   "cell_type": "code",
   "execution_count": 30,
   "metadata": {},
   "outputs": [
    {
     "data": {
      "text/plain": [
       "nan"
      ]
     },
     "execution_count": 30,
     "metadata": {},
     "output_type": "execute_result"
    }
   ],
   "source": [
    "diff_sfr_stdv_spiral[14]"
   ]
  },
  {
   "cell_type": "code",
   "execution_count": 23,
   "metadata": {},
   "outputs": [
    {
     "data": {
      "text/plain": [
       "array([0.01428248, 0.0022302 , 0.01694529, 0.01022542, 0.00860988,\n",
       "       0.00521124, 0.00590206, 0.00638783, 0.01058034, 0.00697675,\n",
       "       0.00965845, 0.02909215, 0.0021563 , 0.00831575, 0.01517158,\n",
       "       0.01212034, 0.01828541, 0.03035253, 0.01039147, 0.00647698])"
      ]
     },
     "execution_count": 23,
     "metadata": {},
     "output_type": "execute_result"
    }
   ],
   "source": []
  },
  {
   "cell_type": "code",
   "execution_count": 29,
   "metadata": {},
   "outputs": [],
   "source": [
    "l1 = [1,2,3,4]\n",
    "l2 = [-1, 6, 7, 0]"
   ]
  },
  {
   "cell_type": "code",
   "execution_count": 30,
   "metadata": {},
   "outputs": [
    {
     "data": {
      "text/plain": [
       "array([ 2, -4, -4,  4])"
      ]
     },
     "execution_count": 30,
     "metadata": {},
     "output_type": "execute_result"
    }
   ],
   "source": [
    "np.subtract(l1, l2)"
   ]
  },
  {
   "cell_type": "code",
   "execution_count": 33,
   "metadata": {},
   "outputs": [],
   "source": [
    "fo0 = (1, 2, 5, 6, 7, -9)"
   ]
  },
  {
   "cell_type": "code",
   "execution_count": 35,
   "metadata": {},
   "outputs": [
    {
     "data": {
      "text/plain": [
       "tuple"
      ]
     },
     "execution_count": 35,
     "metadata": {},
     "output_type": "execute_result"
    }
   ],
   "source": [
    "type(fo0)"
   ]
  },
  {
   "cell_type": "code",
   "execution_count": 121,
   "metadata": {},
   "outputs": [],
   "source": [
    "avg_s2n = []\n",
    "\n",
    "for gal in gal_list1:\n",
    "    df = gal.df.dropna()\n",
    "    df = df[(df['$r/r_e$'] <= 1) & (df['$r/r_e$'] >= 0.1)]\n",
    "    df = df[(df.Comp == 0) & (df.AGN == 0) & (df.Seyfert == 0) & (df.Liner == 0)]\n",
    "    df = df[(df['S/N $H_{\\\\alpha}$'] >= 3) & (df['S/N $H_{\\\\beta}$'] >= 3)]\n",
    "    \n",
    "    s2n = df['S/N $H_{\\\\alpha}$'].mean()\n",
    "    avg_s2n.append(s2n)"
   ]
  },
  {
   "cell_type": "code",
   "execution_count": 122,
   "metadata": {
    "scrolled": true
   },
   "outputs": [],
   "source": [
    "avg_s2n = np.array(avg_s2n)"
   ]
  },
  {
   "cell_type": "code",
   "execution_count": 123,
   "metadata": {},
   "outputs": [
    {
     "data": {
      "text/plain": [
       "array([33, 28, 34, 13, 22, 31, 27, 23, 16, 14,  6,  4, 11, 21, 20, 30,  5,\n",
       "       35, 29, 32,  0, 26,  9, 17, 37, 25, 10,  3, 36,  8, 19, 18, 12, 15,\n",
       "       38, 24,  2,  7,  1])"
      ]
     },
     "execution_count": 123,
     "metadata": {},
     "output_type": "execute_result"
    }
   ],
   "source": [
    "np.argsort(diff_sfr_stdv)"
   ]
  },
  {
   "cell_type": "code",
   "execution_count": 124,
   "metadata": {},
   "outputs": [],
   "source": [
    "avg_s2n_sorted = avg_s2n[np.argsort(diff_sfr_stdv)]"
   ]
  },
  {
   "cell_type": "code",
   "execution_count": 125,
   "metadata": {},
   "outputs": [
    {
     "data": {
      "text/plain": [
       "array([ 12.249993,  65.06142 ,  29.938967,  15.953802, 207.2972  ,\n",
       "       424.01974 , 150.64845 , 147.82632 ,  95.68584 ,  72.07729 ,\n",
       "        58.94358 , 211.30635 ,  53.4173  ,  92.86558 , 104.56988 ,\n",
       "       123.6296  , 101.205956,  63.01643 ,  47.862503,  89.83793 ,\n",
       "        37.200314,  22.872442,  67.203156,  93.99104 ,  86.77586 ,\n",
       "        42.843445,  74.208755,  76.93641 ,  26.596018, 115.7586  ,\n",
       "        79.52919 ,  76.164986,  45.17286 ,  34.21058 ,  28.138796,\n",
       "        28.850674,  40.87394 ,  49.01407 ,  57.442898], dtype=float32)"
      ]
     },
     "execution_count": 125,
     "metadata": {},
     "output_type": "execute_result"
    }
   ],
   "source": [
    "avg_s2n_sorted"
   ]
  },
  {
   "cell_type": "code",
   "execution_count": 129,
   "metadata": {},
   "outputs": [
    {
     "data": {
      "text/plain": [
       "Text(0, 0.5, 'S/N $H_{\\\\alpha}$')"
      ]
     },
     "execution_count": 129,
     "metadata": {},
     "output_type": "execute_result"
    },
    {
     "data": {
      "image/png": "[encoded data removed]",
      "text/plain": [
       "<Figure size 576x396 with 1 Axes>"
      ]
     },
     "metadata": {},
     "output_type": "display_data"
    }
   ],
   "source": [
    "plt.scatter(diff_sfr_stdv, avg_s2n_sorted)\n",
    "plt.xlabel('$\\sigma SFR_1 - \\sigma SFR_2$')\n",
    "plt.ylabel('S/N $H_{\\\\alpha}$')"
   ]
  },
  {
   "cell_type": "code",
   "execution_count": 32,
   "metadata": {},
   "outputs": [
    {
     "data": {
      "text/plain": [
       "nan"
      ]
     },
     "execution_count": 32,
     "metadata": {},
     "output_type": "execute_result"
    }
   ],
   "source": [
    "avg_sfr_spiral2[14]"
   ]
  },
  {
   "cell_type": "code",
   "execution_count": 33,
   "metadata": {},
   "outputs": [
    {
     "data": {
      "text/plain": [
       "nan"
      ]
     },
     "execution_count": 33,
     "metadata": {},
     "output_type": "execute_result"
    }
   ],
   "source": [
    "avg_sfr_spiral2[14]"
   ]
  },
  {
   "cell_type": "code",
   "execution_count": 34,
   "metadata": {},
   "outputs": [],
   "source": [
    "foo = gal_list1[14].df"
   ]
  },
  {
   "cell_type": "code",
   "execution_count": 40,
   "metadata": {},
   "outputs": [
    {
     "data": {
      "text/html": [
       "<div>\n",
       "<style scoped>\n",
       "    .dataframe tbody tr th:only-of-type {\n",
       "        vertical-align: middle;\n",
       "    }\n",
       "\n",
       "    .dataframe tbody tr th {\n",
       "        vertical-align: top;\n",
       "    }\n",
       "\n",
       "    .dataframe thead th {\n",
       "        text-align: right;\n",
       "    }\n",
       "</style>\n",
       "<table border=\"1\" class=\"dataframe\">\n",
       "  <thead>\n",
       "    <tr style=\"text-align: right;\">\n",
       "      <th></th>\n",
       "      <th>Radius</th>\n",
       "      <th>$H_{\\alpha}$</th>\n",
       "      <th>$\\sigma H_{\\alpha}$</th>\n",
       "      <th>$H_{\\beta}$</th>\n",
       "      <th>$\\sigma H_{\\beta}$</th>\n",
       "      <th>Comp</th>\n",
       "      <th>AGN</th>\n",
       "      <th>Seyfert</th>\n",
       "      <th>Liner</th>\n",
       "      <th>SFR</th>\n",
       "      <th>$\\sigma$SFR</th>\n",
       "      <th>$r/r_e$</th>\n",
       "      <th>Spiral Arm</th>\n",
       "      <th>S/N $H_{\\alpha}$</th>\n",
       "      <th>S/N $H_{\\beta}$</th>\n",
       "    </tr>\n",
       "  </thead>\n",
       "  <tbody>\n",
       "    <tr>\n",
       "      <th>1697</th>\n",
       "      <td>9.571346</td>\n",
       "      <td>1.346869</td>\n",
       "      <td>0.048227</td>\n",
       "      <td>0.252203</td>\n",
       "      <td>0.034770</td>\n",
       "      <td>0.0</td>\n",
       "      <td>0.0</td>\n",
       "      <td>0.0</td>\n",
       "      <td>0.0</td>\n",
       "      <td>0.009998</td>\n",
       "      <td>0.003468</td>\n",
       "      <td>1.093678</td>\n",
       "      <td>True</td>\n",
       "      <td>27.927942</td>\n",
       "      <td>7.253362</td>\n",
       "    </tr>\n",
       "    <tr>\n",
       "      <th>1766</th>\n",
       "      <td>9.796820</td>\n",
       "      <td>1.520246</td>\n",
       "      <td>0.041626</td>\n",
       "      <td>0.359849</td>\n",
       "      <td>0.032927</td>\n",
       "      <td>0.0</td>\n",
       "      <td>0.0</td>\n",
       "      <td>0.0</td>\n",
       "      <td>0.0</td>\n",
       "      <td>0.006491</td>\n",
       "      <td>0.001524</td>\n",
       "      <td>1.119442</td>\n",
       "      <td>True</td>\n",
       "      <td>36.521412</td>\n",
       "      <td>10.928587</td>\n",
       "    </tr>\n",
       "    <tr>\n",
       "      <th>1767</th>\n",
       "      <td>10.434542</td>\n",
       "      <td>1.559066</td>\n",
       "      <td>0.037422</td>\n",
       "      <td>0.306837</td>\n",
       "      <td>0.028148</td>\n",
       "      <td>0.0</td>\n",
       "      <td>0.0</td>\n",
       "      <td>0.0</td>\n",
       "      <td>0.0</td>\n",
       "      <td>0.010291</td>\n",
       "      <td>0.002378</td>\n",
       "      <td>1.192312</td>\n",
       "      <td>True</td>\n",
       "      <td>41.661259</td>\n",
       "      <td>10.900749</td>\n",
       "    </tr>\n",
       "  </tbody>\n",
       "</table>\n",
       "</div>"
      ],
      "text/plain": [
       "         Radius  $H_{\\alpha}$  $\\sigma H_{\\alpha}$  $H_{\\beta}$  \\\n",
       "1697   9.571346      1.346869             0.048227     0.252203   \n",
       "1766   9.796820      1.520246             0.041626     0.359849   \n",
       "1767  10.434542      1.559066             0.037422     0.306837   \n",
       "\n",
       "      $\\sigma H_{\\beta}$  Comp  AGN  Seyfert  Liner       SFR  $\\sigma$SFR  \\\n",
       "1697            0.034770   0.0  0.0      0.0    0.0  0.009998     0.003468   \n",
       "1766            0.032927   0.0  0.0      0.0    0.0  0.006491     0.001524   \n",
       "1767            0.028148   0.0  0.0      0.0    0.0  0.010291     0.002378   \n",
       "\n",
       "       $r/r_e$  Spiral Arm  S/N $H_{\\alpha}$  S/N $H_{\\beta}$  \n",
       "1697  1.093678        True         27.927942         7.253362  \n",
       "1766  1.119442        True         36.521412        10.928587  \n",
       "1767  1.192312        True         41.661259        10.900749  "
      ]
     },
     "execution_count": 40,
     "metadata": {},
     "output_type": "execute_result"
    }
   ],
   "source": [
    "foo[(foo['Spiral Arm'] == 1) & (foo['$r/r_e$'] < 1.2)]"
   ]
  },
  {
   "cell_type": "code",
   "execution_count": 38,
   "metadata": {},
   "outputs": [
    {
     "data": {
      "text/plain": [
       "(<Figure size 576x396 with 2 Axes>,\n",
       " <matplotlib.axes._subplots.AxesSubplot at 0x7f190a0f03c8>)"
      ]
     },
     "execution_count": 38,
     "metadata": {},
     "output_type": "execute_result"
    },
    {
     "data": {
      "image/png": "[encoded data removed]",
      "text/plain": [
       "<Figure size 576x396 with 2 Axes>"
      ]
     },
     "metadata": {},
     "output_type": "display_data"
    }
   ],
   "source": [
    "gal_list1[14].hamap.plot()"
   ]
  },
  {
   "cell_type": "code",
   "execution_count": 41,
   "metadata": {},
   "outputs": [],
   "source": [
    "gal = gal_list2[14]"
   ]
  },
  {
   "cell_type": "code",
   "execution_count": 42,
   "metadata": {},
   "outputs": [],
   "source": [
    "gal.arms_spaxel_mask = gal.data.spiral_mask_spaxel > 3\n",
    "gal.bar_spaxel_mask = gal.data.bar_mask_spaxel > 3"
   ]
  },
  {
   "cell_type": "code",
   "execution_count": 43,
   "metadata": {},
   "outputs": [],
   "source": [
    "common_spaxels = np.bitwise_and(gal.arms_spaxel_mask, gal.bar_spaxel_mask)\n",
    "spiral_mask = np.bitwise_and(gal.arms_spaxel_mask, ~common_spaxels)"
   ]
  },
  {
   "cell_type": "code",
   "execution_count": 44,
   "metadata": {},
   "outputs": [
    {
     "data": {
      "text/plain": [
       "array([[False, False, False, ..., False, False, False],\n",
       "       [False, False, False, ..., False, False, False],\n",
       "       [False, False, False, ..., False, False, False],\n",
       "       ...,\n",
       "       [False, False, False, ..., False, False, False],\n",
       "       [False, False, False, ..., False, False, False],\n",
       "       [False, False, False, ..., False, False, False]])"
      ]
     },
     "execution_count": 44,
     "metadata": {},
     "output_type": "execute_result"
    }
   ],
   "source": [
    "spiral_mask"
   ]
  },
  {
   "cell_type": "code",
   "execution_count": 45,
   "metadata": {},
   "outputs": [
    {
     "data": {
      "text/plain": [
       "(<Figure size 576x396 with 2 Axes>,\n",
       " <matplotlib.axes._subplots.AxesSubplot at 0x7f18a1483ef0>)"
      ]
     },
     "execution_count": 45,
     "metadata": {},
     "output_type": "execute_result"
    },
    {
     "data": {
      "image/png": "[encoded data removed]",
      "text/plain": [
       "<Figure size 576x396 with 2 Axes>"
      ]
     },
     "metadata": {},
     "output_type": "display_data"
    }
   ],
   "source": [
    "gal_list1[14].hamap.plot(mask=spiral_mask)"
   ]
  },
  {
   "cell_type": "code",
   "execution_count": null,
   "metadata": {},
   "outputs": [],
   "source": []
  }
 ],
 "metadata": {
  "kernelspec": {
   "display_name": "Python 3",
   "language": "python",
   "name": "python3"
  },
  "language_info": {
   "codemirror_mode": {
    "name": "ipython",
    "version": 3
   },
   "file_extension": ".py",
   "mimetype": "text/x-python",
   "name": "python",
   "nbconvert_exporter": "python",
   "pygments_lexer": "ipython3",
   "version": "3.5.2"
  }
 },
 "nbformat": 4,
 "nbformat_minor": 2
}
