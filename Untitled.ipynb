{
 "cells": [
  {
   "cell_type": "code",
   "execution_count": 1,
   "metadata": {},
   "outputs": [
    {
     "name": "stderr",
     "output_type": "stream",
     "text": [
      "/home/sshamsi/miniconda3/envs/marvin/lib/python3.8/site-packages/marvin/core/exceptions.py:50: UserWarning: cannot initiate Sentry error reporting: [Errno 25] Inappropriate ioctl for device.\n",
      "  warnings.warn('cannot initiate Sentry error reporting: {0}.'.format(str(ee)),\n",
      "\u001b[1;33m[WARNING]: \u001b[0m\u001b[0;39munclosed file <_io.TextIOWrapper name='/home/sshamsi/miniconda3/envs/marvin/lib/python3.8/site-packages/marvin/extern/tree/python/tree/etc/tree.yml' mode='r' encoding='UTF-8'>\u001b[0m \u001b[0;36m(ResourceWarning)\u001b[0m\n"
     ]
    },
    {
     "name": "stdout",
     "output_type": "stream",
     "text": [
      "INFO: No release version set. Setting default to MPL-9\n"
     ]
    },
    {
     "name": "stderr",
     "output_type": "stream",
     "text": [
      "\u001b[1;33m[WARNING]: \u001b[0m\u001b[0;39munclosed file <_io.TextIOWrapper name='/home/sshamsi/miniconda3/envs/marvin/lib/python3.8/site-packages/marvin/extern/sdss_access/python/sdss_access/etc/sdss_access.yml' mode='r' encoding='UTF-8'>\u001b[0m \u001b[0;36m(ResourceWarning)\u001b[0m\n",
      "\u001b[1;33m[WARNING]: \u001b[0m\u001b[0;39mpath /home/sshamsi/sas/mangawork/manga/spectro/analysis/v2_7_1/2.4.1/dapall-v2_7_1-2.4.1.fits cannot be found. Setting dapall to None.\u001b[0m \u001b[0;36m(MarvinUserWarning)\u001b[0m\n"
     ]
    }
   ],
   "source": [
    "import marvin"
   ]
  },
  {
   "cell_type": "code",
   "execution_count": 2,
   "metadata": {},
   "outputs": [
    {
     "name": "stderr",
     "output_type": "stream",
     "text": [
      "\u001b[1;33m[WARNING]: \u001b[0m\u001b[0;39mCannot retrieve URLMap. Remote functionality will not work: Requests Http Status Error: 502 Server Error: Bad Gateway for url: https://sas.sdss.org/marvin/api/general/getroutemap?release=MPL-9&compression=json\u001b[0m \u001b[0;36m(MarvinUserWarning)\u001b[0m\n"
     ]
    },
    {
     "name": "stdout",
     "output_type": "stream",
     "text": [
      "{}\n"
     ]
    }
   ],
   "source": [
    "print(marvin.config.urlmap)"
   ]
  },
  {
   "cell_type": "code",
   "execution_count": null,
   "metadata": {},
   "outputs": [],
   "source": []
  }
 ],
 "metadata": {
  "kernelspec": {
   "display_name": "Python 3",
   "language": "python",
   "name": "python3"
  },
  "language_info": {
   "codemirror_mode": {
    "name": "ipython",
    "version": 3
   },
   "file_extension": ".py",
   "mimetype": "text/x-python",
   "name": "python",
   "nbconvert_exporter": "python",
   "pygments_lexer": "ipython3",
   "version": "3.8.5"
  }
 },
 "nbformat": 4,
 "nbformat_minor": 4
}
