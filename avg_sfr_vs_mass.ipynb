{
 "cells": [
  {
   "cell_type": "code",
   "execution_count": 1,
   "metadata": {},
   "outputs": [],
   "source": [
    "import matplotlib.pyplot as plt\n",
    "import pandas as pd\n",
    "import numpy as np"
   ]
  },
  {
   "cell_type": "code",
   "execution_count": 2,
   "metadata": {},
   "outputs": [
    {
     "name": "stdout",
     "output_type": "stream",
     "text": [
      "INFO: No release version set. Setting default to MPL-7\n"
     ]
    }
   ],
   "source": [
    "from newer_Galaxy import SpiralGalaxy"
   ]
  },
  {
   "cell_type": "code",
   "execution_count": 3,
   "metadata": {},
   "outputs": [],
   "source": [
    "plt.style.use('seaborn')\n",
    "plt.style.use('seaborn-colorblind')"
   ]
  },
  {
   "cell_type": "code",
   "execution_count": 4,
   "metadata": {},
   "outputs": [],
   "source": [
    "usable_paths = np.load('usable_path_list.npy')"
   ]
  },
  {
   "cell_type": "code",
   "execution_count": 5,
   "metadata": {},
   "outputs": [
    {
     "name": "stderr",
     "output_type": "stream",
     "text": [
      "/homes/sshamsi/.local/lib/python3.5/site-packages/marvin/tools/maps.py:272: MarvinUserWarning: mismatch between file version=DR15 and object release=MPL-7. Setting object release to DR15\n",
      "  marvin.core.exceptions.MarvinUserWarning)\n",
      "/homes/sshamsi/.local/lib/python3.5/site-packages/marvin/utils/general/general.py:354: MarvinUserWarning: more than one plate-ifu found for mangaid=1-211017. Using the one with the highest SN2.\n",
      "  MarvinUserWarning)\n"
     ]
    }
   ],
   "source": [
    "gal_objs = [SpiralGalaxy(path) for path in usable_paths]"
   ]
  },
  {
   "cell_type": "code",
   "execution_count": 6,
   "metadata": {},
   "outputs": [],
   "source": [
    "mangaid_list = [gal.mangaid for gal in gal_objs]"
   ]
  },
  {
   "cell_type": "code",
   "execution_count": 7,
   "metadata": {},
   "outputs": [],
   "source": [
    "for gal in gal_objs:\n",
    "    gal.form_global_df()"
   ]
  },
  {
   "cell_type": "code",
   "execution_count": 8,
   "metadata": {},
   "outputs": [],
   "source": [
    "for gal in gal_objs:\n",
    "    gal.df['Mass'] = gal.mass\n",
    "    \n",
    "for gal in gal_objs:\n",
    "    gal.df['$\\lg{Mass}$'] = gal.lgmass\n",
    "    \n",
    "for gal in gal_objs:\n",
    "    gal.df['MaNGA ID'] = gal.mangaid"
   ]
  },
  {
   "cell_type": "code",
   "execution_count": 9,
   "metadata": {},
   "outputs": [],
   "source": [
    "for gal in gal_objs:\n",
    "    map_ha = gal.maps.getMap('emline_gflux', channel='ha_6564')\n",
    "    map_hb = gal.maps.getMap('emline_gflux', channel='hb_4862')\n",
    "\n",
    "    ha_snr = map_ha.snr.flatten()\n",
    "    hb_snr = map_hb.snr.flatten()\n",
    "\n",
    "    gal.df['S/N $H_{\\\\alpha}$'] = ha_snr\n",
    "    gal.df['S/N $H_{\\\\beta}$'] = hb_snr"
   ]
  },
  {
   "cell_type": "code",
   "execution_count": 10,
   "metadata": {},
   "outputs": [],
   "source": [
    "df_list = [gal.df for gal in gal_objs]\n",
    "\n",
    "spax_df = pd.concat(df_list)"
   ]
  },
  {
   "cell_type": "code",
   "execution_count": 11,
   "metadata": {},
   "outputs": [],
   "source": [
    "spax_df = spax_df.dropna()\n",
    "spax_df = spax_df[(spax_df.Comp == 0) & (spax_df.AGN == 0) & (spax_df.Seyfert == 0) & (spax_df.Liner == 0)]\n",
    "spax_df = spax_df[(spax_df['$r/r_e$'] <= 1) & (spax_df['$r/r_e$'] >= 0.1)]\n",
    "spax_df = spax_df[(spax_df['S/N $H_{\\\\alpha}$'] >= 3) & (spax_df['S/N $H_{\\\\beta}$'] >= 3)]"
   ]
  },
  {
   "cell_type": "code",
   "execution_count": 12,
   "metadata": {},
   "outputs": [],
   "source": [
    "cut, bins = pd.qcut(spax_df['$\\lg{Mass}$'], q=5, retbins=True)"
   ]
  },
  {
   "cell_type": "code",
   "execution_count": 13,
   "metadata": {},
   "outputs": [],
   "source": [
    "labels = [round((bins[i] + bins[i + 1]) / 2, 2) for i in range(5)]"
   ]
  },
  {
   "cell_type": "code",
   "execution_count": 14,
   "metadata": {},
   "outputs": [],
   "source": [
    "spax_df['Mass Bin'] = pd.qcut(spax_df['$\\lg{Mass}$'], q=5, labels=labels)"
   ]
  },
  {
   "cell_type": "code",
   "execution_count": 15,
   "metadata": {},
   "outputs": [],
   "source": [
    "def avg_sfr(main_df, mangaid_list, gal_objs):\n",
    "    ncoor_sfr, ncoor_sfr_var = [], []\n",
    "    ncoor_sfr_spiral, ncoor_sfr_var_spiral = [], []\n",
    "    ncoor_sfr_nspiral, ncoor_sfr_var_nspiral = [], []\n",
    "    \n",
    "    unique_ids = main_df['MaNGA ID'].unique()\n",
    "    \n",
    "    tot_n, tot_n_spiral, tot_n_nspiral = 0, 0, 0\n",
    "    \n",
    "    for mangaid in unique_ids:\n",
    "        df = main_df[main_df['MaNGA ID'] == mangaid]\n",
    "        df_spiral = df[df['Spiral Arm'] == 1]\n",
    "        df_nspiral = df[df['Spiral Arm'] == 0]\n",
    "        \n",
    "        n = len(df.index)\n",
    "        n_spiral = len(df_spiral.index)\n",
    "        n_nspiral = len(df_nspiral.index)\n",
    "        \n",
    "        index = mangaid_list.index(mangaid)\n",
    "        \n",
    "        if n > 0:\n",
    "            sfr, sfr_stdv = gal_objs[index].get_sfr(df.index, avg=True)\n",
    "            \n",
    "            ncoor_sfr.append(sfr * n)\n",
    "            ncoor_sfr_var.append((sfr_stdv**2) * n)\n",
    "            \n",
    "            tot_n += n\n",
    "            \n",
    "        if n_spiral > 0:\n",
    "            sfr_spiral, sfr_spiral_stdv = gal_objs[index].get_sfr(df_spiral.index, avg=True)\n",
    "            \n",
    "            ncoor_sfr_spiral.append(sfr_spiral * n_spiral)\n",
    "            ncoor_sfr_var_spiral.append((sfr_spiral_stdv**2) * n_spiral)\n",
    "            \n",
    "            tot_n_spiral += n_spiral\n",
    "        \n",
    "        if n_nspiral > 0:\n",
    "            sfr_nspiral, sfr_nspiral_stdv = gal_objs[index].get_sfr(df_nspiral.index, avg=True)\n",
    "            \n",
    "            ncoor_sfr_nspiral.append(sfr_nspiral * n_nspiral)\n",
    "            ncoor_sfr_var_nspiral.append((sfr_nspiral_stdv**2) * n_nspiral)\n",
    "            \n",
    "            tot_n_nspiral += n_nspiral\n",
    "        \n",
    "    tot_sfr = sum(ncoor_sfr) / tot_n\n",
    "    tot_sfr_stdv = np.sqrt(sum(ncoor_sfr_var) / tot_n)\n",
    "    \n",
    "    tot_sfr_spiral = sum(ncoor_sfr_spiral) / tot_n_spiral\n",
    "    tot_sfr_stdv_spiral = np.sqrt(sum(ncoor_sfr_var_spiral) / tot_n_spiral)\n",
    "    \n",
    "    tot_sfr_nspiral = sum(ncoor_sfr_nspiral) / tot_n_nspiral\n",
    "    tot_sfr_stdv_nspiral = np.sqrt(sum(ncoor_sfr_var_nspiral) / tot_n_nspiral)\n",
    "    \n",
    "    return tot_sfr, tot_sfr_stdv, tot_sfr_spiral, tot_sfr_stdv_spiral, tot_sfr_nspiral, tot_sfr_stdv_nspiral"
   ]
  },
  {
   "cell_type": "code",
   "execution_count": 16,
   "metadata": {},
   "outputs": [],
   "source": [
    "bin_sfrs, bin_sfrs_stdv = [], []\n",
    "bin_sfrs_spiral, bin_sfrs_stdv_spiral = [], []\n",
    "bin_sfrs_nspiral, bin_sfrs_stdv_nspiral = [], []\n",
    "\n",
    "for label in labels:\n",
    "    df = spax_df[spax_df['Mass Bin'] == label]\n",
    "    vals = avg_sfr(df, mangaid_list, gal_objs)\n",
    "    \n",
    "    bin_sfrs.append(vals[0])\n",
    "    bin_sfrs_stdv.append(vals[1])\n",
    "    bin_sfrs_spiral.append(vals[2])\n",
    "    bin_sfrs_stdv_spiral.append(vals[3])\n",
    "    bin_sfrs_nspiral.append(vals[4])\n",
    "    bin_sfrs_stdv_nspiral.append(vals[5])"
   ]
  },
  {
   "cell_type": "code",
   "execution_count": 17,
   "metadata": {},
   "outputs": [],
   "source": [
    "bin_sfr_spiral_pc = []\n",
    "bin_sfr_spiral_pc_stdv = []\n",
    "\n",
    "for i in range(len(labels)):\n",
    "    sfr_spiral_pc = bin_sfrs_spiral[i] / bin_sfrs[i]\n",
    "    \n",
    "    sfr_spiral_pc_stdv = sfr_spiral_pc * np.sqrt((bin_sfrs_stdv_spiral[i] / bin_sfrs_spiral[i])**2 +\n",
    "                                                 (bin_sfrs_stdv[i]/bin_sfrs[i])**2)\n",
    "    \n",
    "    bin_sfr_spiral_pc.append(sfr_spiral_pc)\n",
    "    bin_sfr_spiral_pc_stdv.append(sfr_spiral_pc_stdv)"
   ]
  },
  {
   "cell_type": "code",
   "execution_count": 21,
   "metadata": {},
   "outputs": [
    {
     "data": {
      "text/plain": [
       "(array([0.6, 0.7, 0.8, 0.9, 1. , 1.1, 1.2, 1.3, 1.4]),\n",
       " <a list of 9 Text yticklabel objects>)"
      ]
     },
     "execution_count": 21,
     "metadata": {},
     "output_type": "execute_result"
    },
    {
     "data": {
      "image/png": "[encoded data removed]",
      "text/plain": [
       "<Figure size 864x648 with 1 Axes>"
      ]
     },
     "metadata": {},
     "output_type": "display_data"
    }
   ],
   "source": [
    "plt.figure(figsize=(12, 9))\n",
    "\n",
    "plt.errorbar(labels, bin_sfr_spiral_pc, yerr=bin_sfr_spiral_pc_stdv)\n",
    "\n",
    "plt.xlabel('Mass Bins $lg(M_*/M_☉)$', labelpad=20, size=20)\n",
    "plt.ylabel(r'$\\frac{SFR_{spiral}}{SFR_{total}}$', labelpad=20, size=30)\n",
    "plt.xticks(size=20)\n",
    "plt.yticks(size=20)"
   ]
  },
  {
   "cell_type": "code",
   "execution_count": null,
   "metadata": {},
   "outputs": [],
   "source": []
  }
 ],
 "metadata": {
  "kernelspec": {
   "display_name": "Python 3",
   "language": "python",
   "name": "python3"
  },
  "language_info": {
   "codemirror_mode": {
    "name": "ipython",
    "version": 3
   },
   "file_extension": ".py",
   "mimetype": "text/x-python",
   "name": "python",
   "nbconvert_exporter": "python",
   "pygments_lexer": "ipython3",
   "version": "3.5.2"
  }
 },
 "nbformat": 4,
 "nbformat_minor": 2
}
