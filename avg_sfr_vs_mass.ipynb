{
 "cells": [
  {
   "cell_type": "code",
   "execution_count": 1,
   "metadata": {},
   "outputs": [],
   "source": [
    "import matplotlib.pyplot as plt\n",
    "import pandas as pd\n",
    "import numpy as np"
   ]
  },
  {
   "cell_type": "code",
   "execution_count": 2,
   "metadata": {},
   "outputs": [
    {
     "name": "stderr",
     "output_type": "stream",
     "text": [
      "/home/sshamsi/miniconda3/envs/marvin/lib/python3.8/site-packages/marvin/core/exceptions.py:50: UserWarning: cannot initiate Sentry error reporting: [Errno 25] Inappropriate ioctl for device.\n",
      "  warnings.warn('cannot initiate Sentry error reporting: {0}.'.format(str(ee)),\n",
      "\u001b[1;33m[WARNING]: \u001b[0m\u001b[0;39munclosed file <_io.TextIOWrapper name='/home/sshamsi/miniconda3/envs/marvin/lib/python3.8/site-packages/marvin/extern/tree/python/tree/etc/tree.yml' mode='r' encoding='UTF-8'>\u001b[0m \u001b[0;36m(ResourceWarning)\u001b[0m\n"
     ]
    },
    {
     "name": "stdout",
     "output_type": "stream",
     "text": [
      "INFO: No release version set. Setting default to MPL-9\n"
     ]
    },
    {
     "name": "stderr",
     "output_type": "stream",
     "text": [
      "\u001b[1;33m[WARNING]: \u001b[0m\u001b[0;39munclosed file <_io.TextIOWrapper name='/home/sshamsi/miniconda3/envs/marvin/lib/python3.8/site-packages/marvin/extern/sdss_access/python/sdss_access/etc/sdss_access.yml' mode='r' encoding='UTF-8'>\u001b[0m \u001b[0;36m(ResourceWarning)\u001b[0m\n",
      "\u001b[1;33m[WARNING]: \u001b[0m\u001b[0;39mpath /home/sshamsi/sas/mangawork/manga/spectro/analysis/v2_7_1/2.4.1/dapall-v2_7_1-2.4.1.fits cannot be found. Setting dapall to None.\u001b[0m \u001b[0;36m(MarvinUserWarning)\u001b[0m\n"
     ]
    }
   ],
   "source": [
    "from spiral_galaxy import SpiralGalaxy"
   ]
  },
  {
   "cell_type": "code",
   "execution_count": 3,
   "metadata": {},
   "outputs": [],
   "source": [
    "plt.style.use('seaborn')\n",
    "plt.style.use('seaborn-colorblind')"
   ]
  },
  {
   "cell_type": "code",
   "execution_count": 4,
   "metadata": {},
   "outputs": [],
   "source": [
    "usable_paths = np.load('usable_paths_laptop.npy')"
   ]
  },
  {
   "cell_type": "code",
   "execution_count": 5,
   "metadata": {},
   "outputs": [
    {
     "name": "stdout",
     "output_type": "stream",
     "text": [
      "/home/sshamsi/sas/mangawork/manga/sandbox/galaxyzoo3d/v1_0_0/1-109308_127_5679470.fits.gz\n"
     ]
    },
    {
     "name": "stderr",
     "output_type": "stream",
     "text": [
      "\u001b[1;33m[WARNING]: \u001b[0m\u001b[0;39mCreating an ndarray from ragged nested sequences (which is a list-or-tuple of lists-or-tuples-or ndarrays with different lengths or shapes) is deprecated. If you meant to do this, you must specify 'dtype=object' when creating the ndarray\u001b[0m \u001b[0;36m(VisibleDeprecationWarning)\u001b[0m\n",
      "\u001b[1;33m[WARNING]: \u001b[0m\u001b[0;39mnp.asscalar(a) is deprecated since NumPy v1.16, use a.item() instead\u001b[0m \u001b[0;36m(DeprecationWarning)\u001b[0m\n"
     ]
    },
    {
     "name": "stdout",
     "output_type": "stream",
     "text": [
      "MaNGA ID 1-109308 \n",
      "\n",
      "/home/sshamsi/sas/mangawork/manga/sandbox/galaxyzoo3d/v1_0_0/1-134293_61_5681975.fits.gz\n"
     ]
    },
    {
     "name": "stderr",
     "output_type": "stream",
     "text": [
      "\u001b[1;33m[WARNING]: \u001b[0m\u001b[0;39mCreating an ndarray from ragged nested sequences (which is a list-or-tuple of lists-or-tuples-or ndarrays with different lengths or shapes) is deprecated. If you meant to do this, you must specify 'dtype=object' when creating the ndarray\u001b[0m \u001b[0;36m(VisibleDeprecationWarning)\u001b[0m\n",
      "\u001b[1;33m[WARNING]: \u001b[0m\u001b[0;39mnp.asscalar(a) is deprecated since NumPy v1.16, use a.item() instead\u001b[0m \u001b[0;36m(DeprecationWarning)\u001b[0m\n"
     ]
    },
    {
     "name": "stdout",
     "output_type": "stream",
     "text": [
      "MaNGA ID 1-134293 \n",
      "\n",
      "/home/sshamsi/sas/mangawork/manga/sandbox/galaxyzoo3d/v1_0_0/1-135030_127_5679533.fits.gz\n"
     ]
    },
    {
     "name": "stderr",
     "output_type": "stream",
     "text": [
      "\u001b[1;33m[WARNING]: \u001b[0m\u001b[0;39mCreating an ndarray from ragged nested sequences (which is a list-or-tuple of lists-or-tuples-or ndarrays with different lengths or shapes) is deprecated. If you meant to do this, you must specify 'dtype=object' when creating the ndarray\u001b[0m \u001b[0;36m(VisibleDeprecationWarning)\u001b[0m\n",
      "\u001b[1;33m[WARNING]: \u001b[0m\u001b[0;39mnp.asscalar(a) is deprecated since NumPy v1.16, use a.item() instead\u001b[0m \u001b[0;36m(DeprecationWarning)\u001b[0m\n"
     ]
    },
    {
     "name": "stdout",
     "output_type": "stream",
     "text": [
      "MaNGA ID 1-135030 \n",
      "\n",
      "/home/sshamsi/sas/mangawork/manga/sandbox/galaxyzoo3d/v1_0_0/1-135093_127_5679275.fits.gz\n"
     ]
    },
    {
     "name": "stderr",
     "output_type": "stream",
     "text": [
      "\u001b[1;33m[WARNING]: \u001b[0m\u001b[0;39mCreating an ndarray from ragged nested sequences (which is a list-or-tuple of lists-or-tuples-or ndarrays with different lengths or shapes) is deprecated. If you meant to do this, you must specify 'dtype=object' when creating the ndarray\u001b[0m \u001b[0;36m(VisibleDeprecationWarning)\u001b[0m\n",
      "\u001b[1;33m[WARNING]: \u001b[0m\u001b[0;39mnp.asscalar(a) is deprecated since NumPy v1.16, use a.item() instead\u001b[0m \u001b[0;36m(DeprecationWarning)\u001b[0m\n"
     ]
    },
    {
     "name": "stdout",
     "output_type": "stream",
     "text": [
      "MaNGA ID 1-135093 \n",
      "\n",
      "/home/sshamsi/sas/mangawork/manga/sandbox/galaxyzoo3d/v1_0_0/1-135468_127_5679686.fits.gz\n"
     ]
    },
    {
     "name": "stderr",
     "output_type": "stream",
     "text": [
      "\u001b[1;33m[WARNING]: \u001b[0m\u001b[0;39mCreating an ndarray from ragged nested sequences (which is a list-or-tuple of lists-or-tuples-or ndarrays with different lengths or shapes) is deprecated. If you meant to do this, you must specify 'dtype=object' when creating the ndarray\u001b[0m \u001b[0;36m(VisibleDeprecationWarning)\u001b[0m\n",
      "\u001b[1;33m[WARNING]: \u001b[0m\u001b[0;39mnp.asscalar(a) is deprecated since NumPy v1.16, use a.item() instead\u001b[0m \u001b[0;36m(DeprecationWarning)\u001b[0m\n"
     ]
    },
    {
     "name": "stdout",
     "output_type": "stream",
     "text": [
      "MaNGA ID 1-135468 \n",
      "\n",
      "/home/sshamsi/sas/mangawork/manga/sandbox/galaxyzoo3d/v1_0_0/1-137730_91_5682421.fits.gz\n"
     ]
    },
    {
     "name": "stderr",
     "output_type": "stream",
     "text": [
      "\u001b[1;33m[WARNING]: \u001b[0m\u001b[0;39mCreating an ndarray from ragged nested sequences (which is a list-or-tuple of lists-or-tuples-or ndarrays with different lengths or shapes) is deprecated. If you meant to do this, you must specify 'dtype=object' when creating the ndarray\u001b[0m \u001b[0;36m(VisibleDeprecationWarning)\u001b[0m\n",
      "\u001b[1;33m[WARNING]: \u001b[0m\u001b[0;39mnp.asscalar(a) is deprecated since NumPy v1.16, use a.item() instead\u001b[0m \u001b[0;36m(DeprecationWarning)\u001b[0m\n"
     ]
    },
    {
     "name": "stdout",
     "output_type": "stream",
     "text": [
      "MaNGA ID 1-137730 \n",
      "\n",
      "/home/sshamsi/sas/mangawork/manga/sandbox/galaxyzoo3d/v1_0_0/1-137870_127_5679492.fits.gz\n"
     ]
    },
    {
     "name": "stderr",
     "output_type": "stream",
     "text": [
      "\u001b[1;33m[WARNING]: \u001b[0m\u001b[0;39mCreating an ndarray from ragged nested sequences (which is a list-or-tuple of lists-or-tuples-or ndarrays with different lengths or shapes) is deprecated. If you meant to do this, you must specify 'dtype=object' when creating the ndarray\u001b[0m \u001b[0;36m(VisibleDeprecationWarning)\u001b[0m\n",
      "\u001b[1;33m[WARNING]: \u001b[0m\u001b[0;39mnp.asscalar(a) is deprecated since NumPy v1.16, use a.item() instead\u001b[0m \u001b[0;36m(DeprecationWarning)\u001b[0m\n"
     ]
    },
    {
     "name": "stdout",
     "output_type": "stream",
     "text": [
      "MaNGA ID 1-137870 \n",
      "\n",
      "/home/sshamsi/sas/mangawork/manga/sandbox/galaxyzoo3d/v1_0_0/1-137875_61_5681660.fits.gz\n"
     ]
    },
    {
     "name": "stderr",
     "output_type": "stream",
     "text": [
      "\u001b[1;33m[WARNING]: \u001b[0m\u001b[0;39mCreating an ndarray from ragged nested sequences (which is a list-or-tuple of lists-or-tuples-or ndarrays with different lengths or shapes) is deprecated. If you meant to do this, you must specify 'dtype=object' when creating the ndarray\u001b[0m \u001b[0;36m(VisibleDeprecationWarning)\u001b[0m\n",
      "\u001b[1;33m[WARNING]: \u001b[0m\u001b[0;39mnp.asscalar(a) is deprecated since NumPy v1.16, use a.item() instead\u001b[0m \u001b[0;36m(DeprecationWarning)\u001b[0m\n"
     ]
    },
    {
     "name": "stdout",
     "output_type": "stream",
     "text": [
      "MaNGA ID 1-137875 \n",
      "\n",
      "/home/sshamsi/sas/mangawork/manga/sandbox/galaxyzoo3d/v1_0_0/1-138021_127_5679640.fits.gz\n"
     ]
    },
    {
     "name": "stderr",
     "output_type": "stream",
     "text": [
      "\u001b[1;33m[WARNING]: \u001b[0m\u001b[0;39mCreating an ndarray from ragged nested sequences (which is a list-or-tuple of lists-or-tuples-or ndarrays with different lengths or shapes) is deprecated. If you meant to do this, you must specify 'dtype=object' when creating the ndarray\u001b[0m \u001b[0;36m(VisibleDeprecationWarning)\u001b[0m\n",
      "\u001b[1;33m[WARNING]: \u001b[0m\u001b[0;39mnp.asscalar(a) is deprecated since NumPy v1.16, use a.item() instead\u001b[0m \u001b[0;36m(DeprecationWarning)\u001b[0m\n"
     ]
    },
    {
     "name": "stdout",
     "output_type": "stream",
     "text": [
      "MaNGA ID 1-138021 \n",
      "\n",
      "/home/sshamsi/sas/mangawork/manga/sandbox/galaxyzoo3d/v1_0_0/1-147485_127_5679396.fits.gz\n"
     ]
    },
    {
     "name": "stderr",
     "output_type": "stream",
     "text": [
      "\u001b[1;33m[WARNING]: \u001b[0m\u001b[0;39mCreating an ndarray from ragged nested sequences (which is a list-or-tuple of lists-or-tuples-or ndarrays with different lengths or shapes) is deprecated. If you meant to do this, you must specify 'dtype=object' when creating the ndarray\u001b[0m \u001b[0;36m(VisibleDeprecationWarning)\u001b[0m\n",
      "\u001b[1;33m[WARNING]: \u001b[0m\u001b[0;39mnp.asscalar(a) is deprecated since NumPy v1.16, use a.item() instead\u001b[0m \u001b[0;36m(DeprecationWarning)\u001b[0m\n"
     ]
    },
    {
     "name": "stdout",
     "output_type": "stream",
     "text": [
      "MaNGA ID 1-147485 \n",
      "\n",
      "/home/sshamsi/sas/mangawork/manga/sandbox/galaxyzoo3d/v1_0_0/1-147514_127_5678992.fits.gz\n"
     ]
    },
    {
     "name": "stderr",
     "output_type": "stream",
     "text": [
      "\u001b[1;33m[WARNING]: \u001b[0m\u001b[0;39mCreating an ndarray from ragged nested sequences (which is a list-or-tuple of lists-or-tuples-or ndarrays with different lengths or shapes) is deprecated. If you meant to do this, you must specify 'dtype=object' when creating the ndarray\u001b[0m \u001b[0;36m(VisibleDeprecationWarning)\u001b[0m\n",
      "\u001b[1;33m[WARNING]: \u001b[0m\u001b[0;39mnp.asscalar(a) is deprecated since NumPy v1.16, use a.item() instead\u001b[0m \u001b[0;36m(DeprecationWarning)\u001b[0m\n"
     ]
    },
    {
     "name": "stdout",
     "output_type": "stream",
     "text": [
      "MaNGA ID 1-147514 \n",
      "\n",
      "/home/sshamsi/sas/mangawork/manga/sandbox/galaxyzoo3d/v1_0_0/1-148068_127_5679323.fits.gz\n"
     ]
    },
    {
     "name": "stderr",
     "output_type": "stream",
     "text": [
      "\u001b[1;33m[WARNING]: \u001b[0m\u001b[0;39mCreating an ndarray from ragged nested sequences (which is a list-or-tuple of lists-or-tuples-or ndarrays with different lengths or shapes) is deprecated. If you meant to do this, you must specify 'dtype=object' when creating the ndarray\u001b[0m \u001b[0;36m(VisibleDeprecationWarning)\u001b[0m\n",
      "\u001b[1;33m[WARNING]: \u001b[0m\u001b[0;39mnp.asscalar(a) is deprecated since NumPy v1.16, use a.item() instead\u001b[0m \u001b[0;36m(DeprecationWarning)\u001b[0m\n"
     ]
    },
    {
     "name": "stdout",
     "output_type": "stream",
     "text": [
      "MaNGA ID 1-148068 \n",
      "\n",
      "/home/sshamsi/sas/mangawork/manga/sandbox/galaxyzoo3d/v1_0_0/1-149200_91_5682585.fits.gz\n"
     ]
    },
    {
     "name": "stderr",
     "output_type": "stream",
     "text": [
      "\u001b[1;33m[WARNING]: \u001b[0m\u001b[0;39mCreating an ndarray from ragged nested sequences (which is a list-or-tuple of lists-or-tuples-or ndarrays with different lengths or shapes) is deprecated. If you meant to do this, you must specify 'dtype=object' when creating the ndarray\u001b[0m \u001b[0;36m(VisibleDeprecationWarning)\u001b[0m\n",
      "\u001b[1;33m[WARNING]: \u001b[0m\u001b[0;39mnp.asscalar(a) is deprecated since NumPy v1.16, use a.item() instead\u001b[0m \u001b[0;36m(DeprecationWarning)\u001b[0m\n"
     ]
    },
    {
     "name": "stdout",
     "output_type": "stream",
     "text": [
      "MaNGA ID 1-149200 \n",
      "\n",
      "/home/sshamsi/sas/mangawork/manga/sandbox/galaxyzoo3d/v1_0_0/1-149586_91_5682842.fits.gz\n"
     ]
    },
    {
     "name": "stderr",
     "output_type": "stream",
     "text": [
      "\u001b[1;33m[WARNING]: \u001b[0m\u001b[0;39mCreating an ndarray from ragged nested sequences (which is a list-or-tuple of lists-or-tuples-or ndarrays with different lengths or shapes) is deprecated. If you meant to do this, you must specify 'dtype=object' when creating the ndarray\u001b[0m \u001b[0;36m(VisibleDeprecationWarning)\u001b[0m\n",
      "\u001b[1;33m[WARNING]: \u001b[0m\u001b[0;39mnp.asscalar(a) is deprecated since NumPy v1.16, use a.item() instead\u001b[0m \u001b[0;36m(DeprecationWarning)\u001b[0m\n"
     ]
    },
    {
     "name": "stdout",
     "output_type": "stream",
     "text": [
      "MaNGA ID 1-149586 \n",
      "\n",
      "/home/sshamsi/sas/mangawork/manga/sandbox/galaxyzoo3d/v1_0_0/1-163516_127_5679061.fits.gz\n"
     ]
    },
    {
     "name": "stderr",
     "output_type": "stream",
     "text": [
      "\u001b[1;33m[WARNING]: \u001b[0m\u001b[0;39mCreating an ndarray from ragged nested sequences (which is a list-or-tuple of lists-or-tuples-or ndarrays with different lengths or shapes) is deprecated. If you meant to do this, you must specify 'dtype=object' when creating the ndarray\u001b[0m \u001b[0;36m(VisibleDeprecationWarning)\u001b[0m\n",
      "\u001b[1;33m[WARNING]: \u001b[0m\u001b[0;39mnp.asscalar(a) is deprecated since NumPy v1.16, use a.item() instead\u001b[0m \u001b[0;36m(DeprecationWarning)\u001b[0m\n"
     ]
    },
    {
     "name": "stdout",
     "output_type": "stream",
     "text": [
      "MaNGA ID 1-163516 \n",
      "\n",
      "/home/sshamsi/sas/mangawork/manga/sandbox/galaxyzoo3d/v1_0_0/1-164053_61_5682037.fits.gz\n"
     ]
    },
    {
     "name": "stderr",
     "output_type": "stream",
     "text": [
      "\u001b[1;33m[WARNING]: \u001b[0m\u001b[0;39mCreating an ndarray from ragged nested sequences (which is a list-or-tuple of lists-or-tuples-or ndarrays with different lengths or shapes) is deprecated. If you meant to do this, you must specify 'dtype=object' when creating the ndarray\u001b[0m \u001b[0;36m(VisibleDeprecationWarning)\u001b[0m\n",
      "\u001b[1;33m[WARNING]: \u001b[0m\u001b[0;39mnp.asscalar(a) is deprecated since NumPy v1.16, use a.item() instead\u001b[0m \u001b[0;36m(DeprecationWarning)\u001b[0m\n"
     ]
    },
    {
     "name": "stdout",
     "output_type": "stream",
     "text": [
      "MaNGA ID 1-164053 \n",
      "\n",
      "/home/sshamsi/sas/mangawork/manga/sandbox/galaxyzoo3d/v1_0_0/1-167242_127_5679242.fits.gz\n"
     ]
    },
    {
     "name": "stderr",
     "output_type": "stream",
     "text": [
      "\u001b[1;33m[WARNING]: \u001b[0m\u001b[0;39mCreating an ndarray from ragged nested sequences (which is a list-or-tuple of lists-or-tuples-or ndarrays with different lengths or shapes) is deprecated. If you meant to do this, you must specify 'dtype=object' when creating the ndarray\u001b[0m \u001b[0;36m(VisibleDeprecationWarning)\u001b[0m\n",
      "\u001b[1;33m[WARNING]: \u001b[0m\u001b[0;39mnp.asscalar(a) is deprecated since NumPy v1.16, use a.item() instead\u001b[0m \u001b[0;36m(DeprecationWarning)\u001b[0m\n"
     ]
    },
    {
     "name": "stdout",
     "output_type": "stream",
     "text": [
      "MaNGA ID 1-167242 \n",
      "\n",
      "/home/sshamsi/sas/mangawork/manga/sandbox/galaxyzoo3d/v1_0_0/1-167488_61_5682287.fits.gz\n"
     ]
    },
    {
     "name": "stderr",
     "output_type": "stream",
     "text": [
      "\u001b[1;33m[WARNING]: \u001b[0m\u001b[0;39mCreating an ndarray from ragged nested sequences (which is a list-or-tuple of lists-or-tuples-or ndarrays with different lengths or shapes) is deprecated. If you meant to do this, you must specify 'dtype=object' when creating the ndarray\u001b[0m \u001b[0;36m(VisibleDeprecationWarning)\u001b[0m\n",
      "\u001b[1;33m[WARNING]: \u001b[0m\u001b[0;39mnp.asscalar(a) is deprecated since NumPy v1.16, use a.item() instead\u001b[0m \u001b[0;36m(DeprecationWarning)\u001b[0m\n"
     ]
    },
    {
     "name": "stdout",
     "output_type": "stream",
     "text": [
      "MaNGA ID 1-167488 \n",
      "\n",
      "/home/sshamsi/sas/mangawork/manga/sandbox/galaxyzoo3d/v1_0_0/1-172986_127_5679487.fits.gz\n"
     ]
    },
    {
     "name": "stderr",
     "output_type": "stream",
     "text": [
      "\u001b[1;33m[WARNING]: \u001b[0m\u001b[0;39mCreating an ndarray from ragged nested sequences (which is a list-or-tuple of lists-or-tuples-or ndarrays with different lengths or shapes) is deprecated. If you meant to do this, you must specify 'dtype=object' when creating the ndarray\u001b[0m \u001b[0;36m(VisibleDeprecationWarning)\u001b[0m\n",
      "\u001b[1;33m[WARNING]: \u001b[0m\u001b[0;39mnp.asscalar(a) is deprecated since NumPy v1.16, use a.item() instead\u001b[0m \u001b[0;36m(DeprecationWarning)\u001b[0m\n"
     ]
    },
    {
     "name": "stdout",
     "output_type": "stream",
     "text": [
      "MaNGA ID 1-172986 \n",
      "\n",
      "/home/sshamsi/sas/mangawork/manga/sandbox/galaxyzoo3d/v1_0_0/1-173958_127_5679594.fits.gz\n"
     ]
    },
    {
     "name": "stderr",
     "output_type": "stream",
     "text": [
      "\u001b[1;33m[WARNING]: \u001b[0m\u001b[0;39mCreating an ndarray from ragged nested sequences (which is a list-or-tuple of lists-or-tuples-or ndarrays with different lengths or shapes) is deprecated. If you meant to do this, you must specify 'dtype=object' when creating the ndarray\u001b[0m \u001b[0;36m(VisibleDeprecationWarning)\u001b[0m\n",
      "\u001b[1;33m[WARNING]: \u001b[0m\u001b[0;39mnp.asscalar(a) is deprecated since NumPy v1.16, use a.item() instead\u001b[0m \u001b[0;36m(DeprecationWarning)\u001b[0m\n"
     ]
    },
    {
     "name": "stdout",
     "output_type": "stream",
     "text": [
      "MaNGA ID 1-173958 \n",
      "\n",
      "/home/sshamsi/sas/mangawork/manga/sandbox/galaxyzoo3d/v1_0_0/1-176546_127_5679688.fits.gz\n"
     ]
    },
    {
     "name": "stderr",
     "output_type": "stream",
     "text": [
      "\u001b[1;33m[WARNING]: \u001b[0m\u001b[0;39mCreating an ndarray from ragged nested sequences (which is a list-or-tuple of lists-or-tuples-or ndarrays with different lengths or shapes) is deprecated. If you meant to do this, you must specify 'dtype=object' when creating the ndarray\u001b[0m \u001b[0;36m(VisibleDeprecationWarning)\u001b[0m\n",
      "\u001b[1;33m[WARNING]: \u001b[0m\u001b[0;39mnp.asscalar(a) is deprecated since NumPy v1.16, use a.item() instead\u001b[0m \u001b[0;36m(DeprecationWarning)\u001b[0m\n"
     ]
    },
    {
     "name": "stdout",
     "output_type": "stream",
     "text": [
      "MaNGA ID 1-176546 \n",
      "\n",
      "/home/sshamsi/sas/mangawork/manga/sandbox/galaxyzoo3d/v1_0_0/1-177529_61_5681559.fits.gz\n"
     ]
    },
    {
     "name": "stderr",
     "output_type": "stream",
     "text": [
      "\u001b[1;33m[WARNING]: \u001b[0m\u001b[0;39mCreating an ndarray from ragged nested sequences (which is a list-or-tuple of lists-or-tuples-or ndarrays with different lengths or shapes) is deprecated. If you meant to do this, you must specify 'dtype=object' when creating the ndarray\u001b[0m \u001b[0;36m(VisibleDeprecationWarning)\u001b[0m\n",
      "\u001b[1;33m[WARNING]: \u001b[0m\u001b[0;39mnp.asscalar(a) is deprecated since NumPy v1.16, use a.item() instead\u001b[0m \u001b[0;36m(DeprecationWarning)\u001b[0m\n"
     ]
    },
    {
     "name": "stdout",
     "output_type": "stream",
     "text": [
      "MaNGA ID 1-177529 \n",
      "\n",
      "/home/sshamsi/sas/mangawork/manga/sandbox/galaxyzoo3d/v1_0_0/1-178414_127_5679527.fits.gz\n"
     ]
    },
    {
     "name": "stderr",
     "output_type": "stream",
     "text": [
      "\u001b[1;33m[WARNING]: \u001b[0m\u001b[0;39mCreating an ndarray from ragged nested sequences (which is a list-or-tuple of lists-or-tuples-or ndarrays with different lengths or shapes) is deprecated. If you meant to do this, you must specify 'dtype=object' when creating the ndarray\u001b[0m \u001b[0;36m(VisibleDeprecationWarning)\u001b[0m\n",
      "\u001b[1;33m[WARNING]: \u001b[0m\u001b[0;39mnp.asscalar(a) is deprecated since NumPy v1.16, use a.item() instead\u001b[0m \u001b[0;36m(DeprecationWarning)\u001b[0m\n"
     ]
    },
    {
     "name": "stdout",
     "output_type": "stream",
     "text": [
      "MaNGA ID 1-178414 \n",
      "\n",
      "/home/sshamsi/sas/mangawork/manga/sandbox/galaxyzoo3d/v1_0_0/1-178698_91_5682492.fits.gz\n"
     ]
    },
    {
     "name": "stderr",
     "output_type": "stream",
     "text": [
      "\u001b[1;33m[WARNING]: \u001b[0m\u001b[0;39mCreating an ndarray from ragged nested sequences (which is a list-or-tuple of lists-or-tuples-or ndarrays with different lengths or shapes) is deprecated. If you meant to do this, you must specify 'dtype=object' when creating the ndarray\u001b[0m \u001b[0;36m(VisibleDeprecationWarning)\u001b[0m\n",
      "\u001b[1;33m[WARNING]: \u001b[0m\u001b[0;39mnp.asscalar(a) is deprecated since NumPy v1.16, use a.item() instead\u001b[0m \u001b[0;36m(DeprecationWarning)\u001b[0m\n"
     ]
    },
    {
     "name": "stdout",
     "output_type": "stream",
     "text": [
      "MaNGA ID 1-178698 \n",
      "\n",
      "/home/sshamsi/sas/mangawork/manga/sandbox/galaxyzoo3d/v1_0_0/1-180334_61_5682184.fits.gz\n"
     ]
    },
    {
     "name": "stderr",
     "output_type": "stream",
     "text": [
      "\u001b[1;33m[WARNING]: \u001b[0m\u001b[0;39mCreating an ndarray from ragged nested sequences (which is a list-or-tuple of lists-or-tuples-or ndarrays with different lengths or shapes) is deprecated. If you meant to do this, you must specify 'dtype=object' when creating the ndarray\u001b[0m \u001b[0;36m(VisibleDeprecationWarning)\u001b[0m\n",
      "\u001b[1;33m[WARNING]: \u001b[0m\u001b[0;39mnp.asscalar(a) is deprecated since NumPy v1.16, use a.item() instead\u001b[0m \u001b[0;36m(DeprecationWarning)\u001b[0m\n"
     ]
    },
    {
     "name": "stdout",
     "output_type": "stream",
     "text": [
      "MaNGA ID 1-180334 \n",
      "\n",
      "/home/sshamsi/sas/mangawork/manga/sandbox/galaxyzoo3d/v1_0_0/1-198373_127_5679109.fits.gz\n"
     ]
    },
    {
     "name": "stderr",
     "output_type": "stream",
     "text": [
      "\u001b[1;33m[WARNING]: \u001b[0m\u001b[0;39mCreating an ndarray from ragged nested sequences (which is a list-or-tuple of lists-or-tuples-or ndarrays with different lengths or shapes) is deprecated. If you meant to do this, you must specify 'dtype=object' when creating the ndarray\u001b[0m \u001b[0;36m(VisibleDeprecationWarning)\u001b[0m\n",
      "\u001b[1;33m[WARNING]: \u001b[0m\u001b[0;39mnp.asscalar(a) is deprecated since NumPy v1.16, use a.item() instead\u001b[0m \u001b[0;36m(DeprecationWarning)\u001b[0m\n"
     ]
    },
    {
     "name": "stdout",
     "output_type": "stream",
     "text": [
      "MaNGA ID 1-198373 \n",
      "\n",
      "/home/sshamsi/sas/mangawork/manga/sandbox/galaxyzoo3d/v1_0_0/1-201291_61_5682042.fits.gz\n"
     ]
    },
    {
     "name": "stderr",
     "output_type": "stream",
     "text": [
      "\u001b[1;33m[WARNING]: \u001b[0m\u001b[0;39mCreating an ndarray from ragged nested sequences (which is a list-or-tuple of lists-or-tuples-or ndarrays with different lengths or shapes) is deprecated. If you meant to do this, you must specify 'dtype=object' when creating the ndarray\u001b[0m \u001b[0;36m(VisibleDeprecationWarning)\u001b[0m\n",
      "\u001b[1;33m[WARNING]: \u001b[0m\u001b[0;39mnp.asscalar(a) is deprecated since NumPy v1.16, use a.item() instead\u001b[0m \u001b[0;36m(DeprecationWarning)\u001b[0m\n"
     ]
    },
    {
     "name": "stdout",
     "output_type": "stream",
     "text": [
      "MaNGA ID 1-201291 \n",
      "\n",
      "/home/sshamsi/sas/mangawork/manga/sandbox/galaxyzoo3d/v1_0_0/1-210017_127_5679177.fits.gz\n"
     ]
    },
    {
     "name": "stderr",
     "output_type": "stream",
     "text": [
      "\u001b[1;33m[WARNING]: \u001b[0m\u001b[0;39mCreating an ndarray from ragged nested sequences (which is a list-or-tuple of lists-or-tuples-or ndarrays with different lengths or shapes) is deprecated. If you meant to do this, you must specify 'dtype=object' when creating the ndarray\u001b[0m \u001b[0;36m(VisibleDeprecationWarning)\u001b[0m\n",
      "\u001b[1;33m[WARNING]: \u001b[0m\u001b[0;39mnp.asscalar(a) is deprecated since NumPy v1.16, use a.item() instead\u001b[0m \u001b[0;36m(DeprecationWarning)\u001b[0m\n"
     ]
    },
    {
     "name": "stdout",
     "output_type": "stream",
     "text": [
      "MaNGA ID 1-210017 \n",
      "\n",
      "/home/sshamsi/sas/mangawork/manga/sandbox/galaxyzoo3d/v1_0_0/1-210116_61_5682317.fits.gz\n"
     ]
    },
    {
     "name": "stderr",
     "output_type": "stream",
     "text": [
      "\u001b[1;33m[WARNING]: \u001b[0m\u001b[0;39mCreating an ndarray from ragged nested sequences (which is a list-or-tuple of lists-or-tuples-or ndarrays with different lengths or shapes) is deprecated. If you meant to do this, you must specify 'dtype=object' when creating the ndarray\u001b[0m \u001b[0;36m(VisibleDeprecationWarning)\u001b[0m\n",
      "\u001b[1;33m[WARNING]: \u001b[0m\u001b[0;39mnp.asscalar(a) is deprecated since NumPy v1.16, use a.item() instead\u001b[0m \u001b[0;36m(DeprecationWarning)\u001b[0m\n"
     ]
    },
    {
     "name": "stdout",
     "output_type": "stream",
     "text": [
      "MaNGA ID 1-210116 \n",
      "\n",
      "/home/sshamsi/sas/mangawork/manga/sandbox/galaxyzoo3d/v1_0_0/1-210173_127_5679098.fits.gz\n"
     ]
    },
    {
     "name": "stderr",
     "output_type": "stream",
     "text": [
      "\u001b[1;33m[WARNING]: \u001b[0m\u001b[0;39mCreating an ndarray from ragged nested sequences (which is a list-or-tuple of lists-or-tuples-or ndarrays with different lengths or shapes) is deprecated. If you meant to do this, you must specify 'dtype=object' when creating the ndarray\u001b[0m \u001b[0;36m(VisibleDeprecationWarning)\u001b[0m\n",
      "\u001b[1;33m[WARNING]: \u001b[0m\u001b[0;39mnp.asscalar(a) is deprecated since NumPy v1.16, use a.item() instead\u001b[0m \u001b[0;36m(DeprecationWarning)\u001b[0m\n"
     ]
    },
    {
     "name": "stdout",
     "output_type": "stream",
     "text": [
      "MaNGA ID 1-210173 \n",
      "\n",
      "/home/sshamsi/sas/mangawork/manga/sandbox/galaxyzoo3d/v1_0_0/1-210631_127_5679584.fits.gz\n"
     ]
    },
    {
     "name": "stderr",
     "output_type": "stream",
     "text": [
      "\u001b[1;33m[WARNING]: \u001b[0m\u001b[0;39mCreating an ndarray from ragged nested sequences (which is a list-or-tuple of lists-or-tuples-or ndarrays with different lengths or shapes) is deprecated. If you meant to do this, you must specify 'dtype=object' when creating the ndarray\u001b[0m \u001b[0;36m(VisibleDeprecationWarning)\u001b[0m\n",
      "\u001b[1;33m[WARNING]: \u001b[0m\u001b[0;39mnp.asscalar(a) is deprecated since NumPy v1.16, use a.item() instead\u001b[0m \u001b[0;36m(DeprecationWarning)\u001b[0m\n"
     ]
    },
    {
     "name": "stdout",
     "output_type": "stream",
     "text": [
      "MaNGA ID 1-210631 \n",
      "\n",
      "/home/sshamsi/sas/mangawork/manga/sandbox/galaxyzoo3d/v1_0_0/1-210646_127_5679256.fits.gz\n"
     ]
    },
    {
     "name": "stderr",
     "output_type": "stream",
     "text": [
      "\u001b[1;33m[WARNING]: \u001b[0m\u001b[0;39mCreating an ndarray from ragged nested sequences (which is a list-or-tuple of lists-or-tuples-or ndarrays with different lengths or shapes) is deprecated. If you meant to do this, you must specify 'dtype=object' when creating the ndarray\u001b[0m \u001b[0;36m(VisibleDeprecationWarning)\u001b[0m\n",
      "\u001b[1;33m[WARNING]: \u001b[0m\u001b[0;39mnp.asscalar(a) is deprecated since NumPy v1.16, use a.item() instead\u001b[0m \u001b[0;36m(DeprecationWarning)\u001b[0m\n"
     ]
    },
    {
     "name": "stdout",
     "output_type": "stream",
     "text": [
      "MaNGA ID 1-210646 \n",
      "\n",
      "/home/sshamsi/sas/mangawork/manga/sandbox/galaxyzoo3d/v1_0_0/1-210844_91_5682744.fits.gz\n"
     ]
    },
    {
     "name": "stderr",
     "output_type": "stream",
     "text": [
      "\u001b[1;33m[WARNING]: \u001b[0m\u001b[0;39mCreating an ndarray from ragged nested sequences (which is a list-or-tuple of lists-or-tuples-or ndarrays with different lengths or shapes) is deprecated. If you meant to do this, you must specify 'dtype=object' when creating the ndarray\u001b[0m \u001b[0;36m(VisibleDeprecationWarning)\u001b[0m\n",
      "\u001b[1;33m[WARNING]: \u001b[0m\u001b[0;39mnp.asscalar(a) is deprecated since NumPy v1.16, use a.item() instead\u001b[0m \u001b[0;36m(DeprecationWarning)\u001b[0m\n"
     ]
    },
    {
     "name": "stdout",
     "output_type": "stream",
     "text": [
      "MaNGA ID 1-210844 \n",
      "\n",
      "/home/sshamsi/sas/mangawork/manga/sandbox/galaxyzoo3d/v1_0_0/1-210923_127_5679193.fits.gz\n"
     ]
    },
    {
     "name": "stderr",
     "output_type": "stream",
     "text": [
      "\u001b[1;33m[WARNING]: \u001b[0m\u001b[0;39mCreating an ndarray from ragged nested sequences (which is a list-or-tuple of lists-or-tuples-or ndarrays with different lengths or shapes) is deprecated. If you meant to do this, you must specify 'dtype=object' when creating the ndarray\u001b[0m \u001b[0;36m(VisibleDeprecationWarning)\u001b[0m\n",
      "\u001b[1;33m[WARNING]: \u001b[0m\u001b[0;39mnp.asscalar(a) is deprecated since NumPy v1.16, use a.item() instead\u001b[0m \u001b[0;36m(DeprecationWarning)\u001b[0m\n"
     ]
    },
    {
     "name": "stdout",
     "output_type": "stream",
     "text": [
      "MaNGA ID 1-210923 \n",
      "\n",
      "/home/sshamsi/sas/mangawork/manga/sandbox/galaxyzoo3d/v1_0_0/1-211017_127_5679357.fits.gz\n"
     ]
    },
    {
     "name": "stderr",
     "output_type": "stream",
     "text": [
      "\u001b[1;33m[WARNING]: \u001b[0m\u001b[0;39mCreating an ndarray from ragged nested sequences (which is a list-or-tuple of lists-or-tuples-or ndarrays with different lengths or shapes) is deprecated. If you meant to do this, you must specify 'dtype=object' when creating the ndarray\u001b[0m \u001b[0;36m(VisibleDeprecationWarning)\u001b[0m\n",
      "\u001b[1;33m[WARNING]: \u001b[0m\u001b[0;39mmore than one plate-ifu found for mangaid=1-211017. Using the one with the highest SN2.\u001b[0m \u001b[0;36m(MarvinUserWarning)\u001b[0m\n",
      "\u001b[1;33m[WARNING]: \u001b[0m\u001b[0;39mmore than one plate-ifu found for mangaid=1-211017. Using the one with the highest SN2.\u001b[0m \u001b[0;36m(MarvinUserWarning)\u001b[0m\n",
      "\u001b[1;33m[WARNING]: \u001b[0m\u001b[0;39mnp.asscalar(a) is deprecated since NumPy v1.16, use a.item() instead\u001b[0m \u001b[0;36m(DeprecationWarning)\u001b[0m\n"
     ]
    },
    {
     "name": "stdout",
     "output_type": "stream",
     "text": [
      "MaNGA ID 1-211017 \n",
      "\n",
      "/home/sshamsi/sas/mangawork/manga/sandbox/galaxyzoo3d/v1_0_0/1-211017_91_5682726.fits.gz\n"
     ]
    },
    {
     "name": "stderr",
     "output_type": "stream",
     "text": [
      "\u001b[1;33m[WARNING]: \u001b[0m\u001b[0;39mCreating an ndarray from ragged nested sequences (which is a list-or-tuple of lists-or-tuples-or ndarrays with different lengths or shapes) is deprecated. If you meant to do this, you must specify 'dtype=object' when creating the ndarray\u001b[0m \u001b[0;36m(VisibleDeprecationWarning)\u001b[0m\n",
      "\u001b[1;33m[WARNING]: \u001b[0m\u001b[0;39mmore than one plate-ifu found for mangaid=1-211017. Using the one with the highest SN2.\u001b[0m \u001b[0;36m(MarvinUserWarning)\u001b[0m\n",
      "\u001b[1;33m[WARNING]: \u001b[0m\u001b[0;39mnp.asscalar(a) is deprecated since NumPy v1.16, use a.item() instead\u001b[0m \u001b[0;36m(DeprecationWarning)\u001b[0m\n"
     ]
    },
    {
     "name": "stdout",
     "output_type": "stream",
     "text": [
      "MaNGA ID 1-211017 \n",
      "\n",
      "/home/sshamsi/sas/mangawork/manga/sandbox/galaxyzoo3d/v1_0_0/1-217637_127_5679224.fits.gz\n"
     ]
    },
    {
     "name": "stderr",
     "output_type": "stream",
     "text": [
      "\u001b[1;33m[WARNING]: \u001b[0m\u001b[0;39mCreating an ndarray from ragged nested sequences (which is a list-or-tuple of lists-or-tuples-or ndarrays with different lengths or shapes) is deprecated. If you meant to do this, you must specify 'dtype=object' when creating the ndarray\u001b[0m \u001b[0;36m(VisibleDeprecationWarning)\u001b[0m\n",
      "\u001b[1;33m[WARNING]: \u001b[0m\u001b[0;39mnp.asscalar(a) is deprecated since NumPy v1.16, use a.item() instead\u001b[0m \u001b[0;36m(DeprecationWarning)\u001b[0m\n"
     ]
    },
    {
     "name": "stdout",
     "output_type": "stream",
     "text": [
      "MaNGA ID 1-217637 \n",
      "\n",
      "/home/sshamsi/sas/mangawork/manga/sandbox/galaxyzoo3d/v1_0_0/1-235988_127_5679763.fits.gz\n"
     ]
    },
    {
     "name": "stderr",
     "output_type": "stream",
     "text": [
      "\u001b[1;33m[WARNING]: \u001b[0m\u001b[0;39mCreating an ndarray from ragged nested sequences (which is a list-or-tuple of lists-or-tuples-or ndarrays with different lengths or shapes) is deprecated. If you meant to do this, you must specify 'dtype=object' when creating the ndarray\u001b[0m \u001b[0;36m(VisibleDeprecationWarning)\u001b[0m\n",
      "\u001b[1;33m[WARNING]: \u001b[0m\u001b[0;39mnp.asscalar(a) is deprecated since NumPy v1.16, use a.item() instead\u001b[0m \u001b[0;36m(DeprecationWarning)\u001b[0m\n"
     ]
    },
    {
     "name": "stdout",
     "output_type": "stream",
     "text": [
      "MaNGA ID 1-235988 \n",
      "\n",
      "/home/sshamsi/sas/mangawork/manga/sandbox/galaxyzoo3d/v1_0_0/1-23746_127_5679155.fits.gz\n"
     ]
    },
    {
     "name": "stderr",
     "output_type": "stream",
     "text": [
      "\u001b[1;33m[WARNING]: \u001b[0m\u001b[0;39mCreating an ndarray from ragged nested sequences (which is a list-or-tuple of lists-or-tuples-or ndarrays with different lengths or shapes) is deprecated. If you meant to do this, you must specify 'dtype=object' when creating the ndarray\u001b[0m \u001b[0;36m(VisibleDeprecationWarning)\u001b[0m\n",
      "\u001b[1;33m[WARNING]: \u001b[0m\u001b[0;39mnp.asscalar(a) is deprecated since NumPy v1.16, use a.item() instead\u001b[0m \u001b[0;36m(DeprecationWarning)\u001b[0m\n"
     ]
    },
    {
     "name": "stdout",
     "output_type": "stream",
     "text": [
      "MaNGA ID 1-23746 \n",
      "\n",
      "/home/sshamsi/sas/mangawork/manga/sandbox/galaxyzoo3d/v1_0_0/1-24124_37_5680784.fits.gz\n"
     ]
    },
    {
     "name": "stderr",
     "output_type": "stream",
     "text": [
      "\u001b[1;33m[WARNING]: \u001b[0m\u001b[0;39mCreating an ndarray from ragged nested sequences (which is a list-or-tuple of lists-or-tuples-or ndarrays with different lengths or shapes) is deprecated. If you meant to do this, you must specify 'dtype=object' when creating the ndarray\u001b[0m \u001b[0;36m(VisibleDeprecationWarning)\u001b[0m\n",
      "\u001b[1;33m[WARNING]: \u001b[0m\u001b[0;39mnp.asscalar(a) is deprecated since NumPy v1.16, use a.item() instead\u001b[0m \u001b[0;36m(DeprecationWarning)\u001b[0m\n"
     ]
    },
    {
     "name": "stdout",
     "output_type": "stream",
     "text": [
      "MaNGA ID 1-24124 \n",
      "\n",
      "/home/sshamsi/sas/mangawork/manga/sandbox/galaxyzoo3d/v1_0_0/1-24368_127_5679459.fits.gz\n"
     ]
    },
    {
     "name": "stderr",
     "output_type": "stream",
     "text": [
      "\u001b[1;33m[WARNING]: \u001b[0m\u001b[0;39mCreating an ndarray from ragged nested sequences (which is a list-or-tuple of lists-or-tuples-or ndarrays with different lengths or shapes) is deprecated. If you meant to do this, you must specify 'dtype=object' when creating the ndarray\u001b[0m \u001b[0;36m(VisibleDeprecationWarning)\u001b[0m\n",
      "\u001b[1;33m[WARNING]: \u001b[0m\u001b[0;39mnp.asscalar(a) is deprecated since NumPy v1.16, use a.item() instead\u001b[0m \u001b[0;36m(DeprecationWarning)\u001b[0m\n"
     ]
    },
    {
     "name": "stdout",
     "output_type": "stream",
     "text": [
      "MaNGA ID 1-24368 \n",
      "\n",
      "/home/sshamsi/sas/mangawork/manga/sandbox/galaxyzoo3d/v1_0_0/1-24482_127_5679330.fits.gz\n"
     ]
    },
    {
     "name": "stderr",
     "output_type": "stream",
     "text": [
      "\u001b[1;33m[WARNING]: \u001b[0m\u001b[0;39mCreating an ndarray from ragged nested sequences (which is a list-or-tuple of lists-or-tuples-or ndarrays with different lengths or shapes) is deprecated. If you meant to do this, you must specify 'dtype=object' when creating the ndarray\u001b[0m \u001b[0;36m(VisibleDeprecationWarning)\u001b[0m\n",
      "\u001b[1;33m[WARNING]: \u001b[0m\u001b[0;39mnp.asscalar(a) is deprecated since NumPy v1.16, use a.item() instead\u001b[0m \u001b[0;36m(DeprecationWarning)\u001b[0m\n"
     ]
    },
    {
     "name": "stdout",
     "output_type": "stream",
     "text": [
      "MaNGA ID 1-24482 \n",
      "\n",
      "/home/sshamsi/sas/mangawork/manga/sandbox/galaxyzoo3d/v1_0_0/1-245404_127_5679744.fits.gz\n"
     ]
    },
    {
     "name": "stderr",
     "output_type": "stream",
     "text": [
      "\u001b[1;33m[WARNING]: \u001b[0m\u001b[0;39mCreating an ndarray from ragged nested sequences (which is a list-or-tuple of lists-or-tuples-or ndarrays with different lengths or shapes) is deprecated. If you meant to do this, you must specify 'dtype=object' when creating the ndarray\u001b[0m \u001b[0;36m(VisibleDeprecationWarning)\u001b[0m\n",
      "\u001b[1;33m[WARNING]: \u001b[0m\u001b[0;39mnp.asscalar(a) is deprecated since NumPy v1.16, use a.item() instead\u001b[0m \u001b[0;36m(DeprecationWarning)\u001b[0m\n"
     ]
    },
    {
     "name": "stdout",
     "output_type": "stream",
     "text": [
      "MaNGA ID 1-245404 \n",
      "\n",
      "/home/sshamsi/sas/mangawork/manga/sandbox/galaxyzoo3d/v1_0_0/1-245980_127_5679262.fits.gz\n"
     ]
    },
    {
     "name": "stderr",
     "output_type": "stream",
     "text": [
      "\u001b[1;33m[WARNING]: \u001b[0m\u001b[0;39mCreating an ndarray from ragged nested sequences (which is a list-or-tuple of lists-or-tuples-or ndarrays with different lengths or shapes) is deprecated. If you meant to do this, you must specify 'dtype=object' when creating the ndarray\u001b[0m \u001b[0;36m(VisibleDeprecationWarning)\u001b[0m\n",
      "\u001b[1;33m[WARNING]: \u001b[0m\u001b[0;39mnp.asscalar(a) is deprecated since NumPy v1.16, use a.item() instead\u001b[0m \u001b[0;36m(DeprecationWarning)\u001b[0m\n"
     ]
    },
    {
     "name": "stdout",
     "output_type": "stream",
     "text": [
      "MaNGA ID 1-245980 \n",
      "\n",
      "/home/sshamsi/sas/mangawork/manga/sandbox/galaxyzoo3d/v1_0_0/1-246331_127_5679754.fits.gz\n"
     ]
    },
    {
     "name": "stderr",
     "output_type": "stream",
     "text": [
      "\u001b[1;33m[WARNING]: \u001b[0m\u001b[0;39mCreating an ndarray from ragged nested sequences (which is a list-or-tuple of lists-or-tuples-or ndarrays with different lengths or shapes) is deprecated. If you meant to do this, you must specify 'dtype=object' when creating the ndarray\u001b[0m \u001b[0;36m(VisibleDeprecationWarning)\u001b[0m\n",
      "\u001b[1;33m[WARNING]: \u001b[0m\u001b[0;39mnp.asscalar(a) is deprecated since NumPy v1.16, use a.item() instead\u001b[0m \u001b[0;36m(DeprecationWarning)\u001b[0m\n"
     ]
    },
    {
     "name": "stdout",
     "output_type": "stream",
     "text": [
      "MaNGA ID 1-246331 \n",
      "\n",
      "/home/sshamsi/sas/mangawork/manga/sandbox/galaxyzoo3d/v1_0_0/1-246947_61_5682116.fits.gz\n"
     ]
    },
    {
     "name": "stderr",
     "output_type": "stream",
     "text": [
      "\u001b[1;33m[WARNING]: \u001b[0m\u001b[0;39mCreating an ndarray from ragged nested sequences (which is a list-or-tuple of lists-or-tuples-or ndarrays with different lengths or shapes) is deprecated. If you meant to do this, you must specify 'dtype=object' when creating the ndarray\u001b[0m \u001b[0;36m(VisibleDeprecationWarning)\u001b[0m\n",
      "\u001b[1;33m[WARNING]: \u001b[0m\u001b[0;39mnp.asscalar(a) is deprecated since NumPy v1.16, use a.item() instead\u001b[0m \u001b[0;36m(DeprecationWarning)\u001b[0m\n"
     ]
    },
    {
     "name": "stdout",
     "output_type": "stream",
     "text": [
      "MaNGA ID 1-246947 \n",
      "\n",
      "/home/sshamsi/sas/mangawork/manga/sandbox/galaxyzoo3d/v1_0_0/1-247382_127_5679676.fits.gz\n"
     ]
    },
    {
     "name": "stderr",
     "output_type": "stream",
     "text": [
      "\u001b[1;33m[WARNING]: \u001b[0m\u001b[0;39mCreating an ndarray from ragged nested sequences (which is a list-or-tuple of lists-or-tuples-or ndarrays with different lengths or shapes) is deprecated. If you meant to do this, you must specify 'dtype=object' when creating the ndarray\u001b[0m \u001b[0;36m(VisibleDeprecationWarning)\u001b[0m\n",
      "\u001b[1;33m[WARNING]: \u001b[0m\u001b[0;39mnp.asscalar(a) is deprecated since NumPy v1.16, use a.item() instead\u001b[0m \u001b[0;36m(DeprecationWarning)\u001b[0m\n"
     ]
    },
    {
     "name": "stdout",
     "output_type": "stream",
     "text": [
      "MaNGA ID 1-247382 \n",
      "\n",
      "/home/sshamsi/sas/mangawork/manga/sandbox/galaxyzoo3d/v1_0_0/1-247980_91_5682475.fits.gz\n"
     ]
    },
    {
     "name": "stderr",
     "output_type": "stream",
     "text": [
      "\u001b[1;33m[WARNING]: \u001b[0m\u001b[0;39mCreating an ndarray from ragged nested sequences (which is a list-or-tuple of lists-or-tuples-or ndarrays with different lengths or shapes) is deprecated. If you meant to do this, you must specify 'dtype=object' when creating the ndarray\u001b[0m \u001b[0;36m(VisibleDeprecationWarning)\u001b[0m\n",
      "\u001b[1;33m[WARNING]: \u001b[0m\u001b[0;39mnp.asscalar(a) is deprecated since NumPy v1.16, use a.item() instead\u001b[0m \u001b[0;36m(DeprecationWarning)\u001b[0m\n"
     ]
    },
    {
     "name": "stdout",
     "output_type": "stream",
     "text": [
      "MaNGA ID 1-247980 \n",
      "\n",
      "/home/sshamsi/sas/mangawork/manga/sandbox/galaxyzoo3d/v1_0_0/1-248348_127_5679362.fits.gz\n"
     ]
    },
    {
     "name": "stderr",
     "output_type": "stream",
     "text": [
      "\u001b[1;33m[WARNING]: \u001b[0m\u001b[0;39mCreating an ndarray from ragged nested sequences (which is a list-or-tuple of lists-or-tuples-or ndarrays with different lengths or shapes) is deprecated. If you meant to do this, you must specify 'dtype=object' when creating the ndarray\u001b[0m \u001b[0;36m(VisibleDeprecationWarning)\u001b[0m\n",
      "\u001b[1;33m[WARNING]: \u001b[0m\u001b[0;39mnp.asscalar(a) is deprecated since NumPy v1.16, use a.item() instead\u001b[0m \u001b[0;36m(DeprecationWarning)\u001b[0m\n"
     ]
    },
    {
     "name": "stdout",
     "output_type": "stream",
     "text": [
      "MaNGA ID 1-248348 \n",
      "\n",
      "/home/sshamsi/sas/mangawork/manga/sandbox/galaxyzoo3d/v1_0_0/1-248357_91_5682732.fits.gz\n"
     ]
    },
    {
     "name": "stderr",
     "output_type": "stream",
     "text": [
      "\u001b[1;33m[WARNING]: \u001b[0m\u001b[0;39mCreating an ndarray from ragged nested sequences (which is a list-or-tuple of lists-or-tuples-or ndarrays with different lengths or shapes) is deprecated. If you meant to do this, you must specify 'dtype=object' when creating the ndarray\u001b[0m \u001b[0;36m(VisibleDeprecationWarning)\u001b[0m\n",
      "\u001b[1;33m[WARNING]: \u001b[0m\u001b[0;39mnp.asscalar(a) is deprecated since NumPy v1.16, use a.item() instead\u001b[0m \u001b[0;36m(DeprecationWarning)\u001b[0m\n"
     ]
    },
    {
     "name": "stdout",
     "output_type": "stream",
     "text": [
      "MaNGA ID 1-248357 \n",
      "\n",
      "/home/sshamsi/sas/mangawork/manga/sandbox/galaxyzoo3d/v1_0_0/1-248388_127_5679198.fits.gz\n"
     ]
    },
    {
     "name": "stderr",
     "output_type": "stream",
     "text": [
      "\u001b[1;33m[WARNING]: \u001b[0m\u001b[0;39mCreating an ndarray from ragged nested sequences (which is a list-or-tuple of lists-or-tuples-or ndarrays with different lengths or shapes) is deprecated. If you meant to do this, you must specify 'dtype=object' when creating the ndarray\u001b[0m \u001b[0;36m(VisibleDeprecationWarning)\u001b[0m\n",
      "\u001b[1;33m[WARNING]: \u001b[0m\u001b[0;39mnp.asscalar(a) is deprecated since NumPy v1.16, use a.item() instead\u001b[0m \u001b[0;36m(DeprecationWarning)\u001b[0m\n"
     ]
    },
    {
     "name": "stdout",
     "output_type": "stream",
     "text": [
      "MaNGA ID 1-248388 \n",
      "\n",
      "/home/sshamsi/sas/mangawork/manga/sandbox/galaxyzoo3d/v1_0_0/1-248973_91_5682365.fits.gz\n"
     ]
    },
    {
     "name": "stderr",
     "output_type": "stream",
     "text": [
      "\u001b[1;33m[WARNING]: \u001b[0m\u001b[0;39mCreating an ndarray from ragged nested sequences (which is a list-or-tuple of lists-or-tuples-or ndarrays with different lengths or shapes) is deprecated. If you meant to do this, you must specify 'dtype=object' when creating the ndarray\u001b[0m \u001b[0;36m(VisibleDeprecationWarning)\u001b[0m\n",
      "\u001b[1;33m[WARNING]: \u001b[0m\u001b[0;39mnp.asscalar(a) is deprecated since NumPy v1.16, use a.item() instead\u001b[0m \u001b[0;36m(DeprecationWarning)\u001b[0m\n"
     ]
    },
    {
     "name": "stdout",
     "output_type": "stream",
     "text": [
      "MaNGA ID 1-248973 \n",
      "\n",
      "/home/sshamsi/sas/mangawork/manga/sandbox/galaxyzoo3d/v1_0_0/1-252070_61_5682216.fits.gz\n"
     ]
    },
    {
     "name": "stderr",
     "output_type": "stream",
     "text": [
      "\u001b[1;33m[WARNING]: \u001b[0m\u001b[0;39mCreating an ndarray from ragged nested sequences (which is a list-or-tuple of lists-or-tuples-or ndarrays with different lengths or shapes) is deprecated. If you meant to do this, you must specify 'dtype=object' when creating the ndarray\u001b[0m \u001b[0;36m(VisibleDeprecationWarning)\u001b[0m\n",
      "\u001b[1;33m[WARNING]: \u001b[0m\u001b[0;39mnp.asscalar(a) is deprecated since NumPy v1.16, use a.item() instead\u001b[0m \u001b[0;36m(DeprecationWarning)\u001b[0m\n"
     ]
    },
    {
     "name": "stdout",
     "output_type": "stream",
     "text": [
      "MaNGA ID 1-252070 \n",
      "\n",
      "/home/sshamsi/sas/mangawork/manga/sandbox/galaxyzoo3d/v1_0_0/1-254342_127_5679071.fits.gz\n"
     ]
    },
    {
     "name": "stderr",
     "output_type": "stream",
     "text": [
      "\u001b[1;33m[WARNING]: \u001b[0m\u001b[0;39mCreating an ndarray from ragged nested sequences (which is a list-or-tuple of lists-or-tuples-or ndarrays with different lengths or shapes) is deprecated. If you meant to do this, you must specify 'dtype=object' when creating the ndarray\u001b[0m \u001b[0;36m(VisibleDeprecationWarning)\u001b[0m\n",
      "\u001b[1;33m[WARNING]: \u001b[0m\u001b[0;39mnp.asscalar(a) is deprecated since NumPy v1.16, use a.item() instead\u001b[0m \u001b[0;36m(DeprecationWarning)\u001b[0m\n"
     ]
    },
    {
     "name": "stdout",
     "output_type": "stream",
     "text": [
      "MaNGA ID 1-254342 \n",
      "\n",
      "/home/sshamsi/sas/mangawork/manga/sandbox/galaxyzoo3d/v1_0_0/1-25593_61_5682148.fits.gz\n"
     ]
    },
    {
     "name": "stderr",
     "output_type": "stream",
     "text": [
      "\u001b[1;33m[WARNING]: \u001b[0m\u001b[0;39mCreating an ndarray from ragged nested sequences (which is a list-or-tuple of lists-or-tuples-or ndarrays with different lengths or shapes) is deprecated. If you meant to do this, you must specify 'dtype=object' when creating the ndarray\u001b[0m \u001b[0;36m(VisibleDeprecationWarning)\u001b[0m\n",
      "\u001b[1;33m[WARNING]: \u001b[0m\u001b[0;39mnp.asscalar(a) is deprecated since NumPy v1.16, use a.item() instead\u001b[0m \u001b[0;36m(DeprecationWarning)\u001b[0m\n"
     ]
    },
    {
     "name": "stdout",
     "output_type": "stream",
     "text": [
      "MaNGA ID 1-25593 \n",
      "\n",
      "/home/sshamsi/sas/mangawork/manga/sandbox/galaxyzoo3d/v1_0_0/1-257412_127_5679762.fits.gz\n"
     ]
    },
    {
     "name": "stderr",
     "output_type": "stream",
     "text": [
      "\u001b[1;33m[WARNING]: \u001b[0m\u001b[0;39mCreating an ndarray from ragged nested sequences (which is a list-or-tuple of lists-or-tuples-or ndarrays with different lengths or shapes) is deprecated. If you meant to do this, you must specify 'dtype=object' when creating the ndarray\u001b[0m \u001b[0;36m(VisibleDeprecationWarning)\u001b[0m\n",
      "\u001b[1;33m[WARNING]: \u001b[0m\u001b[0;39mnp.asscalar(a) is deprecated since NumPy v1.16, use a.item() instead\u001b[0m \u001b[0;36m(DeprecationWarning)\u001b[0m\n"
     ]
    },
    {
     "name": "stdout",
     "output_type": "stream",
     "text": [
      "MaNGA ID 1-257412 \n",
      "\n",
      "/home/sshamsi/sas/mangawork/manga/sandbox/galaxyzoo3d/v1_0_0/1-258752_61_5681738.fits.gz\n"
     ]
    },
    {
     "name": "stderr",
     "output_type": "stream",
     "text": [
      "\u001b[1;33m[WARNING]: \u001b[0m\u001b[0;39mCreating an ndarray from ragged nested sequences (which is a list-or-tuple of lists-or-tuples-or ndarrays with different lengths or shapes) is deprecated. If you meant to do this, you must specify 'dtype=object' when creating the ndarray\u001b[0m \u001b[0;36m(VisibleDeprecationWarning)\u001b[0m\n",
      "\u001b[1;33m[WARNING]: \u001b[0m\u001b[0;39mnp.asscalar(a) is deprecated since NumPy v1.16, use a.item() instead\u001b[0m \u001b[0;36m(DeprecationWarning)\u001b[0m\n"
     ]
    },
    {
     "name": "stdout",
     "output_type": "stream",
     "text": [
      "MaNGA ID 1-258752 \n",
      "\n",
      "/home/sshamsi/sas/mangawork/manga/sandbox/galaxyzoo3d/v1_0_0/1-258820_127_5679029.fits.gz\n"
     ]
    },
    {
     "name": "stderr",
     "output_type": "stream",
     "text": [
      "\u001b[1;33m[WARNING]: \u001b[0m\u001b[0;39mCreating an ndarray from ragged nested sequences (which is a list-or-tuple of lists-or-tuples-or ndarrays with different lengths or shapes) is deprecated. If you meant to do this, you must specify 'dtype=object' when creating the ndarray\u001b[0m \u001b[0;36m(VisibleDeprecationWarning)\u001b[0m\n",
      "\u001b[1;33m[WARNING]: \u001b[0m\u001b[0;39mnp.asscalar(a) is deprecated since NumPy v1.16, use a.item() instead\u001b[0m \u001b[0;36m(DeprecationWarning)\u001b[0m\n"
     ]
    },
    {
     "name": "stdout",
     "output_type": "stream",
     "text": [
      "MaNGA ID 1-258820 \n",
      "\n",
      "/home/sshamsi/sas/mangawork/manga/sandbox/galaxyzoo3d/v1_0_0/1-259175_91_5682381.fits.gz\n"
     ]
    },
    {
     "name": "stderr",
     "output_type": "stream",
     "text": [
      "\u001b[1;33m[WARNING]: \u001b[0m\u001b[0;39mCreating an ndarray from ragged nested sequences (which is a list-or-tuple of lists-or-tuples-or ndarrays with different lengths or shapes) is deprecated. If you meant to do this, you must specify 'dtype=object' when creating the ndarray\u001b[0m \u001b[0;36m(VisibleDeprecationWarning)\u001b[0m\n",
      "\u001b[1;33m[WARNING]: \u001b[0m\u001b[0;39mnp.asscalar(a) is deprecated since NumPy v1.16, use a.item() instead\u001b[0m \u001b[0;36m(DeprecationWarning)\u001b[0m\n"
     ]
    },
    {
     "name": "stdout",
     "output_type": "stream",
     "text": [
      "MaNGA ID 1-259175 \n",
      "\n",
      "/home/sshamsi/sas/mangawork/manga/sandbox/galaxyzoo3d/v1_0_0/1-259537_61_5681653.fits.gz\n"
     ]
    },
    {
     "name": "stderr",
     "output_type": "stream",
     "text": [
      "\u001b[1;33m[WARNING]: \u001b[0m\u001b[0;39mCreating an ndarray from ragged nested sequences (which is a list-or-tuple of lists-or-tuples-or ndarrays with different lengths or shapes) is deprecated. If you meant to do this, you must specify 'dtype=object' when creating the ndarray\u001b[0m \u001b[0;36m(VisibleDeprecationWarning)\u001b[0m\n",
      "\u001b[1;33m[WARNING]: \u001b[0m\u001b[0;39mnp.asscalar(a) is deprecated since NumPy v1.16, use a.item() instead\u001b[0m \u001b[0;36m(DeprecationWarning)\u001b[0m\n"
     ]
    },
    {
     "name": "stdout",
     "output_type": "stream",
     "text": [
      "MaNGA ID 1-259537 \n",
      "\n",
      "/home/sshamsi/sas/mangawork/manga/sandbox/galaxyzoo3d/v1_0_0/1-260446_61_5681538.fits.gz\n"
     ]
    },
    {
     "name": "stderr",
     "output_type": "stream",
     "text": [
      "\u001b[1;33m[WARNING]: \u001b[0m\u001b[0;39mCreating an ndarray from ragged nested sequences (which is a list-or-tuple of lists-or-tuples-or ndarrays with different lengths or shapes) is deprecated. If you meant to do this, you must specify 'dtype=object' when creating the ndarray\u001b[0m \u001b[0;36m(VisibleDeprecationWarning)\u001b[0m\n",
      "\u001b[1;33m[WARNING]: \u001b[0m\u001b[0;39mnp.asscalar(a) is deprecated since NumPy v1.16, use a.item() instead\u001b[0m \u001b[0;36m(DeprecationWarning)\u001b[0m\n"
     ]
    },
    {
     "name": "stdout",
     "output_type": "stream",
     "text": [
      "MaNGA ID 1-260446 \n",
      "\n",
      "/home/sshamsi/sas/mangawork/manga/sandbox/galaxyzoo3d/v1_0_0/1-260733_127_5679024.fits.gz\n"
     ]
    },
    {
     "name": "stderr",
     "output_type": "stream",
     "text": [
      "\u001b[1;33m[WARNING]: \u001b[0m\u001b[0;39mCreating an ndarray from ragged nested sequences (which is a list-or-tuple of lists-or-tuples-or ndarrays with different lengths or shapes) is deprecated. If you meant to do this, you must specify 'dtype=object' when creating the ndarray\u001b[0m \u001b[0;36m(VisibleDeprecationWarning)\u001b[0m\n",
      "\u001b[1;33m[WARNING]: \u001b[0m\u001b[0;39mnp.asscalar(a) is deprecated since NumPy v1.16, use a.item() instead\u001b[0m \u001b[0;36m(DeprecationWarning)\u001b[0m\n"
     ]
    },
    {
     "name": "stdout",
     "output_type": "stream",
     "text": [
      "MaNGA ID 1-260733 \n",
      "\n",
      "/home/sshamsi/sas/mangawork/manga/sandbox/galaxyzoo3d/v1_0_0/1-277290_127_5678990.fits.gz\n"
     ]
    },
    {
     "name": "stderr",
     "output_type": "stream",
     "text": [
      "\u001b[1;33m[WARNING]: \u001b[0m\u001b[0;39mCreating an ndarray from ragged nested sequences (which is a list-or-tuple of lists-or-tuples-or ndarrays with different lengths or shapes) is deprecated. If you meant to do this, you must specify 'dtype=object' when creating the ndarray\u001b[0m \u001b[0;36m(VisibleDeprecationWarning)\u001b[0m\n",
      "\u001b[1;33m[WARNING]: \u001b[0m\u001b[0;39mnp.asscalar(a) is deprecated since NumPy v1.16, use a.item() instead\u001b[0m \u001b[0;36m(DeprecationWarning)\u001b[0m\n"
     ]
    },
    {
     "name": "stdout",
     "output_type": "stream",
     "text": [
      "MaNGA ID 1-277290 \n",
      "\n",
      "/home/sshamsi/sas/mangawork/manga/sandbox/galaxyzoo3d/v1_0_0/1-278221_61_5681619.fits.gz\n"
     ]
    },
    {
     "name": "stderr",
     "output_type": "stream",
     "text": [
      "\u001b[1;33m[WARNING]: \u001b[0m\u001b[0;39mCreating an ndarray from ragged nested sequences (which is a list-or-tuple of lists-or-tuples-or ndarrays with different lengths or shapes) is deprecated. If you meant to do this, you must specify 'dtype=object' when creating the ndarray\u001b[0m \u001b[0;36m(VisibleDeprecationWarning)\u001b[0m\n",
      "\u001b[1;33m[WARNING]: \u001b[0m\u001b[0;39mnp.asscalar(a) is deprecated since NumPy v1.16, use a.item() instead\u001b[0m \u001b[0;36m(DeprecationWarning)\u001b[0m\n"
     ]
    },
    {
     "name": "stdout",
     "output_type": "stream",
     "text": [
      "MaNGA ID 1-278221 \n",
      "\n",
      "/home/sshamsi/sas/mangawork/manga/sandbox/galaxyzoo3d/v1_0_0/1-282712_127_5679519.fits.gz\n"
     ]
    },
    {
     "name": "stderr",
     "output_type": "stream",
     "text": [
      "\u001b[1;33m[WARNING]: \u001b[0m\u001b[0;39mCreating an ndarray from ragged nested sequences (which is a list-or-tuple of lists-or-tuples-or ndarrays with different lengths or shapes) is deprecated. If you meant to do this, you must specify 'dtype=object' when creating the ndarray\u001b[0m \u001b[0;36m(VisibleDeprecationWarning)\u001b[0m\n",
      "\u001b[1;33m[WARNING]: \u001b[0m\u001b[0;39mnp.asscalar(a) is deprecated since NumPy v1.16, use a.item() instead\u001b[0m \u001b[0;36m(DeprecationWarning)\u001b[0m\n"
     ]
    },
    {
     "name": "stdout",
     "output_type": "stream",
     "text": [
      "MaNGA ID 1-282712 \n",
      "\n",
      "/home/sshamsi/sas/mangawork/manga/sandbox/galaxyzoo3d/v1_0_0/1-284291_61_5681540.fits.gz\n"
     ]
    },
    {
     "name": "stderr",
     "output_type": "stream",
     "text": [
      "\u001b[1;33m[WARNING]: \u001b[0m\u001b[0;39mCreating an ndarray from ragged nested sequences (which is a list-or-tuple of lists-or-tuples-or ndarrays with different lengths or shapes) is deprecated. If you meant to do this, you must specify 'dtype=object' when creating the ndarray\u001b[0m \u001b[0;36m(VisibleDeprecationWarning)\u001b[0m\n",
      "\u001b[1;33m[WARNING]: \u001b[0m\u001b[0;39mnp.asscalar(a) is deprecated since NumPy v1.16, use a.item() instead\u001b[0m \u001b[0;36m(DeprecationWarning)\u001b[0m\n"
     ]
    },
    {
     "name": "stdout",
     "output_type": "stream",
     "text": [
      "MaNGA ID 1-284291 \n",
      "\n",
      "/home/sshamsi/sas/mangawork/manga/sandbox/galaxyzoo3d/v1_0_0/1-284428_127_5679016.fits.gz\n"
     ]
    },
    {
     "name": "stderr",
     "output_type": "stream",
     "text": [
      "\u001b[1;33m[WARNING]: \u001b[0m\u001b[0;39mCreating an ndarray from ragged nested sequences (which is a list-or-tuple of lists-or-tuples-or ndarrays with different lengths or shapes) is deprecated. If you meant to do this, you must specify 'dtype=object' when creating the ndarray\u001b[0m \u001b[0;36m(VisibleDeprecationWarning)\u001b[0m\n",
      "\u001b[1;33m[WARNING]: \u001b[0m\u001b[0;39mnp.asscalar(a) is deprecated since NumPy v1.16, use a.item() instead\u001b[0m \u001b[0;36m(DeprecationWarning)\u001b[0m\n"
     ]
    },
    {
     "name": "stdout",
     "output_type": "stream",
     "text": [
      "MaNGA ID 1-284428 \n",
      "\n",
      "/home/sshamsi/sas/mangawork/manga/sandbox/galaxyzoo3d/v1_0_0/1-284485_127_5679352.fits.gz\n"
     ]
    },
    {
     "name": "stderr",
     "output_type": "stream",
     "text": [
      "\u001b[1;33m[WARNING]: \u001b[0m\u001b[0;39mCreating an ndarray from ragged nested sequences (which is a list-or-tuple of lists-or-tuples-or ndarrays with different lengths or shapes) is deprecated. If you meant to do this, you must specify 'dtype=object' when creating the ndarray\u001b[0m \u001b[0;36m(VisibleDeprecationWarning)\u001b[0m\n",
      "\u001b[1;33m[WARNING]: \u001b[0m\u001b[0;39mnp.asscalar(a) is deprecated since NumPy v1.16, use a.item() instead\u001b[0m \u001b[0;36m(DeprecationWarning)\u001b[0m\n"
     ]
    },
    {
     "name": "stdout",
     "output_type": "stream",
     "text": [
      "MaNGA ID 1-284485 \n",
      "\n",
      "/home/sshamsi/sas/mangawork/manga/sandbox/galaxyzoo3d/v1_0_0/1-284522_91_5682717.fits.gz\n"
     ]
    },
    {
     "name": "stderr",
     "output_type": "stream",
     "text": [
      "\u001b[1;33m[WARNING]: \u001b[0m\u001b[0;39mCreating an ndarray from ragged nested sequences (which is a list-or-tuple of lists-or-tuples-or ndarrays with different lengths or shapes) is deprecated. If you meant to do this, you must specify 'dtype=object' when creating the ndarray\u001b[0m \u001b[0;36m(VisibleDeprecationWarning)\u001b[0m\n",
      "\u001b[1;33m[WARNING]: \u001b[0m\u001b[0;39mnp.asscalar(a) is deprecated since NumPy v1.16, use a.item() instead\u001b[0m \u001b[0;36m(DeprecationWarning)\u001b[0m\n"
     ]
    },
    {
     "name": "stdout",
     "output_type": "stream",
     "text": [
      "MaNGA ID 1-284522 \n",
      "\n",
      "/home/sshamsi/sas/mangawork/manga/sandbox/galaxyzoo3d/v1_0_0/1-285052_127_5679125.fits.gz\n"
     ]
    },
    {
     "name": "stderr",
     "output_type": "stream",
     "text": [
      "\u001b[1;33m[WARNING]: \u001b[0m\u001b[0;39mCreating an ndarray from ragged nested sequences (which is a list-or-tuple of lists-or-tuples-or ndarrays with different lengths or shapes) is deprecated. If you meant to do this, you must specify 'dtype=object' when creating the ndarray\u001b[0m \u001b[0;36m(VisibleDeprecationWarning)\u001b[0m\n",
      "\u001b[1;33m[WARNING]: \u001b[0m\u001b[0;39mnp.asscalar(a) is deprecated since NumPy v1.16, use a.item() instead\u001b[0m \u001b[0;36m(DeprecationWarning)\u001b[0m\n"
     ]
    },
    {
     "name": "stdout",
     "output_type": "stream",
     "text": [
      "MaNGA ID 1-285052 \n",
      "\n",
      "/home/sshamsi/sas/mangawork/manga/sandbox/galaxyzoo3d/v1_0_0/1-285136_127_5679452.fits.gz\n"
     ]
    },
    {
     "name": "stderr",
     "output_type": "stream",
     "text": [
      "\u001b[1;33m[WARNING]: \u001b[0m\u001b[0;39mCreating an ndarray from ragged nested sequences (which is a list-or-tuple of lists-or-tuples-or ndarrays with different lengths or shapes) is deprecated. If you meant to do this, you must specify 'dtype=object' when creating the ndarray\u001b[0m \u001b[0;36m(VisibleDeprecationWarning)\u001b[0m\n",
      "\u001b[1;33m[WARNING]: \u001b[0m\u001b[0;39mnp.asscalar(a) is deprecated since NumPy v1.16, use a.item() instead\u001b[0m \u001b[0;36m(DeprecationWarning)\u001b[0m\n"
     ]
    },
    {
     "name": "stdout",
     "output_type": "stream",
     "text": [
      "MaNGA ID 1-285136 \n",
      "\n",
      "/home/sshamsi/sas/mangawork/manga/sandbox/galaxyzoo3d/v1_0_0/1-285728_91_5682478.fits.gz\n"
     ]
    },
    {
     "name": "stderr",
     "output_type": "stream",
     "text": [
      "\u001b[1;33m[WARNING]: \u001b[0m\u001b[0;39mCreating an ndarray from ragged nested sequences (which is a list-or-tuple of lists-or-tuples-or ndarrays with different lengths or shapes) is deprecated. If you meant to do this, you must specify 'dtype=object' when creating the ndarray\u001b[0m \u001b[0;36m(VisibleDeprecationWarning)\u001b[0m\n",
      "\u001b[1;33m[WARNING]: \u001b[0m\u001b[0;39mnp.asscalar(a) is deprecated since NumPy v1.16, use a.item() instead\u001b[0m \u001b[0;36m(DeprecationWarning)\u001b[0m\n"
     ]
    },
    {
     "name": "stdout",
     "output_type": "stream",
     "text": [
      "MaNGA ID 1-285728 \n",
      "\n",
      "/home/sshamsi/sas/mangawork/manga/sandbox/galaxyzoo3d/v1_0_0/1-285737_127_5679364.fits.gz\n"
     ]
    },
    {
     "name": "stderr",
     "output_type": "stream",
     "text": [
      "\u001b[1;33m[WARNING]: \u001b[0m\u001b[0;39mCreating an ndarray from ragged nested sequences (which is a list-or-tuple of lists-or-tuples-or ndarrays with different lengths or shapes) is deprecated. If you meant to do this, you must specify 'dtype=object' when creating the ndarray\u001b[0m \u001b[0;36m(VisibleDeprecationWarning)\u001b[0m\n",
      "\u001b[1;33m[WARNING]: \u001b[0m\u001b[0;39mnp.asscalar(a) is deprecated since NumPy v1.16, use a.item() instead\u001b[0m \u001b[0;36m(DeprecationWarning)\u001b[0m\n"
     ]
    },
    {
     "name": "stdout",
     "output_type": "stream",
     "text": [
      "MaNGA ID 1-285737 \n",
      "\n",
      "/home/sshamsi/sas/mangawork/manga/sandbox/galaxyzoo3d/v1_0_0/1-286307_127_5679367.fits.gz\n"
     ]
    },
    {
     "name": "stderr",
     "output_type": "stream",
     "text": [
      "\u001b[1;33m[WARNING]: \u001b[0m\u001b[0;39mCreating an ndarray from ragged nested sequences (which is a list-or-tuple of lists-or-tuples-or ndarrays with different lengths or shapes) is deprecated. If you meant to do this, you must specify 'dtype=object' when creating the ndarray\u001b[0m \u001b[0;36m(VisibleDeprecationWarning)\u001b[0m\n"
     ]
    },
    {
     "ename": "AccessError",
     "evalue": "Return code 23\nb'rsync: link_stat \"mangawork/manga/spectro/analysis/v2_7_1/2.4.1/HYB10-MILESHC-MASTARHC/8332/12703/manga-8332-12703-MAPS-HYB10-MILESHC-MASTARHC.fits.gz\" (in sas) failed: No such file or directory (2)\\nrsync error: some files/attrs were not transferred (see previous errors) (code 23) at main.c(1677) [Receiver=3.1.3]\\n'",
     "output_type": "error",
     "traceback": [
      "\u001b[0;31m---------------------------------------------------------------------------\u001b[0m",
      "\u001b[0;31mAccessError\u001b[0m                               Traceback (most recent call last)",
      "\u001b[0;32m<ipython-input-5-e001d371d475>\u001b[0m in \u001b[0;36m<module>\u001b[0;34m\u001b[0m\n\u001b[1;32m      1\u001b[0m \u001b[0;32mfor\u001b[0m \u001b[0mpath\u001b[0m \u001b[0;32min\u001b[0m \u001b[0musable_paths\u001b[0m\u001b[0;34m:\u001b[0m\u001b[0;34m\u001b[0m\u001b[0;34m\u001b[0m\u001b[0m\n\u001b[1;32m      2\u001b[0m     \u001b[0mprint\u001b[0m\u001b[0;34m(\u001b[0m\u001b[0mpath\u001b[0m\u001b[0;34m)\u001b[0m\u001b[0;34m\u001b[0m\u001b[0;34m\u001b[0m\u001b[0m\n\u001b[0;32m----> 3\u001b[0;31m     \u001b[0mprint\u001b[0m\u001b[0;34m(\u001b[0m\u001b[0mSpiralGalaxy\u001b[0m\u001b[0;34m(\u001b[0m\u001b[0mpath\u001b[0m\u001b[0;34m)\u001b[0m\u001b[0;34m,\u001b[0m \u001b[0;34m'\\n'\u001b[0m\u001b[0;34m)\u001b[0m\u001b[0;34m\u001b[0m\u001b[0;34m\u001b[0m\u001b[0m\n\u001b[0m",
      "\u001b[0;32m~/spirals/GZ3D_spiral_analysis/spiral_galaxy.py\u001b[0m in \u001b[0;36m__init__\u001b[0;34m(self, file_path)\u001b[0m\n\u001b[1;32m     16\u001b[0m         \u001b[0mself\u001b[0m\u001b[0;34m.\u001b[0m\u001b[0mmangaid\u001b[0m \u001b[0;34m=\u001b[0m \u001b[0mself\u001b[0m\u001b[0;34m.\u001b[0m\u001b[0mdata\u001b[0m\u001b[0;34m.\u001b[0m\u001b[0mmetadata\u001b[0m\u001b[0;34m[\u001b[0m\u001b[0;34m'MANGAID'\u001b[0m\u001b[0;34m]\u001b[0m\u001b[0;34m[\u001b[0m\u001b[0;36m0\u001b[0m\u001b[0;34m]\u001b[0m\u001b[0;34m\u001b[0m\u001b[0;34m\u001b[0m\u001b[0m\n\u001b[1;32m     17\u001b[0m \u001b[0;34m\u001b[0m\u001b[0m\n\u001b[0;32m---> 18\u001b[0;31m         \u001b[0mself\u001b[0m\u001b[0;34m.\u001b[0m\u001b[0mmaps\u001b[0m \u001b[0;34m=\u001b[0m \u001b[0mMaps\u001b[0m\u001b[0;34m(\u001b[0m\u001b[0mself\u001b[0m\u001b[0;34m.\u001b[0m\u001b[0mmangaid\u001b[0m\u001b[0;34m)\u001b[0m\u001b[0;34m\u001b[0m\u001b[0;34m\u001b[0m\u001b[0m\n\u001b[0m\u001b[1;32m     19\u001b[0m         \u001b[0mself\u001b[0m\u001b[0;34m.\u001b[0m\u001b[0mhamap\u001b[0m \u001b[0;34m=\u001b[0m \u001b[0mself\u001b[0m\u001b[0;34m.\u001b[0m\u001b[0mmaps\u001b[0m\u001b[0;34m.\u001b[0m\u001b[0memline_gflux_ha_6564\u001b[0m\u001b[0;34m\u001b[0m\u001b[0;34m\u001b[0m\u001b[0m\n\u001b[1;32m     20\u001b[0m         \u001b[0mself\u001b[0m\u001b[0;34m.\u001b[0m\u001b[0mhbmap\u001b[0m \u001b[0;34m=\u001b[0m \u001b[0mself\u001b[0m\u001b[0;34m.\u001b[0m\u001b[0mmaps\u001b[0m\u001b[0;34m.\u001b[0m\u001b[0memline_gflux_hb_4862\u001b[0m\u001b[0;34m\u001b[0m\u001b[0;34m\u001b[0m\u001b[0m\n",
      "\u001b[0;32m~/miniconda3/envs/marvin/lib/python3.8/site-packages/marvin/tools/maps.py\u001b[0m in \u001b[0;36m__init__\u001b[0;34m(self, input, filename, mangaid, plateifu, mode, data, release, drpall, download, nsa_source, bintype, template, template_kin)\u001b[0m\n\u001b[1;32m     95\u001b[0m         \u001b[0mself\u001b[0m\u001b[0;34m.\u001b[0m\u001b[0m_bitmasks\u001b[0m \u001b[0;34m=\u001b[0m \u001b[0;32mNone\u001b[0m\u001b[0;34m\u001b[0m\u001b[0;34m\u001b[0m\u001b[0m\n\u001b[1;32m     96\u001b[0m \u001b[0;34m\u001b[0m\u001b[0m\n\u001b[0;32m---> 97\u001b[0;31m         MarvinToolsClass.__init__(self, input=input, filename=filename,\n\u001b[0m\u001b[1;32m     98\u001b[0m                                   \u001b[0mmangaid\u001b[0m\u001b[0;34m=\u001b[0m\u001b[0mmangaid\u001b[0m\u001b[0;34m,\u001b[0m \u001b[0mplateifu\u001b[0m\u001b[0;34m=\u001b[0m\u001b[0mplateifu\u001b[0m\u001b[0;34m,\u001b[0m\u001b[0;34m\u001b[0m\u001b[0;34m\u001b[0m\u001b[0m\n\u001b[1;32m     99\u001b[0m                                   \u001b[0mmode\u001b[0m\u001b[0;34m=\u001b[0m\u001b[0mmode\u001b[0m\u001b[0;34m,\u001b[0m \u001b[0mdata\u001b[0m\u001b[0;34m=\u001b[0m\u001b[0mdata\u001b[0m\u001b[0;34m,\u001b[0m \u001b[0mrelease\u001b[0m\u001b[0;34m=\u001b[0m\u001b[0mrelease\u001b[0m\u001b[0;34m,\u001b[0m\u001b[0;34m\u001b[0m\u001b[0;34m\u001b[0m\u001b[0m\n",
      "\u001b[0;32m~/miniconda3/envs/marvin/lib/python3.8/site-packages/marvin/tools/core.py\u001b[0m in \u001b[0;36m__init__\u001b[0;34m(self, input, filename, mangaid, plateifu, mode, data, release, drpall, download)\u001b[0m\n\u001b[1;32m    114\u001b[0m                  mode=None, data=None, release=None, drpall=None, download=None):\n\u001b[1;32m    115\u001b[0m \u001b[0;34m\u001b[0m\u001b[0m\n\u001b[0;32m--> 116\u001b[0;31m         MMAMixIn.__init__(self, input=input, filename=filename, mangaid=mangaid,\n\u001b[0m\u001b[1;32m    117\u001b[0m                           \u001b[0mplateifu\u001b[0m\u001b[0;34m=\u001b[0m\u001b[0mplateifu\u001b[0m\u001b[0;34m,\u001b[0m \u001b[0mmode\u001b[0m\u001b[0;34m=\u001b[0m\u001b[0mmode\u001b[0m\u001b[0;34m,\u001b[0m \u001b[0mdata\u001b[0m\u001b[0;34m=\u001b[0m\u001b[0mdata\u001b[0m\u001b[0;34m,\u001b[0m \u001b[0mrelease\u001b[0m\u001b[0;34m=\u001b[0m\u001b[0mrelease\u001b[0m\u001b[0;34m,\u001b[0m\u001b[0;34m\u001b[0m\u001b[0;34m\u001b[0m\u001b[0m\n\u001b[1;32m    118\u001b[0m                           download=download)\n",
      "\u001b[0;32m~/miniconda3/envs/marvin/lib/python3.8/site-packages/marvin/tools/mixins/mma.py\u001b[0m in \u001b[0;36m__init__\u001b[0;34m(self, input, filename, mangaid, plateifu, mode, data, release, drpall, download, ignore_db)\u001b[0m\n\u001b[1;32m    125\u001b[0m \u001b[0;34m\u001b[0m\u001b[0m\n\u001b[1;32m    126\u001b[0m         \u001b[0;32mif\u001b[0m \u001b[0mself\u001b[0m\u001b[0;34m.\u001b[0m\u001b[0mmode\u001b[0m \u001b[0;34m==\u001b[0m \u001b[0;34m'local'\u001b[0m\u001b[0;34m:\u001b[0m\u001b[0;34m\u001b[0m\u001b[0;34m\u001b[0m\u001b[0m\n\u001b[0;32m--> 127\u001b[0;31m             \u001b[0mself\u001b[0m\u001b[0;34m.\u001b[0m\u001b[0m_doLocal\u001b[0m\u001b[0;34m(\u001b[0m\u001b[0;34m)\u001b[0m\u001b[0;34m\u001b[0m\u001b[0;34m\u001b[0m\u001b[0m\n\u001b[0m\u001b[1;32m    128\u001b[0m         \u001b[0;32melif\u001b[0m \u001b[0mself\u001b[0m\u001b[0;34m.\u001b[0m\u001b[0mmode\u001b[0m \u001b[0;34m==\u001b[0m \u001b[0;34m'remote'\u001b[0m\u001b[0;34m:\u001b[0m\u001b[0;34m\u001b[0m\u001b[0;34m\u001b[0m\u001b[0m\n\u001b[1;32m    129\u001b[0m             \u001b[0mself\u001b[0m\u001b[0;34m.\u001b[0m\u001b[0m_doRemote\u001b[0m\u001b[0;34m(\u001b[0m\u001b[0;34m)\u001b[0m\u001b[0;34m\u001b[0m\u001b[0;34m\u001b[0m\u001b[0m\n",
      "\u001b[0;32m~/miniconda3/envs/marvin/lib/python3.8/site-packages/marvin/tools/mixins/mma.py\u001b[0m in \u001b[0;36m_doLocal\u001b[0;34m(self)\u001b[0m\n\u001b[1;32m    286\u001b[0m                 \u001b[0;32melse\u001b[0m\u001b[0;34m:\u001b[0m\u001b[0;34m\u001b[0m\u001b[0;34m\u001b[0m\u001b[0m\n\u001b[1;32m    287\u001b[0m                     \u001b[0;32mif\u001b[0m \u001b[0mself\u001b[0m\u001b[0;34m.\u001b[0m\u001b[0m_forcedownload\u001b[0m\u001b[0;34m:\u001b[0m\u001b[0;34m\u001b[0m\u001b[0;34m\u001b[0m\u001b[0m\n\u001b[0;32m--> 288\u001b[0;31m                         \u001b[0mself\u001b[0m\u001b[0;34m.\u001b[0m\u001b[0mdownload\u001b[0m\u001b[0;34m(\u001b[0m\u001b[0;34m)\u001b[0m\u001b[0;34m\u001b[0m\u001b[0;34m\u001b[0m\u001b[0m\n\u001b[0m\u001b[1;32m    289\u001b[0m                         \u001b[0mself\u001b[0m\u001b[0;34m.\u001b[0m\u001b[0mdata_origin\u001b[0m \u001b[0;34m=\u001b[0m \u001b[0;34m'file'\u001b[0m\u001b[0;34m\u001b[0m\u001b[0;34m\u001b[0m\u001b[0m\n\u001b[1;32m    290\u001b[0m                     \u001b[0;32melse\u001b[0m\u001b[0;34m:\u001b[0m\u001b[0;34m\u001b[0m\u001b[0;34m\u001b[0m\u001b[0m\n",
      "\u001b[0;32m~/miniconda3/envs/marvin/lib/python3.8/site-packages/marvin/tools/maps.py\u001b[0m in \u001b[0;36mdownload\u001b[0;34m(self)\u001b[0m\n\u001b[1;32m    211\u001b[0m         \u001b[0mpath_type\u001b[0m \u001b[0;34m=\u001b[0m \u001b[0mparams\u001b[0m\u001b[0;34m.\u001b[0m\u001b[0mpop\u001b[0m\u001b[0;34m(\u001b[0m\u001b[0;34m'path_type'\u001b[0m\u001b[0;34m)\u001b[0m\u001b[0;34m\u001b[0m\u001b[0;34m\u001b[0m\u001b[0m\n\u001b[1;32m    212\u001b[0m \u001b[0;34m\u001b[0m\u001b[0m\n\u001b[0;32m--> 213\u001b[0;31m         \u001b[0;32mreturn\u001b[0m \u001b[0msuper\u001b[0m\u001b[0;34m(\u001b[0m\u001b[0mMaps\u001b[0m\u001b[0;34m,\u001b[0m \u001b[0mself\u001b[0m\u001b[0;34m)\u001b[0m\u001b[0;34m.\u001b[0m\u001b[0mdownload\u001b[0m\u001b[0;34m(\u001b[0m\u001b[0mpath_type\u001b[0m\u001b[0;34m,\u001b[0m \u001b[0;34m**\u001b[0m\u001b[0mparams\u001b[0m\u001b[0;34m)\u001b[0m\u001b[0;34m\u001b[0m\u001b[0;34m\u001b[0m\u001b[0m\n\u001b[0m\u001b[1;32m    214\u001b[0m \u001b[0;34m\u001b[0m\u001b[0m\n\u001b[1;32m    215\u001b[0m     \u001b[0;32mdef\u001b[0m \u001b[0m_getPathParams\u001b[0m\u001b[0;34m(\u001b[0m\u001b[0mself\u001b[0m\u001b[0;34m)\u001b[0m\u001b[0;34m:\u001b[0m\u001b[0;34m\u001b[0m\u001b[0;34m\u001b[0m\u001b[0m\n",
      "\u001b[0;32m~/miniconda3/envs/marvin/lib/python3.8/site-packages/marvin/tools/mixins/mma.py\u001b[0m in \u001b[0;36mdownload\u001b[0;34m(self, pathType, **pathParams)\u001b[0m\n\u001b[1;32m    314\u001b[0m             \u001b[0maccess\u001b[0m\u001b[0;34m.\u001b[0m\u001b[0mremote\u001b[0m\u001b[0;34m(\u001b[0m\u001b[0;34m)\u001b[0m\u001b[0;34m\u001b[0m\u001b[0;34m\u001b[0m\u001b[0m\n\u001b[1;32m    315\u001b[0m             \u001b[0maccess\u001b[0m\u001b[0;34m.\u001b[0m\u001b[0madd\u001b[0m\u001b[0;34m(\u001b[0m\u001b[0mpathType\u001b[0m\u001b[0;34m,\u001b[0m \u001b[0;34m**\u001b[0m\u001b[0mpathParams\u001b[0m\u001b[0;34m)\u001b[0m\u001b[0;34m\u001b[0m\u001b[0;34m\u001b[0m\u001b[0m\n\u001b[0;32m--> 316\u001b[0;31m             \u001b[0maccess\u001b[0m\u001b[0;34m.\u001b[0m\u001b[0mset_stream\u001b[0m\u001b[0;34m(\u001b[0m\u001b[0;34m)\u001b[0m\u001b[0;34m\u001b[0m\u001b[0;34m\u001b[0m\u001b[0m\n\u001b[0m\u001b[1;32m    317\u001b[0m             \u001b[0maccess\u001b[0m\u001b[0;34m.\u001b[0m\u001b[0mcommit\u001b[0m\u001b[0;34m(\u001b[0m\u001b[0;34m)\u001b[0m\u001b[0;34m\u001b[0m\u001b[0;34m\u001b[0m\u001b[0m\n\u001b[1;32m    318\u001b[0m             \u001b[0mpaths\u001b[0m \u001b[0;34m=\u001b[0m \u001b[0maccess\u001b[0m\u001b[0;34m.\u001b[0m\u001b[0mget_paths\u001b[0m\u001b[0;34m(\u001b[0m\u001b[0;34m)\u001b[0m\u001b[0;34m\u001b[0m\u001b[0;34m\u001b[0m\u001b[0m\n",
      "\u001b[0;32m~/miniconda3/envs/marvin/lib/python3.8/site-packages/marvin/extern/sdss_access/python/sdss_access/sync/baseaccess.py\u001b[0m in \u001b[0;36mset_stream\u001b[0;34m(self)\u001b[0m\n\u001b[1;32m    103\u001b[0m             \u001b[0;32mif\u001b[0m \u001b[0mself\u001b[0m\u001b[0;34m.\u001b[0m\u001b[0mstream\u001b[0m\u001b[0;34m.\u001b[0m\u001b[0msource\u001b[0m \u001b[0;32mand\u001b[0m \u001b[0mself\u001b[0m\u001b[0;34m.\u001b[0m\u001b[0mstream\u001b[0m\u001b[0;34m.\u001b[0m\u001b[0mdestination\u001b[0m\u001b[0;34m:\u001b[0m\u001b[0;34m\u001b[0m\u001b[0;34m\u001b[0m\u001b[0m\n\u001b[1;32m    104\u001b[0m                 \u001b[0;32mfor\u001b[0m \u001b[0mtask\u001b[0m \u001b[0;32min\u001b[0m \u001b[0mself\u001b[0m\u001b[0;34m.\u001b[0m\u001b[0minitial_stream\u001b[0m\u001b[0;34m.\u001b[0m\u001b[0mtask\u001b[0m\u001b[0;34m:\u001b[0m\u001b[0;34m\u001b[0m\u001b[0;34m\u001b[0m\u001b[0m\n\u001b[0;32m--> 105\u001b[0;31m                     \u001b[0mself\u001b[0m\u001b[0;34m.\u001b[0m\u001b[0mset_stream_task\u001b[0m\u001b[0;34m(\u001b[0m\u001b[0mtask\u001b[0m\u001b[0;34m)\u001b[0m\u001b[0;34m\u001b[0m\u001b[0;34m\u001b[0m\u001b[0m\n\u001b[0m\u001b[1;32m    106\u001b[0m             \u001b[0mntask\u001b[0m \u001b[0;34m=\u001b[0m \u001b[0mlen\u001b[0m\u001b[0;34m(\u001b[0m\u001b[0mself\u001b[0m\u001b[0;34m.\u001b[0m\u001b[0mstream\u001b[0m\u001b[0;34m.\u001b[0m\u001b[0mtask\u001b[0m\u001b[0;34m)\u001b[0m\u001b[0;34m\u001b[0m\u001b[0;34m\u001b[0m\u001b[0m\n\u001b[1;32m    107\u001b[0m             \u001b[0;32mif\u001b[0m \u001b[0mself\u001b[0m\u001b[0;34m.\u001b[0m\u001b[0mstream\u001b[0m\u001b[0;34m.\u001b[0m\u001b[0mstream_count\u001b[0m \u001b[0;34m>\u001b[0m \u001b[0mntask\u001b[0m\u001b[0;34m:\u001b[0m\u001b[0;34m\u001b[0m\u001b[0;34m\u001b[0m\u001b[0m\n",
      "\u001b[0;32m~/miniconda3/envs/marvin/lib/python3.8/site-packages/marvin/extern/sdss_access/python/sdss_access/sync/rsync.py\u001b[0m in \u001b[0;36mset_stream_task\u001b[0;34m(self, task)\u001b[0m\n\u001b[1;32m     59\u001b[0m \u001b[0;34m\u001b[0m\u001b[0m\n\u001b[1;32m     60\u001b[0m     \u001b[0;32mdef\u001b[0m \u001b[0mset_stream_task\u001b[0m\u001b[0;34m(\u001b[0m\u001b[0mself\u001b[0m\u001b[0;34m,\u001b[0m \u001b[0mtask\u001b[0m\u001b[0;34m=\u001b[0m\u001b[0;32mNone\u001b[0m\u001b[0;34m)\u001b[0m\u001b[0;34m:\u001b[0m\u001b[0;34m\u001b[0m\u001b[0;34m\u001b[0m\u001b[0m\n\u001b[0;32m---> 61\u001b[0;31m         \u001b[0mout\u001b[0m \u001b[0;34m=\u001b[0m \u001b[0mself\u001b[0m\u001b[0;34m.\u001b[0m\u001b[0mget_task_out\u001b[0m\u001b[0;34m(\u001b[0m\u001b[0mtask\u001b[0m\u001b[0;34m=\u001b[0m\u001b[0mtask\u001b[0m\u001b[0;34m)\u001b[0m\u001b[0;34m\u001b[0m\u001b[0;34m\u001b[0m\u001b[0m\n\u001b[0m\u001b[1;32m     62\u001b[0m         \u001b[0msuper\u001b[0m\u001b[0;34m(\u001b[0m\u001b[0mRsyncAccess\u001b[0m\u001b[0;34m,\u001b[0m \u001b[0mself\u001b[0m\u001b[0;34m)\u001b[0m\u001b[0;34m.\u001b[0m\u001b[0mset_stream_task\u001b[0m\u001b[0;34m(\u001b[0m\u001b[0mtask\u001b[0m\u001b[0;34m=\u001b[0m\u001b[0mtask\u001b[0m\u001b[0;34m,\u001b[0m \u001b[0mout\u001b[0m\u001b[0;34m=\u001b[0m\u001b[0mout\u001b[0m\u001b[0;34m)\u001b[0m\u001b[0;34m\u001b[0m\u001b[0;34m\u001b[0m\u001b[0m\n\u001b[1;32m     63\u001b[0m \u001b[0;34m\u001b[0m\u001b[0m\n",
      "\u001b[0;32m~/miniconda3/envs/marvin/lib/python3.8/site-packages/marvin/extern/sdss_access/python/sdss_access/sync/rsync.py\u001b[0m in \u001b[0;36mget_task_out\u001b[0;34m(self, task)\u001b[0m\n\u001b[1;32m     35\u001b[0m             \u001b[0mstatus\u001b[0m\u001b[0;34m,\u001b[0m \u001b[0mout\u001b[0m\u001b[0;34m,\u001b[0m \u001b[0merr\u001b[0m \u001b[0;34m=\u001b[0m \u001b[0mself\u001b[0m\u001b[0;34m.\u001b[0m\u001b[0mstream\u001b[0m\u001b[0;34m.\u001b[0m\u001b[0mcli\u001b[0m\u001b[0;34m.\u001b[0m\u001b[0mforeground_run\u001b[0m\u001b[0;34m(\u001b[0m\u001b[0mcommand\u001b[0m\u001b[0;34m)\u001b[0m\u001b[0;34m\u001b[0m\u001b[0;34m\u001b[0m\u001b[0m\n\u001b[1;32m     36\u001b[0m             \u001b[0;32mif\u001b[0m \u001b[0mstatus\u001b[0m\u001b[0;34m:\u001b[0m\u001b[0;34m\u001b[0m\u001b[0;34m\u001b[0m\u001b[0m\n\u001b[0;32m---> 37\u001b[0;31m                 \u001b[0;32mraise\u001b[0m \u001b[0mAccessError\u001b[0m\u001b[0;34m(\u001b[0m\u001b[0;34m\"Return code %r\\n%s\"\u001b[0m \u001b[0;34m%\u001b[0m \u001b[0;34m(\u001b[0m\u001b[0mstatus\u001b[0m\u001b[0;34m,\u001b[0m \u001b[0merr\u001b[0m\u001b[0;34m)\u001b[0m\u001b[0;34m)\u001b[0m\u001b[0;34m\u001b[0m\u001b[0;34m\u001b[0m\u001b[0m\n\u001b[0m\u001b[1;32m     38\u001b[0m         \u001b[0;32melse\u001b[0m\u001b[0;34m:\u001b[0m\u001b[0;34m\u001b[0m\u001b[0;34m\u001b[0m\u001b[0m\n\u001b[1;32m     39\u001b[0m             \u001b[0mout\u001b[0m \u001b[0;34m=\u001b[0m \u001b[0;32mNone\u001b[0m\u001b[0;34m\u001b[0m\u001b[0;34m\u001b[0m\u001b[0m\n",
      "\u001b[0;31mAccessError\u001b[0m: Return code 23\nb'rsync: link_stat \"mangawork/manga/spectro/analysis/v2_7_1/2.4.1/HYB10-MILESHC-MASTARHC/8332/12703/manga-8332-12703-MAPS-HYB10-MILESHC-MASTARHC.fits.gz\" (in sas) failed: No such file or directory (2)\\nrsync error: some files/attrs were not transferred (see previous errors) (code 23) at main.c(1677) [Receiver=3.1.3]\\n'"
     ]
    }
   ],
   "source": [
    "for path in usable_paths:\n",
    "    print(path)\n",
    "    print(SpiralGalaxy(path), '\\n')"
   ]
  },
  {
   "cell_type": "code",
   "execution_count": null,
   "metadata": {
    "scrolled": false
   },
   "outputs": [],
   "source": [
    "for path in usable_paths:\n",
    "    try:\n",
    "        print(path)\n",
    "        print(SpiralGalaxy(path), '\\n')\n",
    "    except:\n",
    "        print(\"\\n\\nOwchie Wowchie \", path.split('/')[-1].split('_')[0], 'is Grouchy\\n\\n')"
   ]
  },
  {
   "cell_type": "code",
   "execution_count": null,
   "metadata": {
    "scrolled": true
   },
   "outputs": [],
   "source": [
    "gal_objs = [print(SpiralGalaxy(path)) for path in usable_paths]"
   ]
  },
  {
   "cell_type": "code",
   "execution_count": null,
   "metadata": {},
   "outputs": [],
   "source": [
    "mangaid_list = [gal.mangaid for gal in gal_objs]"
   ]
  },
  {
   "cell_type": "code",
   "execution_count": null,
   "metadata": {},
   "outputs": [],
   "source": [
    "for gal in gal_objs:\n",
    "    gal.form_global_df()"
   ]
  },
  {
   "cell_type": "code",
   "execution_count": null,
   "metadata": {},
   "outputs": [],
   "source": [
    "for gal in gal_objs:\n",
    "    gal.df['Mass'] = gal.mass\n",
    "    \n",
    "for gal in gal_objs:\n",
    "    gal.df['$\\lg{Mass}$'] = gal.lgmass\n",
    "    \n",
    "for gal in gal_objs:\n",
    "    gal.df['MaNGA ID'] = gal.mangaid"
   ]
  },
  {
   "cell_type": "code",
   "execution_count": null,
   "metadata": {},
   "outputs": [],
   "source": [
    "for gal in gal_objs:\n",
    "    map_ha = gal.maps.getMap('emline_gflux', channel='ha_6564')\n",
    "    map_hb = gal.maps.getMap('emline_gflux', channel='hb_4862')\n",
    "\n",
    "    ha_snr = map_ha.snr.flatten()\n",
    "    hb_snr = map_hb.snr.flatten()\n",
    "\n",
    "    gal.df['S/N $H_{\\\\alpha}$'] = ha_snr\n",
    "    gal.df['S/N $H_{\\\\beta}$'] = hb_snr"
   ]
  },
  {
   "cell_type": "code",
   "execution_count": null,
   "metadata": {},
   "outputs": [],
   "source": [
    "df_list = [gal.df for gal in gal_objs]\n",
    "\n",
    "spax_df = pd.concat(df_list)"
   ]
  },
  {
   "cell_type": "code",
   "execution_count": null,
   "metadata": {},
   "outputs": [],
   "source": [
    "spax_df = spax_df.dropna()\n",
    "spax_df = spax_df[(spax_df.Comp == 0) & (spax_df.AGN == 0) & (spax_df.Seyfert == 0) & (spax_df.Liner == 0)]\n",
    "spax_df = spax_df[(spax_df['$r/r_e$'] <= 1) & (spax_df['$r/r_e$'] >= 0.1)]\n",
    "spax_df = spax_df[(spax_df['S/N $H_{\\\\alpha}$'] >= 3) & (spax_df['S/N $H_{\\\\beta}$'] >= 3)]"
   ]
  },
  {
   "cell_type": "code",
   "execution_count": null,
   "metadata": {},
   "outputs": [],
   "source": [
    "cut, bins = pd.qcut(spax_df['$\\lg{Mass}$'], q=5, retbins=True)"
   ]
  },
  {
   "cell_type": "code",
   "execution_count": null,
   "metadata": {},
   "outputs": [],
   "source": [
    "labels = [round((bins[i] + bins[i + 1]) / 2, 2) for i in range(5)]"
   ]
  },
  {
   "cell_type": "code",
   "execution_count": null,
   "metadata": {},
   "outputs": [],
   "source": [
    "spax_df['Mass Bin'] = pd.qcut(spax_df['$\\lg{Mass}$'], q=5, labels=labels)"
   ]
  },
  {
   "cell_type": "code",
   "execution_count": null,
   "metadata": {},
   "outputs": [],
   "source": [
    "def avg_sfr(main_df, mangaid_list, gal_objs):\n",
    "    ncoor_sfr, ncoor_sfr_var = [], []\n",
    "    ncoor_sfr_spiral, ncoor_sfr_var_spiral = [], []\n",
    "    ncoor_sfr_nspiral, ncoor_sfr_var_nspiral = [], []\n",
    "    \n",
    "    unique_ids = main_df['MaNGA ID'].unique()\n",
    "    \n",
    "    tot_n, tot_n_spiral, tot_n_nspiral = 0, 0, 0\n",
    "    \n",
    "    for mangaid in unique_ids:\n",
    "        df = main_df[main_df['MaNGA ID'] == mangaid]\n",
    "        df_spiral = df[df['Spiral Arm'] == 1]\n",
    "        df_nspiral = df[df['Spiral Arm'] == 0]\n",
    "        \n",
    "        n = len(df.index)\n",
    "        n_spiral = len(df_spiral.index)\n",
    "        n_nspiral = len(df_nspiral.index)\n",
    "        \n",
    "        index = mangaid_list.index(mangaid)\n",
    "        \n",
    "        if n > 0:\n",
    "            sfr, sfr_stdv = gal_objs[index].get_sfr(df.index, avg=True)\n",
    "            \n",
    "            ncoor_sfr.append(sfr * n)\n",
    "            ncoor_sfr_var.append((sfr_stdv**2) * n)\n",
    "            \n",
    "            tot_n += n\n",
    "            \n",
    "        if n_spiral > 0:\n",
    "            sfr_spiral, sfr_spiral_stdv = gal_objs[index].get_sfr(df_spiral.index, avg=True)\n",
    "            \n",
    "            ncoor_sfr_spiral.append(sfr_spiral * n_spiral)\n",
    "            ncoor_sfr_var_spiral.append((sfr_spiral_stdv**2) * n_spiral)\n",
    "            \n",
    "            tot_n_spiral += n_spiral\n",
    "        \n",
    "        if n_nspiral > 0:\n",
    "            sfr_nspiral, sfr_nspiral_stdv = gal_objs[index].get_sfr(df_nspiral.index, avg=True)\n",
    "            \n",
    "            ncoor_sfr_nspiral.append(sfr_nspiral * n_nspiral)\n",
    "            ncoor_sfr_var_nspiral.append((sfr_nspiral_stdv**2) * n_nspiral)\n",
    "            \n",
    "            tot_n_nspiral += n_nspiral\n",
    "        \n",
    "    tot_sfr = sum(ncoor_sfr) / tot_n\n",
    "    tot_sfr_stdv = np.sqrt(sum(ncoor_sfr_var) / tot_n)\n",
    "    \n",
    "    tot_sfr_spiral = sum(ncoor_sfr_spiral) / tot_n_spiral\n",
    "    tot_sfr_stdv_spiral = np.sqrt(sum(ncoor_sfr_var_spiral) / tot_n_spiral)\n",
    "    \n",
    "    tot_sfr_nspiral = sum(ncoor_sfr_nspiral) / tot_n_nspiral\n",
    "    tot_sfr_stdv_nspiral = np.sqrt(sum(ncoor_sfr_var_nspiral) / tot_n_nspiral)\n",
    "    \n",
    "    return tot_sfr, tot_sfr_stdv, tot_sfr_spiral, tot_sfr_stdv_spiral, tot_sfr_nspiral, tot_sfr_stdv_nspiral"
   ]
  },
  {
   "cell_type": "code",
   "execution_count": null,
   "metadata": {},
   "outputs": [],
   "source": [
    "bin_sfrs, bin_sfrs_stdv = [], []\n",
    "bin_sfrs_spiral, bin_sfrs_stdv_spiral = [], []\n",
    "bin_sfrs_nspiral, bin_sfrs_stdv_nspiral = [], []\n",
    "\n",
    "for label in labels:\n",
    "    df = spax_df[spax_df['Mass Bin'] == label]\n",
    "    vals = avg_sfr(df, mangaid_list, gal_objs)\n",
    "    \n",
    "    bin_sfrs.append(vals[0])\n",
    "    bin_sfrs_stdv.append(vals[1])\n",
    "    bin_sfrs_spiral.append(vals[2])\n",
    "    bin_sfrs_stdv_spiral.append(vals[3])\n",
    "    bin_sfrs_nspiral.append(vals[4])\n",
    "    bin_sfrs_stdv_nspiral.append(vals[5])"
   ]
  },
  {
   "cell_type": "code",
   "execution_count": null,
   "metadata": {},
   "outputs": [],
   "source": [
    "bin_sfr_spiral_pc = []\n",
    "bin_sfr_spiral_pc_stdv = []\n",
    "\n",
    "for i in range(len(labels)):\n",
    "    sfr_spiral_pc = bin_sfrs_spiral[i] / bin_sfrs[i]\n",
    "    \n",
    "    sfr_spiral_pc_stdv = sfr_spiral_pc * np.sqrt((bin_sfrs_stdv_spiral[i] / bin_sfrs_spiral[i])**2 +\n",
    "                                                 (bin_sfrs_stdv[i]/bin_sfrs[i])**2)\n",
    "    \n",
    "    bin_sfr_spiral_pc.append(sfr_spiral_pc)\n",
    "    bin_sfr_spiral_pc_stdv.append(sfr_spiral_pc_stdv)"
   ]
  },
  {
   "cell_type": "code",
   "execution_count": null,
   "metadata": {},
   "outputs": [],
   "source": [
    "plt.figure(figsize=(12, 9))\n",
    "\n",
    "plt.errorbar(labels, bin_sfr_spiral_pc, yerr=bin_sfr_spiral_pc_stdv)\n",
    "\n",
    "plt.xlabel('Mass Bins $lg(M_*/M_☉)$', labelpad=20, size=20)\n",
    "plt.ylabel(r'$\\frac{SFR_{spiral}}{SFR_{total}}$', labelpad=20, size=30)\n",
    "plt.xticks(size=20)\n",
    "plt.yticks(size=20)"
   ]
  },
  {
   "cell_type": "code",
   "execution_count": null,
   "metadata": {},
   "outputs": [],
   "source": [
    "from marvin.tools.maps import Maps"
   ]
  },
  {
   "cell_type": "code",
   "execution_count": null,
   "metadata": {},
   "outputs": [],
   "source": [
    "%xmode verbose\n",
    "Maps('1-286307', download=True)"
   ]
  },
  {
   "cell_type": "code",
   "execution_count": null,
   "metadata": {},
   "outputs": [],
   "source": [
    "1-286307"
   ]
  },
  {
   "cell_type": "code",
   "execution_count": null,
   "metadata": {},
   "outputs": [],
   "source": [
    "1-72914"
   ]
  },
  {
   "cell_type": "code",
   "execution_count": null,
   "metadata": {},
   "outputs": [],
   "source": [
    "from marvin.tools.maps import Maps"
   ]
  },
  {
   "cell_type": "code",
   "execution_count": null,
   "metadata": {},
   "outputs": [],
   "source": [
    "Maps('1-286307')"
   ]
  },
  {
   "cell_type": "code",
   "execution_count": null,
   "metadata": {},
   "outputs": [],
   "source": [
    "Maps('1-72914', mode='remote')"
   ]
  },
  {
   "cell_type": "code",
   "execution_count": 6,
   "metadata": {},
   "outputs": [
    {
     "name": "stderr",
     "output_type": "stream",
     "text": [
      "\u001b[1;33m[WARNING]: \u001b[0m\u001b[0;39mCannot retrieve URLMap. Remote functionality will not work: Requests Http Status Error: 502 Server Error: Bad Gateway for url: https://sas.sdss.org/marvin/api/general/getroutemap?release=MPL-9&compression=json\u001b[0m \u001b[0;36m(MarvinUserWarning)\u001b[0m\n"
     ]
    },
    {
     "name": "stdout",
     "output_type": "stream",
     "text": [
      "{}\n"
     ]
    }
   ],
   "source": [
    "import marvin\n",
    "print(marvin.config.urlmap)"
   ]
  },
  {
   "cell_type": "code",
   "execution_count": 7,
   "metadata": {},
   "outputs": [
    {
     "name": "stdout",
     "output_type": "stream",
     "text": [
      "{}\n"
     ]
    }
   ],
   "source": [
    "print(marvin.config.urlmap)"
   ]
  },
  {
   "cell_type": "code",
   "execution_count": null,
   "metadata": {},
   "outputs": [],
   "source": []
  }
 ],
 "metadata": {
  "kernelspec": {
   "display_name": "Python 3",
   "language": "python",
   "name": "python3"
  },
  "language_info": {
   "codemirror_mode": {
    "name": "ipython",
    "version": 3
   },
   "file_extension": ".py",
   "mimetype": "text/x-python",
   "name": "python",
   "nbconvert_exporter": "python",
   "pygments_lexer": "ipython3",
   "version": "3.9.2"
  }
 },
 "nbformat": 4,
 "nbformat_minor": 2
}
