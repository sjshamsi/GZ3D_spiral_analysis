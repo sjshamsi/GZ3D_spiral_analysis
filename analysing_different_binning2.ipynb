{
 "cells": [
  {
   "cell_type": "markdown",
   "metadata": {},
   "source": [
    "# We're going to compare the two binning methods for all of our galaxies."
   ]
  },
  {
   "cell_type": "markdown",
   "metadata": {},
   "source": [
    "Let's import all the necessary modules and then make a list of usable FITS file paths "
   ]
  },
  {
   "cell_type": "code",
   "execution_count": 1,
   "metadata": {},
   "outputs": [
    {
     "name": "stdout",
     "output_type": "stream",
     "text": [
      "INFO: No release version set. Setting default to MPL-7\n"
     ]
    },
    {
     "name": "stderr",
     "output_type": "stream",
     "text": [
      "/usr/lib/python3.5/importlib/_bootstrap.py:222: RuntimeWarning: numpy.dtype size changed, may indicate binary incompatibility. Expected 96, got 88\n",
      "  return f(*args, **kwds)\n"
     ]
    }
   ],
   "source": [
    "from new_Galaxy import SpiralGalaxy as SG1\n",
    "from newer_Galaxy import SpiralGalaxy as SG2"
   ]
  },
  {
   "cell_type": "code",
   "execution_count": 2,
   "metadata": {},
   "outputs": [],
   "source": [
    "import os\n",
    "import matplotlib.pyplot as plt\n",
    "import pandas as pd\n",
    "import numpy as np"
   ]
  },
  {
   "cell_type": "code",
   "execution_count": 3,
   "metadata": {},
   "outputs": [],
   "source": [
    "def append_directory(path):\n",
    "    fits_list = []\n",
    "    \n",
    "    for root, dirs, files in os.walk(path):\n",
    "        for file in files:\n",
    "            if file.endswith(\".fits.gz\"):\n",
    "                element = str(path) + str(file)\n",
    "                fits_list.append(element)\n",
    "    return fits_list"
   ]
  },
  {
   "cell_type": "code",
   "execution_count": 4,
   "metadata": {},
   "outputs": [],
   "source": [
    "fits_list = append_directory('/raid5/homes/sshamsi/sas/mangawork/manga/sandbox/galaxyzoo3d/v1_0_0/')"
   ]
  },
  {
   "cell_type": "code",
   "execution_count": 5,
   "metadata": {},
   "outputs": [],
   "source": [
    "usable_gals = np.load('usable_gals.npy')"
   ]
  },
  {
   "cell_type": "code",
   "execution_count": 6,
   "metadata": {},
   "outputs": [],
   "source": [
    "usable_paths = []\n",
    "\n",
    "for path in fits_list:\n",
    "    if path.split('/')[-1].split('_')[0] in usable_gals:\n",
    "        usable_paths.append(path)"
   ]
  },
  {
   "cell_type": "markdown",
   "metadata": {},
   "source": [
    "Let us now compare both the binning methods."
   ]
  },
  {
   "cell_type": "code",
   "execution_count": 7,
   "metadata": {},
   "outputs": [
    {
     "name": "stderr",
     "output_type": "stream",
     "text": [
      "/homes/sshamsi/.local/lib/python3.5/site-packages/marvin/tools/maps.py:272: MarvinUserWarning: mismatch between file version=DR15 and object release=MPL-7. Setting object release to DR15\n",
      "  marvin.core.exceptions.MarvinUserWarning)\n",
      "/homes/sshamsi/.local/lib/python3.5/site-packages/marvin/utils/general/general.py:354: MarvinUserWarning: more than one plate-ifu found for mangaid=1-211017. Using the one with the highest SN2.\n",
      "  MarvinUserWarning)\n"
     ]
    }
   ],
   "source": [
    "gal_list1 = []\n",
    "gal_list2 = []\n",
    "\n",
    "for path in usable_paths:\n",
    "    gal1 = SG1(path)\n",
    "    gal2 = SG2(path)\n",
    "    \n",
    "    gal_list1.append(gal1)\n",
    "    gal_list2.append(gal2)"
   ]
  },
  {
   "cell_type": "code",
   "execution_count": 8,
   "metadata": {},
   "outputs": [
    {
     "name": "stderr",
     "output_type": "stream",
     "text": [
      "/raid5/homes/sshamsi/galaxy_zoo/GZ3D_spiral_analysis/new_Galaxy.py:134: RuntimeWarning: invalid value encountered in double_scalars\n",
      "  x['SFR'] = (self.delta * (ha_flux**3.36) * (hb_flux**-2.36)) / self.spax_area\n",
      "/raid5/homes/sshamsi/galaxy_zoo/GZ3D_spiral_analysis/new_Galaxy.py:134: RuntimeWarning: invalid value encountered in double_scalars\n",
      "  x['SFR'] = (self.delta * (ha_flux**3.36) * (hb_flux**-2.36)) / self.spax_area\n"
     ]
    }
   ],
   "source": [
    "for i in range(len(usable_paths)):\n",
    "    gal_list1[i].form_global_df()\n",
    "    gal_list2[i].form_global_df()"
   ]
  },
  {
   "cell_type": "code",
   "execution_count": 9,
   "metadata": {},
   "outputs": [],
   "source": [
    "for gal in gal_list1:\n",
    "    map_ha = gal.maps.getMap('emline_gflux', channel='ha_6564')\n",
    "    map_hb = gal.maps.getMap('emline_gflux', channel='hb_4862')\n",
    "\n",
    "    ha_snr = map_ha.snr.flatten()\n",
    "    hb_snr = map_hb.snr.flatten()\n",
    "\n",
    "    gal.df['S/N $H_{\\\\alpha}$'] = ha_snr\n",
    "    gal.df['S/N $H_{\\\\beta}$'] = hb_snr"
   ]
  },
  {
   "cell_type": "code",
   "execution_count": null,
   "metadata": {},
   "outputs": [],
   "source": [
    "for gal in gal_list2:\n",
    "    map_ha = gal.maps.getMap('emline_gflux', channel='ha_6564')\n",
    "    map_hb = gal.maps.getMap('emline_gflux', channel='hb_4862')\n",
    "\n",
    "    ha_snr = map_ha.snr.flatten()\n",
    "    hb_snr = map_hb.snr.flatten()\n",
    "\n",
    "    gal.df['S/N $H_{\\\\alpha}$'] = ha_snr\n",
    "    gal.df['S/N $H_{\\\\beta}$'] = hb_snr"
   ]
  },
  {
   "cell_type": "code",
   "execution_count": null,
   "metadata": {},
   "outputs": [],
   "source": [
    "tot_sfrs1 = []\n",
    "tot_sfr_stdvs1 = []\n",
    "\n",
    "tot_sfrs2 = []\n",
    "tot_sfr_stdvs2 = []\n",
    "\n",
    "for i in range(len(usable_paths)):\n",
    "    df1 = gal_list1[i].df\n",
    "    df2 = gal_list2[i].df\n",
    "    \n",
    "    df1 = df1.dropna()\n",
    "    df2 = df2.dropna()\n",
    "    \n",
    "    df1 = df1[(df1['$r/r_e$'] <= 1) & (df1['$r/r_e$'] >= 0.1)]\n",
    "    df1 = df1[(df1.Comp == 0) & (df1.AGN == 0) & (df1.Seyfert == 0) & (df1.Liner == 0)]\n",
    "    df1 = df1[(df1['S/N $H_{\\\\alpha}$'] >= 3) & (df1['S/N $H_{\\\\beta}$'] >= 3)]\n",
    "    \n",
    "    df2 = df2[(df2['$r/r_e$'] <= 1) & (df2['$r/r_e$'] >= 0.1)]\n",
    "    df2 = df2[(df2.Comp == 0) & (df2.AGN == 0) & (df2.Seyfert == 0) & (df2.Liner == 0)]\n",
    "    df2 = df2[(df2['S/N $H_{\\\\alpha}$'] >= 3) & (df2['S/N $H_{\\\\beta}$'] >= 3)]\n",
    "    \n",
    "    sfr1 = df1.SFR.sum()\n",
    "    sfr_stdv1 = np.sqrt(gal_list1[i].get_var(df1.index, mode='sfr', avg=False))\n",
    "    \n",
    "    sfr2, sfr_stdv2 = gal_list2[i].get_sfr(df2.index, avg=False)\n",
    "    \n",
    "    tot_sfrs1.append(sfr1)\n",
    "    tot_sfr_stdvs1.append(sfr_stdv1)\n",
    "    \n",
    "    tot_sfrs2.append(sfr2)\n",
    "    tot_sfr_stdvs2.append(sfr_stdv2)"
   ]
  },
  {
   "cell_type": "code",
   "execution_count": null,
   "metadata": {},
   "outputs": [],
   "source": []
  }
 ],
 "metadata": {
  "kernelspec": {
   "display_name": "Python 3",
   "language": "python",
   "name": "python3"
  },
  "language_info": {
   "codemirror_mode": {
    "name": "ipython",
    "version": 3
   },
   "file_extension": ".py",
   "mimetype": "text/x-python",
   "name": "python",
   "nbconvert_exporter": "python",
   "pygments_lexer": "ipython3",
   "version": "3.5.2"
  }
 },
 "nbformat": 4,
 "nbformat_minor": 2
}
