{
 "cells": [
  {
   "cell_type": "code",
   "execution_count": 1,
   "metadata": {},
   "outputs": [],
   "source": [
    "import numpy as np\n",
    "import pandas as pd"
   ]
  },
  {
   "cell_type": "code",
   "execution_count": 2,
   "metadata": {},
   "outputs": [
    {
     "name": "stderr",
     "output_type": "stream",
     "text": [
      "/home/sshamsi/miniconda3/envs/marvin/lib/python3.7/site-packages/marvin/core/exceptions.py:51: UserWarning: cannot initiate Sentry error reporting: [Errno 25] Inappropriate ioctl for device.\n",
      "  UserWarning)\n"
     ]
    },
    {
     "name": "stdout",
     "output_type": "stream",
     "text": [
      "INFO: No release version set. Setting default to MPL-9\n"
     ]
    },
    {
     "name": "stderr",
     "output_type": "stream",
     "text": [
      "\n",
      "Bad key \"text.kerning_factor\" on line 4 in\n",
      "/home/sshamsi/miniconda3/envs/marvin/lib/python3.7/site-packages/matplotlib/mpl-data/stylelib/_classic_test_patch.mplstyle.\n",
      "You probably need to get an updated matplotlibrc file from\n",
      "https://github.com/matplotlib/matplotlib/blob/v3.1.3/matplotlibrc.template\n",
      "or from the matplotlib source distribution\n",
      "/home/sshamsi/miniconda3/envs/marvin/lib/python3.7/importlib/_bootstrap.py:219: RuntimeWarning: numpy.ufunc size changed, may indicate binary incompatibility. Expected 192 from C header, got 216 from PyObject\n",
      "  return f(*args, **kwds)\n",
      "/home/sshamsi/miniconda3/envs/marvin/lib/python3.7/importlib/_bootstrap.py:219: RuntimeWarning: numpy.ufunc size changed, may indicate binary incompatibility. Expected 192 from C header, got 216 from PyObject\n",
      "  return f(*args, **kwds)\n"
     ]
    }
   ],
   "source": [
    "from marvin.tools.maps import Maps"
   ]
  },
  {
   "cell_type": "code",
   "execution_count": 7,
   "metadata": {},
   "outputs": [],
   "source": [
    "import sys\n",
    "sys.path.insert(0, '/home/sshamsi/spirals/GZ3D_production')\n",
    "\n",
    "import gz3d_fits"
   ]
  },
  {
   "cell_type": "code",
   "execution_count": 9,
   "metadata": {},
   "outputs": [],
   "source": [
    "import os"
   ]
  },
  {
   "cell_type": "code",
   "execution_count": null,
   "metadata": {},
   "outputs": [],
   "source": [
    "def append_directory(path):\n",
    "    fits_list = []\n",
    "    \n",
    "    for root, dirs, files in os.walk(path):\n",
    "        for file in files:\n",
    "            if file.endswith(\".fits.gz\"):\n",
    "                element = str(path) + str(file)\n",
    "                fits_list.append(element)\n",
    "    return fits_list"
   ]
  },
  {
   "cell_type": "code",
   "execution_count": 3,
   "metadata": {},
   "outputs": [
    {
     "name": "stderr",
     "output_type": "stream",
     "text": [
      "/home/sshamsi/miniconda3/envs/marvin/lib/python3.7/importlib/_bootstrap.py:219: RuntimeWarning: numpy.ufunc size changed, may indicate binary incompatibility. Expected 192 from C header, got 216 from PyObject\n",
      "  return f(*args, **kwds)\n"
     ]
    }
   ],
   "source": [
    "maps = Maps(\"1-134293\")"
   ]
  },
  {
   "cell_type": "code",
   "execution_count": 4,
   "metadata": {},
   "outputs": [],
   "source": [
    "hamap = maps.emline_gflux_ha_6564\n",
    "hbmap = maps.emline_gflux_hb_4862"
   ]
  },
  {
   "cell_type": "code",
   "execution_count": 5,
   "metadata": {},
   "outputs": [],
   "source": [
    "bpt_masks = maps.get_bpt(return_figure=False, show_plot=False)\n",
    "\n",
    "comp = bpt_masks['comp']['global']\n",
    "agn = bpt_masks['agn']['global']\n",
    "seyfert = bpt_masks['seyfert']['global']\n",
    "liner = bpt_masks['liner']['global']"
   ]
  },
  {
   "cell_type": "code",
   "execution_count": null,
   "metadata": {},
   "outputs": [],
   "source": [
    "data = gz3d_fits()"
   ]
  },
  {
   "cell_type": "code",
   "execution_count": null,
   "metadata": {},
   "outputs": [],
   "source": [
    "data.make_all_spaxel_masks(grid_size = self.map_shape)\n",
    "self.arms_spaxel_mask = self.data.spiral_mask_spaxel > 3"
   ]
  },
  {
   "cell_type": "code",
   "execution_count": 6,
   "metadata": {},
   "outputs": [],
   "source": [
    "def make_spax_dict(hamap, hbmap, comp, agn, seyfert, liner):\n",
    "        dict_list = []\n",
    "        \n",
    "        a, b = hamap.shape\n",
    "        k, h = (a - 1) / 2.0, (b - 1) / 2.0 #map centre\n",
    "                \n",
    "        for y, x in [(y, x) for y in range(a) for x in range(b)]:\n",
    "            if (hamap.mask[y, x] & 1073741824 != 0) or (hamap[y, x].value <= 0):\n",
    "                dict_list.append({'radius': np.nan, 'ha_flux': np.nan, 'sig_ha_flux': np.nan,\n",
    "                                  'hb_flux': np.nan, 'sig_hb_flux': np.nan, 'spiral_arm': np.nan,\n",
    "                                  'comp': np.nan, 'agn': np.nan, 'seyfert': np.nan, 'liner': np.nan})\n",
    "                continue\n",
    "                \n",
    "            ha_flux = hamap[y, x].value\n",
    "            ha_stdv = hamap[y, x].error.value\n",
    "            \n",
    "            if self.arms_spaxel_mask[y, x]:\n",
    "                spax_type = 1\n",
    "            else:\n",
    "                spax_type = 0\n",
    "                \n",
    "            \n",
    "            if self.comp[y, x]:\n",
    "                comp = 1\n",
    "            else:\n",
    "                comp = 0\n",
    "                \n",
    "            if self.agn[y, x]:\n",
    "                agn = 1\n",
    "            else:\n",
    "                agn = 0\n",
    "                \n",
    "            if self.seyfert[y, x]:\n",
    "                seyfert = 1\n",
    "            else:\n",
    "                seyfert = 0\n",
    "                \n",
    "            if self.liner[y, x]:\n",
    "                liner = 1\n",
    "            else:\n",
    "                liner = 0\n",
    "                \n",
    "            j, i = (-1 * (y - k), x - h) #vector from centre\n",
    "            \n",
    "            spax_angle = (np.arctan(j / i)) - self.theta\n",
    "            vec_len = (j**2.0 + i**2.0)**0.5\n",
    "            r = vec_len * ((np.cos(spax_angle))**2.0 + ((np.sin(spax_angle))/self.elpetro_ba)**2.0)**0.5\n",
    "            \n",
    "            if (self.hbmap.mask[y, x] & 1073741824 != 0 or self.hbmap[y, x].value <= 0):\n",
    "                dict_list.append({'radius': r, 'ha_flux': ha_flux, 'sig_ha_flux': ha_stdv,\n",
    "                                  'hb_flux': np.nan, 'sig_hb_flux': np.nan, 'spiral_arm': spax_type,\n",
    "                                  'comp': comp, 'agn': agn, 'seyfert': seyfert, 'liner': liner})\n",
    "            else:\n",
    "                hb_flux = self.hbmap[y, x].value\n",
    "                hb_stdv = self.hbmap[y, x].error.value\n",
    "                \n",
    "                dict_list.append({'radius': r, 'ha_flux': ha_flux, 'sig_ha_flux': ha_stdv,\n",
    "                                  'hb_flux': hb_flux, 'sig_hb_flux': hb_stdv, 'spiral_arm': spax_type,\n",
    "                                  'comp': comp, 'agn': agn, 'seyfert': seyfert, 'liner': liner})\n",
    "                \n",
    "        return dict_list"
   ]
  },
  {
   "cell_type": "code",
   "execution_count": null,
   "metadata": {},
   "outputs": [],
   "source": [
    "def make_radius_list(hamap):\n",
    "        dict_list = []\n",
    "        \n",
    "        a, b = self.map_shape\n",
    "        k, h = (a - 1) / 2.0, (b - 1) / 2.0 #map centre\n",
    "                \n",
    "        for y, x in [(y, x) for y in range(a) for x in range(b)]:\n",
    "            if (self.hamap.mask[y, x] & 1073741824 != 0) or (self.hamap[y, x].value <= 0):\n",
    "                dict_list.append({'radius': np.nan, 'ha_flux': np.nan, 'sig_ha_flux': np.nan,\n",
    "                                  'hb_flux': np.nan, 'sig_hb_flux': np.nan, 'spiral_arm': np.nan,\n",
    "                                  'comp': np.nan, 'agn': np.nan, 'seyfert': np.nan, 'liner': np.nan})\n",
    "                continue\n",
    "                \n",
    "            ha_flux = self.hamap[y, x].value\n",
    "            ha_stdv = self.hamap[y, x].error.value\n",
    "            \n",
    "            if self.arms_spaxel_mask[y, x]:\n",
    "                spax_type = 1\n",
    "            else:\n",
    "                spax_type = 0\n",
    "                \n",
    "            \n",
    "            if self.comp[y, x]:\n",
    "                comp = 1\n",
    "            else:\n",
    "                comp = 0\n",
    "                \n",
    "            if self.agn[y, x]:\n",
    "                agn = 1\n",
    "            else:\n",
    "                agn = 0\n",
    "                \n",
    "            if self.seyfert[y, x]:\n",
    "                seyfert = 1\n",
    "            else:\n",
    "                seyfert = 0\n",
    "                \n",
    "            if self.liner[y, x]:\n",
    "                liner = 1\n",
    "            else:\n",
    "                liner = 0\n",
    "                \n",
    "            j, i = (-1 * (y - k), x - h) #vector from centre\n",
    "            \n",
    "            spax_angle = (np.arctan(j / i)) - self.theta\n",
    "            vec_len = (j**2.0 + i**2.0)**0.5\n",
    "            r = vec_len * ((np.cos(spax_angle))**2.0 + ((np.sin(spax_angle))/self.elpetro_ba)**2.0)**0.5\n",
    "            \n",
    "            if (self.hbmap.mask[y, x] & 1073741824 != 0 or self.hbmap[y, x].value <= 0):\n",
    "                dict_list.append({'radius': r, 'ha_flux': ha_flux, 'sig_ha_flux': ha_stdv,\n",
    "                                  'hb_flux': np.nan, 'sig_hb_flux': np.nan, 'spiral_arm': spax_type,\n",
    "                                  'comp': comp, 'agn': agn, 'seyfert': seyfert, 'liner': liner})\n",
    "            else:\n",
    "                hb_flux = self.hbmap[y, x].value\n",
    "                hb_stdv = self.hbmap[y, x].error.value\n",
    "                \n",
    "                dict_list.append({'radius': r, 'ha_flux': ha_flux, 'sig_ha_flux': ha_stdv,\n",
    "                                  'hb_flux': hb_flux, 'sig_hb_flux': hb_stdv, 'spiral_arm': spax_type,\n",
    "                                  'comp': comp, 'agn': agn, 'seyfert': seyfert, 'liner': liner})\n",
    "                \n",
    "        return dict_list"
   ]
  }
 ],
 "metadata": {
  "kernelspec": {
   "display_name": "Python 3",
   "language": "python",
   "name": "python3"
  },
  "language_info": {
   "codemirror_mode": {
    "name": "ipython",
    "version": 3
   },
   "file_extension": ".py",
   "mimetype": "text/x-python",
   "name": "python",
   "nbconvert_exporter": "python",
   "pygments_lexer": "ipython3",
   "version": "3.7.7"
  }
 },
 "nbformat": 4,
 "nbformat_minor": 4
}
