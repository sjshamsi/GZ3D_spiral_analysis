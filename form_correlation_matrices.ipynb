{
 "cells": [
  {
   "cell_type": "markdown",
   "metadata": {},
   "source": [
    "# Forming correlation matrices for all map shapes"
   ]
  },
  {
   "cell_type": "markdown",
   "metadata": {},
   "source": [
    "We'll get a list of all shapes in our sample"
   ]
  },
  {
   "cell_type": "code",
   "execution_count": 17,
   "metadata": {},
   "outputs": [],
   "source": [
    "#import required modules\n",
    "import numpy as np\n",
    "import matplotlib.pyplot as plt"
   ]
  },
  {
   "cell_type": "code",
   "execution_count": 18,
   "metadata": {},
   "outputs": [],
   "source": [
    "shape_list = np.load('shape_list.npy')"
   ]
  },
  {
   "cell_type": "markdown",
   "metadata": {},
   "source": [
    "This function will create a correlation matrix given an emission map shape."
   ]
  },
  {
   "cell_type": "code",
   "execution_count": 19,
   "metadata": {},
   "outputs": [],
   "source": [
    "def form_corr_matrix(shape):\n",
    "    r, c = shape\n",
    "    \n",
    "    if r != c:\n",
    "        raise ValueError(\"r != c, the dimestions of emission map aren't equal!\")\n",
    "        \n",
    "    corr_matrix = np.zeros((r**2, r**2))\n",
    "    \n",
    "    for i in range(r**2):\n",
    "        for j in range(i, r**2):\n",
    "            if i == j:\n",
    "                corr_matrix[i, j] = 1\n",
    "                continue\n",
    "                \n",
    "            y1 = i // r\n",
    "            x1 = i % r\n",
    "            \n",
    "            y2 = j // r\n",
    "            x2 = j % r\n",
    "            \n",
    "            dist = np.sqrt((x1 - x2)**2 + (y1 - y2)**2)\n",
    "            \n",
    "            if dist < 6.4:\n",
    "                rho = np.exp(-0.5 * (dist / 1.9)**2)\n",
    "            else:\n",
    "                rho = 0\n",
    "                \n",
    "            corr_matrix[i, j] = rho\n",
    "            corr_matrix[j, i] = rho\n",
    "            \n",
    "    return corr_matrix"
   ]
  },
  {
   "cell_type": "markdown",
   "metadata": {},
   "source": [
    "We'll save these matrices"
   ]
  },
  {
   "cell_type": "code",
   "execution_count": 20,
   "metadata": {
    "scrolled": true
   },
   "outputs": [],
   "source": [
    "for shape in shape_list:\n",
    "    np.save('corr_matrices/corr_matrix' + str(shape[0]), form_corr_matrix(shape))"
   ]
  },
  {
   "cell_type": "markdown",
   "metadata": {},
   "source": [
    "The old correlation function"
   ]
  },
  {
   "cell_type": "code",
   "execution_count": 4,
   "metadata": {},
   "outputs": [],
   "source": [
    "def form_corr_matrix2(shape):\n",
    "    r, c = shape\n",
    "    \n",
    "    if r != c:\n",
    "        raise ValueError(\"r != c, the dimestions of emission map aren't equal!\")\n",
    "        \n",
    "    corr_matrix = np.zeros((r**2, r**2))\n",
    "    \n",
    "    for i in range(r):\n",
    "        for j in range(r):\n",
    "            \n",
    "            for k in range(r):\n",
    "                for h in range(r):\n",
    "                    dist = np.sqrt((i - k)**2 + (j - h)**2)\n",
    "                    \n",
    "                    if dist < 6.4:\n",
    "                        rho = np.exp(-0.5 * (dist / 1.9)**2)\n",
    "                    else:\n",
    "                        rho = 0\n",
    "                    \n",
    "                    corr_matrix[(i * r) + j, (k * r) + h] = rho\n",
    "                    \n",
    "    return corr_matrix"
   ]
  },
  {
   "cell_type": "code",
   "execution_count": 5,
   "metadata": {
    "scrolled": false
   },
   "outputs": [
    {
     "name": "stdout",
     "output_type": "stream",
     "text": [
      "CPU times: user 25.5 s, sys: 36 ms, total: 25.6 s\n",
      "Wall time: 25.6 s\n"
     ]
    }
   ],
   "source": [
    "%%time\n",
    "coor = form_corr_matrix(shape_list[3])"
   ]
  },
  {
   "cell_type": "code",
   "execution_count": 6,
   "metadata": {},
   "outputs": [
    {
     "name": "stdout",
     "output_type": "stream",
     "text": [
      "CPU times: user 39.4 s, sys: 36 ms, total: 39.4 s\n",
      "Wall time: 39.4 s\n"
     ]
    }
   ],
   "source": [
    "%%time\n",
    "coor2 = form_corr_matrix2(shape_list[3])"
   ]
  },
  {
   "cell_type": "code",
   "execution_count": null,
   "metadata": {},
   "outputs": [],
   "source": []
  }
 ],
 "metadata": {
  "kernelspec": {
   "display_name": "Python 3",
   "language": "python",
   "name": "python3"
  },
  "language_info": {
   "codemirror_mode": {
    "name": "ipython",
    "version": 3
   },
   "file_extension": ".py",
   "mimetype": "text/x-python",
   "name": "python",
   "nbconvert_exporter": "python",
   "pygments_lexer": "ipython3",
   "version": "3.5.2"
  }
 },
 "nbformat": 4,
 "nbformat_minor": 4
}
