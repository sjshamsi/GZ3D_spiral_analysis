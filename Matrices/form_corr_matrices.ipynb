{
 "cells": [
  {
   "cell_type": "markdown",
   "metadata": {},
   "source": [
    "# Forming correlation matrices for all map shapes"
   ]
  },
  {
   "cell_type": "markdown",
   "metadata": {},
   "source": [
    "We'll get a list of all shapes in our sample"
   ]
  },
  {
   "cell_type": "code",
   "execution_count": 15,
   "metadata": {},
   "outputs": [],
   "source": [
    "#import required modules\n",
    "import numpy as np\n",
    "import matplotlib.pyplot as plt\n",
    "\n",
    "import sys\n",
    "sys.path.insert(0, '/raid5/homes/sshamsi/galaxy_zoo/GZ3D_spiral_analysis/')\n",
    "\n",
    "from spiral_galaxy import SpiralGalaxy\n",
    "import os"
   ]
  },
  {
   "cell_type": "markdown",
   "metadata": {},
   "source": [
    "This function will create a correlation matrix given an emission map shape."
   ]
  },
  {
   "cell_type": "code",
   "execution_count": 16,
   "metadata": {},
   "outputs": [],
   "source": [
    "def form_corr_matrix(shape):\n",
    "    r, c = shape\n",
    "    \n",
    "    if r != c:\n",
    "        raise ValueError(\"r != c, the dimestions of emission map aren't equal!\")\n",
    "        \n",
    "    corr_matrix = np.zeros((r**2, r**2))\n",
    "    \n",
    "    for i in range(r**2):\n",
    "        for j in range(i, r**2):\n",
    "            if i == j:\n",
    "                corr_matrix[i, j] = 1\n",
    "                continue\n",
    "                \n",
    "            y1 = i // r\n",
    "            x1 = i % r\n",
    "            \n",
    "            y2 = j // r\n",
    "            x2 = j % r\n",
    "            \n",
    "            dist = np.sqrt((x1 - x2)**2 + (y1 - y2)**2)\n",
    "            \n",
    "            if dist < 6.4:\n",
    "                rho = np.exp(-0.5 * (dist / 1.9)**2)\n",
    "            else:\n",
    "                rho = 0\n",
    "                \n",
    "            corr_matrix[i, j] = rho\n",
    "            corr_matrix[j, i] = rho\n",
    "            \n",
    "    return corr_matrix"
   ]
  },
  {
   "cell_type": "code",
   "execution_count": 17,
   "metadata": {},
   "outputs": [],
   "source": [
    "def append_files(dir_path):\n",
    "    size_list = []\n",
    "    \n",
    "    for root, dirs, files in os.walk(dir_path):\n",
    "        for file in files:\n",
    "            if file.endswith(\".npy\"):\n",
    "                \n",
    "                \n",
    "    return size_list"
   ]
  },
  {
   "cell_type": "code",
   "execution_count": 4,
   "metadata": {},
   "outputs": [],
   "source": [
    "sizes_done = append_files('/raid5/homes/sshamsi/galaxy_zoo/GZ3D_spiral_analysis/forming_cov_matrices/corr_matrices/')\n",
    "available_gals = np.load('/raid5/homes/sshamsi/galaxy_zoo/GZ3D_spiral_analysis/available_v3_paths.npy')"
   ]
  },
  {
   "cell_type": "code",
   "execution_count": 6,
   "metadata": {},
   "outputs": [
    {
     "data": {
      "text/plain": [
       "['72',\n",
       " '74',\n",
       " '32',\n",
       " '62',\n",
       " '54',\n",
       " '44',\n",
       " '34',\n",
       " '42',\n",
       " '64',\n",
       " '76',\n",
       " '52',\n",
       " '66',\n",
       " '56',\n",
       " '80',\n",
       " '46',\n",
       " '36',\n",
       " '78',\n",
       " '58']"
      ]
     },
     "execution_count": 6,
     "metadata": {},
     "output_type": "execute_result"
    }
   ],
   "source": [
    "sizes_done"
   ]
  },
  {
   "cell_type": "code",
   "execution_count": 7,
   "metadata": {},
   "outputs": [
    {
     "data": {
      "text/plain": [
       "array(['/raid5/homes/sshamsi/sas/mangawork/manga/sandbox/galaxyzoo3d/v3_0_0/1-10166_91_14709872.fits.gz',\n",
       "       '/raid5/homes/sshamsi/sas/mangawork/manga/sandbox/galaxyzoo3d/v3_0_0/1-10177_37_14709873.fits.gz',\n",
       "       '/raid5/homes/sshamsi/sas/mangawork/manga/sandbox/galaxyzoo3d/v3_0_0/1-90779_91_14714922.fits.gz',\n",
       "       ...,\n",
       "       '/raid5/homes/sshamsi/sas/mangawork/manga/sandbox/galaxyzoo3d/v3_0_0/1-96597_127_14715301.fits.gz',\n",
       "       '/raid5/homes/sshamsi/sas/mangawork/manga/sandbox/galaxyzoo3d/v3_0_0/1-96632_127_14715302.fits.gz',\n",
       "       '/raid5/homes/sshamsi/sas/mangawork/manga/sandbox/galaxyzoo3d/v3_0_0/1-96747_127_14715307.fits.gz'],\n",
       "      dtype='<U97')"
      ]
     },
     "execution_count": 7,
     "metadata": {},
     "output_type": "execute_result"
    }
   ],
   "source": [
    "available_gals"
   ]
  },
  {
   "cell_type": "code",
   "execution_count": null,
   "metadata": {},
   "outputs": [
    {
     "name": "stdout",
     "output_type": "stream",
     "text": [
      "1\n"
     ]
    },
    {
     "name": "stderr",
     "output_type": "stream",
     "text": [
      "\u001b[1;33m[WARNING]: \u001b[0m\u001b[0;39mnp.asscalar(a) is deprecated since NumPy v1.16, use a.item() instead\u001b[0m \u001b[0;36m(DeprecationWarning)\u001b[0m\n"
     ]
    },
    {
     "name": "stdout",
     "output_type": "stream",
     "text": [
      "2\n"
     ]
    },
    {
     "name": "stderr",
     "output_type": "stream",
     "text": [
      "\u001b[1;33m[WARNING]: \u001b[0m\u001b[0;39mnp.asscalar(a) is deprecated since NumPy v1.16, use a.item() instead\u001b[0m \u001b[0;36m(DeprecationWarning)\u001b[0m\n"
     ]
    },
    {
     "name": "stdout",
     "output_type": "stream",
     "text": [
      "3\n"
     ]
    },
    {
     "name": "stderr",
     "output_type": "stream",
     "text": [
      "\u001b[1;33m[WARNING]: \u001b[0m\u001b[0;39mnp.asscalar(a) is deprecated since NumPy v1.16, use a.item() instead\u001b[0m \u001b[0;36m(DeprecationWarning)\u001b[0m\n"
     ]
    },
    {
     "name": "stdout",
     "output_type": "stream",
     "text": [
      "4\n"
     ]
    },
    {
     "name": "stderr",
     "output_type": "stream",
     "text": [
      "\u001b[1;33m[WARNING]: \u001b[0m\u001b[0;39mnp.asscalar(a) is deprecated since NumPy v1.16, use a.item() instead\u001b[0m \u001b[0;36m(DeprecationWarning)\u001b[0m\n"
     ]
    },
    {
     "name": "stdout",
     "output_type": "stream",
     "text": [
      "5\n"
     ]
    },
    {
     "name": "stderr",
     "output_type": "stream",
     "text": [
      "\u001b[1;33m[WARNING]: \u001b[0m\u001b[0;39mnp.asscalar(a) is deprecated since NumPy v1.16, use a.item() instead\u001b[0m \u001b[0;36m(DeprecationWarning)\u001b[0m\n"
     ]
    },
    {
     "name": "stdout",
     "output_type": "stream",
     "text": [
      "6\n"
     ]
    },
    {
     "name": "stderr",
     "output_type": "stream",
     "text": [
      "\u001b[1;33m[WARNING]: \u001b[0m\u001b[0;39mnp.asscalar(a) is deprecated since NumPy v1.16, use a.item() instead\u001b[0m \u001b[0;36m(DeprecationWarning)\u001b[0m\n"
     ]
    },
    {
     "name": "stdout",
     "output_type": "stream",
     "text": [
      "7\n"
     ]
    },
    {
     "name": "stderr",
     "output_type": "stream",
     "text": [
      "\u001b[1;33m[WARNING]: \u001b[0m\u001b[0;39mmore than one plate-ifu found for mangaid=1-908. Using the one with the highest SN2.\u001b[0m \u001b[0;36m(MarvinUserWarning)\u001b[0m\n",
      "\u001b[1;33m[WARNING]: \u001b[0m\u001b[0;39mmore than one plate-ifu found for mangaid=1-908. Using the one with the highest SN2.\u001b[0m \u001b[0;36m(MarvinUserWarning)\u001b[0m\n",
      "\u001b[1;33m[WARNING]: \u001b[0m\u001b[0;39mnp.asscalar(a) is deprecated since NumPy v1.16, use a.item() instead\u001b[0m \u001b[0;36m(DeprecationWarning)\u001b[0m\n"
     ]
    },
    {
     "name": "stdout",
     "output_type": "stream",
     "text": [
      "8\n"
     ]
    },
    {
     "name": "stderr",
     "output_type": "stream",
     "text": [
      "\u001b[1;33m[WARNING]: \u001b[0m\u001b[0;39mnp.asscalar(a) is deprecated since NumPy v1.16, use a.item() instead\u001b[0m \u001b[0;36m(DeprecationWarning)\u001b[0m\n"
     ]
    },
    {
     "name": "stdout",
     "output_type": "stream",
     "text": [
      "9\n"
     ]
    },
    {
     "name": "stderr",
     "output_type": "stream",
     "text": [
      "\u001b[1;33m[WARNING]: \u001b[0m\u001b[0;39mmore than one plate-ifu found for mangaid=1-1033. Using the one with the highest SN2.\u001b[0m \u001b[0;36m(MarvinUserWarning)\u001b[0m\n",
      "\u001b[1;33m[WARNING]: \u001b[0m\u001b[0;39mmore than one plate-ifu found for mangaid=1-1033. Using the one with the highest SN2.\u001b[0m \u001b[0;36m(MarvinUserWarning)\u001b[0m\n",
      "\u001b[1;33m[WARNING]: \u001b[0m\u001b[0;39mnp.asscalar(a) is deprecated since NumPy v1.16, use a.item() instead\u001b[0m \u001b[0;36m(DeprecationWarning)\u001b[0m\n"
     ]
    },
    {
     "name": "stdout",
     "output_type": "stream",
     "text": [
      "10\n"
     ]
    },
    {
     "name": "stderr",
     "output_type": "stream",
     "text": [
      "\u001b[1;33m[WARNING]: \u001b[0m\u001b[0;39mnp.asscalar(a) is deprecated since NumPy v1.16, use a.item() instead\u001b[0m \u001b[0;36m(DeprecationWarning)\u001b[0m\n"
     ]
    },
    {
     "name": "stdout",
     "output_type": "stream",
     "text": [
      "11\n"
     ]
    },
    {
     "name": "stderr",
     "output_type": "stream",
     "text": [
      "\u001b[1;33m[WARNING]: \u001b[0m\u001b[0;39mnp.asscalar(a) is deprecated since NumPy v1.16, use a.item() instead\u001b[0m \u001b[0;36m(DeprecationWarning)\u001b[0m\n"
     ]
    },
    {
     "name": "stdout",
     "output_type": "stream",
     "text": [
      "12\n"
     ]
    },
    {
     "name": "stderr",
     "output_type": "stream",
     "text": [
      "\u001b[1;33m[WARNING]: \u001b[0m\u001b[0;39mnp.asscalar(a) is deprecated since NumPy v1.16, use a.item() instead\u001b[0m \u001b[0;36m(DeprecationWarning)\u001b[0m\n"
     ]
    },
    {
     "name": "stdout",
     "output_type": "stream",
     "text": [
      "13\n"
     ]
    },
    {
     "name": "stderr",
     "output_type": "stream",
     "text": [
      "\u001b[1;33m[WARNING]: \u001b[0m\u001b[0;39mnp.asscalar(a) is deprecated since NumPy v1.16, use a.item() instead\u001b[0m \u001b[0;36m(DeprecationWarning)\u001b[0m\n"
     ]
    },
    {
     "name": "stdout",
     "output_type": "stream",
     "text": [
      "14\n"
     ]
    },
    {
     "name": "stderr",
     "output_type": "stream",
     "text": [
      "\u001b[1;33m[WARNING]: \u001b[0m\u001b[0;39mnp.asscalar(a) is deprecated since NumPy v1.16, use a.item() instead\u001b[0m \u001b[0;36m(DeprecationWarning)\u001b[0m\n"
     ]
    },
    {
     "name": "stdout",
     "output_type": "stream",
     "text": [
      "15\n"
     ]
    },
    {
     "name": "stderr",
     "output_type": "stream",
     "text": [
      "\u001b[1;33m[WARNING]: \u001b[0m\u001b[0;39mnp.asscalar(a) is deprecated since NumPy v1.16, use a.item() instead\u001b[0m \u001b[0;36m(DeprecationWarning)\u001b[0m\n"
     ]
    },
    {
     "name": "stdout",
     "output_type": "stream",
     "text": [
      "16\n"
     ]
    },
    {
     "name": "stderr",
     "output_type": "stream",
     "text": [
      "\u001b[1;33m[WARNING]: \u001b[0m\u001b[0;39mnp.asscalar(a) is deprecated since NumPy v1.16, use a.item() instead\u001b[0m \u001b[0;36m(DeprecationWarning)\u001b[0m\n"
     ]
    },
    {
     "name": "stdout",
     "output_type": "stream",
     "text": [
      "17\n"
     ]
    },
    {
     "name": "stderr",
     "output_type": "stream",
     "text": [
      "\u001b[1;33m[WARNING]: \u001b[0m\u001b[0;39mnp.asscalar(a) is deprecated since NumPy v1.16, use a.item() instead\u001b[0m \u001b[0;36m(DeprecationWarning)\u001b[0m\n"
     ]
    },
    {
     "name": "stdout",
     "output_type": "stream",
     "text": [
      "18\n"
     ]
    },
    {
     "name": "stderr",
     "output_type": "stream",
     "text": [
      "\u001b[1;33m[WARNING]: \u001b[0m\u001b[0;39mnp.asscalar(a) is deprecated since NumPy v1.16, use a.item() instead\u001b[0m \u001b[0;36m(DeprecationWarning)\u001b[0m\n"
     ]
    },
    {
     "name": "stdout",
     "output_type": "stream",
     "text": [
      "19\n"
     ]
    },
    {
     "name": "stderr",
     "output_type": "stream",
     "text": [
      "\u001b[1;33m[WARNING]: \u001b[0m\u001b[0;39mnp.asscalar(a) is deprecated since NumPy v1.16, use a.item() instead\u001b[0m \u001b[0;36m(DeprecationWarning)\u001b[0m\n"
     ]
    }
   ],
   "source": [
    "count = 0\n",
    "\n",
    "for path in available_gals:\n",
    "    count += 1\n",
    "    print(count)\n",
    "    \n",
    "    gal = SpiralGalaxy(path)\n",
    "    shape = gal.hamap.shape\n",
    "    ifusize = shape[0]\n",
    "    \n",
    "    if str(ifusize) in sizes_done:\n",
    "        print('Size already done.')\n",
    "        continue\n",
    "        \n",
    "    corr_matrix = form_corr_matrix(shape)\n",
    "    \n",
    "    np.save('corr_matrices/corr_matrix' + str(ifusize), corr_matrix)\n",
    "    print('New size corr saved!')"
   ]
  },
  {
   "cell_type": "code",
   "execution_count": null,
   "metadata": {},
   "outputs": [],
   "source": []
  }
 ],
 "metadata": {
  "kernelspec": {
   "display_name": "Python 3",
   "language": "python",
   "name": "python3"
  },
  "language_info": {
   "codemirror_mode": {
    "name": "ipython",
    "version": 3
   },
   "file_extension": ".py",
   "mimetype": "text/x-python",
   "name": "python",
   "nbconvert_exporter": "python",
   "pygments_lexer": "ipython3",
   "version": "3.9.2"
  }
 },
 "nbformat": 4,
 "nbformat_minor": 2
}
